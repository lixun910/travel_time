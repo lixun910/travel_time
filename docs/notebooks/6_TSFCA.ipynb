{
 "cells": [
  {
   "cell_type": "markdown",
   "metadata": {},
   "source": [
    "# Two Stage Floating Catchment Area DEMO"
   ]
  },
  {
   "cell_type": "markdown",
   "metadata": {},
   "source": [
    "Authors: [Irene Farah](https://www.linkedin.com/in/imfarah/),  [Julia Koschinsky](https://www.linkedin.com/in/julia-koschinsky-657599b1/), [Logan Noel](https://www.linkedin.com/in/lmnoel/).   \n",
    "Contact: [Julia Koschinsky](mailto:jkoschinsky@uchicago.edu)  \n",
    "\n",
    "Research assistance of [Shiv Agrawal](http://simonlab.uchicago.edu/people/ShivAgrawal.html), [Caitlyn Tien](https://www.linkedin.com/in/caitlyn-tien-0b784b161/) and [Richard Lu](https://www.linkedin.com/in/richard-lu-576874155/) is gratefully acknowledged.\n",
    "\n",
    "Center for Spatial Data Science  \n",
    "University of Chicago  \n",
    "\n",
    "July 30, 2019"
   ]
  },
  {
   "cell_type": "markdown",
   "metadata": {},
   "source": [
    "---\n",
    "\n",
    "This notebook calculates the Two Stage Floating Catchment Area (TSFCA) model, using the travel time matrix as an input -- in this case, access to per capita spending for different types of health services. \n",
    "\n",
    "TSFCA Models are a type of gravity model popularized by Luo and Wang in 2003 to estimate spatial access gaps to primary care. They are calculated in two stages (using the primary care example): In a first stage, the ratio of doctors to the nearby population is calculated for every provider. In the 2nd stage, these ratios are summed for every point of origin (such as a tract centroid) within a travel threshold. In other words, the ratio of doctors to people is first calculated for the catchment areas of doctors (1st stage) and then summed for the catchment areas around people's point of origins, like their home (2nd stage). \n",
    "\n",
    "Each model follows the same procedure as the one presented in access models:\n",
    "\n",
    "1. Define the model by providing the appropriate arguments \n",
    "2. Calculate the model  \n",
    "3. Subset, aggregate, plot the results (optional)\n",
    "4. Save the result as a csv or tmx file \n",
    "\n",
    "Each of these steps are demonstrated below."
   ]
  },
  {
   "cell_type": "markdown",
   "metadata": {},
   "source": [
    "---\n",
    "\n",
    "**_Standard Data Requirements_**  \n",
    "Each model uses inputs from both the sources and destination csv files. Destinations need to be constrained to the spatial extent of the origins.\n",
    "\n",
    "* Source File\n",
    "    * Unique index identifier (**ID**) (integer or real)  \n",
    "    * **Latitude** and **longitude** coordinates (real)\n",
    "    * To aggregate: **larger areal ID**  \n",
    "    * **Population** within the areal unit  \n",
    "    \n",
    "* Destination File\n",
    "    * Unique index identifier (**ID**) (integer or real)\n",
    "    * **Latitude** and **longitude** coordinates (real)\n",
    "    * **Category** for each type of facility\n",
    "    * **Capacity** for each facility\n",
    "    * To aggregate: **larger areal ID**"
   ]
  },
  {
   "cell_type": "code",
   "execution_count": null,
   "metadata": {},
   "outputs": [],
   "source": [
    "cd ../.."
   ]
  },
  {
   "cell_type": "code",
   "execution_count": null,
   "metadata": {},
   "outputs": [],
   "source": [
    "# Import modules\n",
    "from spatial_access.p2p import *\n",
    "from spatial_access.Models import *"
   ]
  },
  {
   "cell_type": "code",
   "execution_count": 3,
   "metadata": {},
   "outputs": [],
   "source": [
    "# View sources and destinations for Chicago health facilities\n",
    "import pandas as pd\n",
    "sources_df = pd.read_csv('./data/input_data/sources/tracts2010.csv')\n",
    "dests_df = pd.read_csv('./data/input_data/destinations/health_chicago.csv')"
   ]
  },
  {
   "cell_type": "markdown",
   "metadata": {},
   "source": [
    "**Read in travel time matrix generated in [1_matrix.ipynb](./1_matrix.ipynb)**:"
   ]
  },
  {
   "cell_type": "code",
   "execution_count": 4,
   "metadata": {},
   "outputs": [],
   "source": [
    "matrix_df = pd.read_csv('./data/output_data/matrices/walk_asym_health_tracts.csv')"
   ]
  },
  {
   "cell_type": "code",
   "execution_count": 5,
   "metadata": {},
   "outputs": [
    {
     "data": {
      "text/html": [
       "<div>\n",
       "<style scoped>\n",
       "    .dataframe tbody tr th:only-of-type {\n",
       "        vertical-align: middle;\n",
       "    }\n",
       "\n",
       "    .dataframe tbody tr th {\n",
       "        vertical-align: top;\n",
       "    }\n",
       "\n",
       "    .dataframe thead th {\n",
       "        text-align: right;\n",
       "    }\n",
       "</style>\n",
       "<table border=\"1\" class=\"dataframe\">\n",
       "  <thead>\n",
       "    <tr style=\"text-align: right;\">\n",
       "      <th></th>\n",
       "      <th>geoid10</th>\n",
       "      <th>lon</th>\n",
       "      <th>lat</th>\n",
       "      <th>Pop2014</th>\n",
       "      <th>Pov14</th>\n",
       "      <th>community</th>\n",
       "    </tr>\n",
       "  </thead>\n",
       "  <tbody>\n",
       "    <tr>\n",
       "      <th>0</th>\n",
       "      <td>17031842400</td>\n",
       "      <td>-87.630040</td>\n",
       "      <td>41.742475</td>\n",
       "      <td>5157</td>\n",
       "      <td>769</td>\n",
       "      <td>44</td>\n",
       "    </tr>\n",
       "    <tr>\n",
       "      <th>1</th>\n",
       "      <td>17031840300</td>\n",
       "      <td>-87.681882</td>\n",
       "      <td>41.832094</td>\n",
       "      <td>5881</td>\n",
       "      <td>1021</td>\n",
       "      <td>59</td>\n",
       "    </tr>\n",
       "    <tr>\n",
       "      <th>2</th>\n",
       "      <td>17031841100</td>\n",
       "      <td>-87.635098</td>\n",
       "      <td>41.851006</td>\n",
       "      <td>3363</td>\n",
       "      <td>2742</td>\n",
       "      <td>34</td>\n",
       "    </tr>\n",
       "    <tr>\n",
       "      <th>3</th>\n",
       "      <td>17031841200</td>\n",
       "      <td>-87.683342</td>\n",
       "      <td>41.855562</td>\n",
       "      <td>3710</td>\n",
       "      <td>1819</td>\n",
       "      <td>31</td>\n",
       "    </tr>\n",
       "    <tr>\n",
       "      <th>4</th>\n",
       "      <td>17031838200</td>\n",
       "      <td>-87.675079</td>\n",
       "      <td>41.870416</td>\n",
       "      <td>3296</td>\n",
       "      <td>361</td>\n",
       "      <td>28</td>\n",
       "    </tr>\n",
       "  </tbody>\n",
       "</table>\n",
       "</div>"
      ],
      "text/plain": [
       "       geoid10        lon        lat  Pop2014  Pov14  community\n",
       "0  17031842400 -87.630040  41.742475     5157    769         44\n",
       "1  17031840300 -87.681882  41.832094     5881   1021         59\n",
       "2  17031841100 -87.635098  41.851006     3363   2742         34\n",
       "3  17031841200 -87.683342  41.855562     3710   1819         31\n",
       "4  17031838200 -87.675079  41.870416     3296    361         28"
      ]
     },
     "execution_count": 5,
     "metadata": {},
     "output_type": "execute_result"
    }
   ],
   "source": [
    "sources_df.head()"
   ]
  },
  {
   "cell_type": "code",
   "execution_count": 6,
   "metadata": {},
   "outputs": [
    {
     "data": {
      "text/html": [
       "<div>\n",
       "<style scoped>\n",
       "    .dataframe tbody tr th:only-of-type {\n",
       "        vertical-align: middle;\n",
       "    }\n",
       "\n",
       "    .dataframe tbody tr th {\n",
       "        vertical-align: top;\n",
       "    }\n",
       "\n",
       "    .dataframe thead th {\n",
       "        text-align: right;\n",
       "    }\n",
       "</style>\n",
       "<table border=\"1\" class=\"dataframe\">\n",
       "  <thead>\n",
       "    <tr style=\"text-align: right;\">\n",
       "      <th></th>\n",
       "      <th>ID</th>\n",
       "      <th>Facility</th>\n",
       "      <th>lat</th>\n",
       "      <th>lon</th>\n",
       "      <th>Type</th>\n",
       "      <th>capacity</th>\n",
       "      <th>category</th>\n",
       "      <th>community</th>\n",
       "    </tr>\n",
       "  </thead>\n",
       "  <tbody>\n",
       "    <tr>\n",
       "      <th>0</th>\n",
       "      <td>1</td>\n",
       "      <td>American Indian Health Service of Chicago, Inc.</td>\n",
       "      <td>41.956676</td>\n",
       "      <td>-87.651879</td>\n",
       "      <td>5</td>\n",
       "      <td>127000</td>\n",
       "      <td>Other Health Providers</td>\n",
       "      <td>3</td>\n",
       "    </tr>\n",
       "    <tr>\n",
       "      <th>1</th>\n",
       "      <td>2</td>\n",
       "      <td>Hamdard Center for Health and Human Services</td>\n",
       "      <td>41.997852</td>\n",
       "      <td>-87.669535</td>\n",
       "      <td>5</td>\n",
       "      <td>190000</td>\n",
       "      <td>Other Health Providers</td>\n",
       "      <td>77</td>\n",
       "    </tr>\n",
       "    <tr>\n",
       "      <th>2</th>\n",
       "      <td>3</td>\n",
       "      <td>Infant Welfare Society of Chicago</td>\n",
       "      <td>41.924904</td>\n",
       "      <td>-87.717270</td>\n",
       "      <td>5</td>\n",
       "      <td>137000</td>\n",
       "      <td>Other Health Providers</td>\n",
       "      <td>22</td>\n",
       "    </tr>\n",
       "    <tr>\n",
       "      <th>3</th>\n",
       "      <td>4</td>\n",
       "      <td>Mercy Family - Henry Booth House Family Health...</td>\n",
       "      <td>41.841694</td>\n",
       "      <td>-87.624790</td>\n",
       "      <td>5</td>\n",
       "      <td>159000</td>\n",
       "      <td>Other Health Providers</td>\n",
       "      <td>35</td>\n",
       "    </tr>\n",
       "    <tr>\n",
       "      <th>4</th>\n",
       "      <td>6</td>\n",
       "      <td>Cook County - Dr. Jorge Prieto Health Center</td>\n",
       "      <td>41.847143</td>\n",
       "      <td>-87.724975</td>\n",
       "      <td>5</td>\n",
       "      <td>166000</td>\n",
       "      <td>Other Health Providers</td>\n",
       "      <td>30</td>\n",
       "    </tr>\n",
       "  </tbody>\n",
       "</table>\n",
       "</div>"
      ],
      "text/plain": [
       "   ID                                           Facility        lat  \\\n",
       "0   1    American Indian Health Service of Chicago, Inc.  41.956676   \n",
       "1   2       Hamdard Center for Health and Human Services  41.997852   \n",
       "2   3                  Infant Welfare Society of Chicago  41.924904   \n",
       "3   4  Mercy Family - Henry Booth House Family Health...  41.841694   \n",
       "4   6       Cook County - Dr. Jorge Prieto Health Center  41.847143   \n",
       "\n",
       "         lon  Type  capacity                category  community  \n",
       "0 -87.651879     5    127000  Other Health Providers          3  \n",
       "1 -87.669535     5    190000  Other Health Providers         77  \n",
       "2 -87.717270     5    137000  Other Health Providers         22  \n",
       "3 -87.624790     5    159000  Other Health Providers         35  \n",
       "4 -87.724975     5    166000  Other Health Providers         30  "
      ]
     },
     "execution_count": 6,
     "metadata": {},
     "output_type": "execute_result"
    }
   ],
   "source": [
    "#Note that the capacity field is not real but only for demo purposes\n",
    "dests_df.head()"
   ]
  },
  {
   "cell_type": "code",
   "execution_count": 7,
   "metadata": {},
   "outputs": [
    {
     "data": {
      "text/html": [
       "<div>\n",
       "<style scoped>\n",
       "    .dataframe tbody tr th:only-of-type {\n",
       "        vertical-align: middle;\n",
       "    }\n",
       "\n",
       "    .dataframe tbody tr th {\n",
       "        vertical-align: top;\n",
       "    }\n",
       "\n",
       "    .dataframe thead th {\n",
       "        text-align: right;\n",
       "    }\n",
       "</style>\n",
       "<table border=\"1\" class=\"dataframe\">\n",
       "  <thead>\n",
       "    <tr style=\"text-align: right;\">\n",
       "      <th></th>\n",
       "      <th>Unnamed: 0</th>\n",
       "      <th>1</th>\n",
       "      <th>2</th>\n",
       "      <th>3</th>\n",
       "      <th>4</th>\n",
       "      <th>6</th>\n",
       "      <th>8</th>\n",
       "      <th>9</th>\n",
       "      <th>10</th>\n",
       "      <th>11</th>\n",
       "      <th>...</th>\n",
       "      <th>198</th>\n",
       "      <th>199</th>\n",
       "      <th>200</th>\n",
       "      <th>201</th>\n",
       "      <th>202</th>\n",
       "      <th>203</th>\n",
       "      <th>204</th>\n",
       "      <th>205</th>\n",
       "      <th>206</th>\n",
       "      <th>Unnamed: 200</th>\n",
       "    </tr>\n",
       "  </thead>\n",
       "  <tbody>\n",
       "    <tr>\n",
       "      <th>0</th>\n",
       "      <td>17031842400</td>\n",
       "      <td>17870</td>\n",
       "      <td>21397</td>\n",
       "      <td>17892</td>\n",
       "      <td>8483</td>\n",
       "      <td>13529</td>\n",
       "      <td>12425</td>\n",
       "      <td>5704</td>\n",
       "      <td>16935</td>\n",
       "      <td>7565</td>\n",
       "      <td>...</td>\n",
       "      <td>13236</td>\n",
       "      <td>16767</td>\n",
       "      <td>11419</td>\n",
       "      <td>14396</td>\n",
       "      <td>10325</td>\n",
       "      <td>12874</td>\n",
       "      <td>9266</td>\n",
       "      <td>8919</td>\n",
       "      <td>1718</td>\n",
       "      <td>NaN</td>\n",
       "    </tr>\n",
       "    <tr>\n",
       "      <th>1</th>\n",
       "      <td>17031840300</td>\n",
       "      <td>11391</td>\n",
       "      <td>13937</td>\n",
       "      <td>8845</td>\n",
       "      <td>4120</td>\n",
       "      <td>3713</td>\n",
       "      <td>3939</td>\n",
       "      <td>6358</td>\n",
       "      <td>8448</td>\n",
       "      <td>3721</td>\n",
       "      <td>...</td>\n",
       "      <td>4671</td>\n",
       "      <td>7050</td>\n",
       "      <td>3438</td>\n",
       "      <td>22725</td>\n",
       "      <td>1777</td>\n",
       "      <td>4898</td>\n",
       "      <td>3682</td>\n",
       "      <td>4482</td>\n",
       "      <td>8430</td>\n",
       "      <td>NaN</td>\n",
       "    </tr>\n",
       "    <tr>\n",
       "      <th>2</th>\n",
       "      <td>17031841100</td>\n",
       "      <td>9050</td>\n",
       "      <td>12577</td>\n",
       "      <td>9155</td>\n",
       "      <td>1374</td>\n",
       "      <td>5748</td>\n",
       "      <td>4035</td>\n",
       "      <td>5015</td>\n",
       "      <td>8198</td>\n",
       "      <td>2295</td>\n",
       "      <td>...</td>\n",
       "      <td>4799</td>\n",
       "      <td>8430</td>\n",
       "      <td>3042</td>\n",
       "      <td>21403</td>\n",
       "      <td>4769</td>\n",
       "      <td>4410</td>\n",
       "      <td>525</td>\n",
       "      <td>1494</td>\n",
       "      <td>9341</td>\n",
       "      <td>NaN</td>\n",
       "    </tr>\n",
       "    <tr>\n",
       "      <th>3</th>\n",
       "      <td>17031841200</td>\n",
       "      <td>9649</td>\n",
       "      <td>12195</td>\n",
       "      <td>7306</td>\n",
       "      <td>4588</td>\n",
       "      <td>3049</td>\n",
       "      <td>2017</td>\n",
       "      <td>8015</td>\n",
       "      <td>6846</td>\n",
       "      <td>5313</td>\n",
       "      <td>...</td>\n",
       "      <td>2958</td>\n",
       "      <td>5512</td>\n",
       "      <td>1672</td>\n",
       "      <td>24415</td>\n",
       "      <td>3590</td>\n",
       "      <td>3156</td>\n",
       "      <td>3484</td>\n",
       "      <td>4701</td>\n",
       "      <td>10378</td>\n",
       "      <td>NaN</td>\n",
       "    </tr>\n",
       "    <tr>\n",
       "      <th>4</th>\n",
       "      <td>17031838200</td>\n",
       "      <td>8222</td>\n",
       "      <td>10768</td>\n",
       "      <td>6219</td>\n",
       "      <td>5068</td>\n",
       "      <td>3794</td>\n",
       "      <td>590</td>\n",
       "      <td>8589</td>\n",
       "      <td>5440</td>\n",
       "      <td>5887</td>\n",
       "      <td>...</td>\n",
       "      <td>1552</td>\n",
       "      <td>4789</td>\n",
       "      <td>853</td>\n",
       "      <td>24887</td>\n",
       "      <td>5067</td>\n",
       "      <td>1729</td>\n",
       "      <td>3964</td>\n",
       "      <td>5181</td>\n",
       "      <td>10959</td>\n",
       "      <td>NaN</td>\n",
       "    </tr>\n",
       "  </tbody>\n",
       "</table>\n",
       "<p>5 rows × 201 columns</p>\n",
       "</div>"
      ],
      "text/plain": [
       "    Unnamed: 0      1      2      3     4      6      8     9     10    11  \\\n",
       "0  17031842400  17870  21397  17892  8483  13529  12425  5704  16935  7565   \n",
       "1  17031840300  11391  13937   8845  4120   3713   3939  6358   8448  3721   \n",
       "2  17031841100   9050  12577   9155  1374   5748   4035  5015   8198  2295   \n",
       "3  17031841200   9649  12195   7306  4588   3049   2017  8015   6846  5313   \n",
       "4  17031838200   8222  10768   6219  5068   3794    590  8589   5440  5887   \n",
       "\n",
       "   ...    198    199    200    201    202    203   204   205    206  \\\n",
       "0  ...  13236  16767  11419  14396  10325  12874  9266  8919   1718   \n",
       "1  ...   4671   7050   3438  22725   1777   4898  3682  4482   8430   \n",
       "2  ...   4799   8430   3042  21403   4769   4410   525  1494   9341   \n",
       "3  ...   2958   5512   1672  24415   3590   3156  3484  4701  10378   \n",
       "4  ...   1552   4789    853  24887   5067   1729  3964  5181  10959   \n",
       "\n",
       "   Unnamed: 200  \n",
       "0           NaN  \n",
       "1           NaN  \n",
       "2           NaN  \n",
       "3           NaN  \n",
       "4           NaN  \n",
       "\n",
       "[5 rows x 201 columns]"
      ]
     },
     "execution_count": 7,
     "metadata": {},
     "output_type": "execute_result"
    }
   ],
   "source": [
    "matrix_df.head()"
   ]
  },
  {
   "cell_type": "markdown",
   "metadata": {},
   "source": [
    "### Specifications: Coverage Model:\n",
    "\n",
    "**name = tsfca( )**\n",
    "* **network_type** ('walk', 'bike', 'drive', 'otp') \n",
    "* **sources_filename** (sources file)\n",
    "* **destinations_filename** (destinations file)\n",
    "* **source_column_names** (dictionary that contains column names (lat/lon/ID))\n",
    "* **dest_column_names** (dictionary that contains column names (lat/lon/ID/category))\n",
    "* **transit_matrix_filename** (sources-destination travel time matrix). If None, matrix estimated 'on the fly'.\n",
    "\n",
    "\n",
    "**name.calculate():**\n",
    "- **upper_threshold** (the time (in seconds) in which the origin and destinations are considered to be out of range of each other)\n",
    "\n",
    "Functions within the TSFCA Model class (use as name.function()):  \n",
    "- calculate () \n",
    "- model_results (results of the TSFCA calculations)\n",
    "- write_csv () \n",
    "- set.focus.categories()\n",
    "- aggregate ()\n",
    "- write_aggregated_results()\n",
    "- plot_cdf()\n",
    "- plot_choropleth()\n",
    "\n",
    "Each function is demonstrated below\n",
    "\n",
    "When defining the TSFCA Model, use the previously generated shortest-path matrix. Also specify the desired distance decay function. Here, source_column_names and dest_column_names are not specified so the model will ask the user to map column names to expected values. \n",
    "\n",
    "When defining the TSFCA Model, use the previously generated travel time matrix. Also specify the desired distance decay function. Here, source_column_names and dest_column_names are not specified so the model will ask you to map column names to expected values.\n"
   ]
  },
  {
   "cell_type": "code",
   "execution_count": null,
   "metadata": {},
   "outputs": [],
   "source": [
    "#Specify the network type here\n",
    "tsfca = TSFCA(network_type='walk',\n",
    "              sources_filename='./data/input_data/tracts2010.csv',\n",
    "              destinations_filename='./data/input_data/health_chicago.csv')"
   ]
  },
  {
   "cell_type": "code",
   "execution_count": null,
   "metadata": {},
   "outputs": [],
   "source": [
    "tsfca.calculate(upper_threshold=1800)"
   ]
  },
  {
   "cell_type": "code",
   "execution_count": 17,
   "metadata": {},
   "outputs": [
    {
     "data": {
      "text/html": [
       "<div>\n",
       "<style scoped>\n",
       "    .dataframe tbody tr th:only-of-type {\n",
       "        vertical-align: middle;\n",
       "    }\n",
       "\n",
       "    .dataframe tbody tr th {\n",
       "        vertical-align: top;\n",
       "    }\n",
       "\n",
       "    .dataframe thead th {\n",
       "        text-align: right;\n",
       "    }\n",
       "</style>\n",
       "<table border=\"1\" class=\"dataframe\">\n",
       "  <thead>\n",
       "    <tr style=\"text-align: right;\">\n",
       "      <th></th>\n",
       "      <th>percap_spend_Other Health Providers</th>\n",
       "      <th>percap_spend_Hospitals</th>\n",
       "      <th>percap_spend_All Free Health Clinics</th>\n",
       "      <th>percap_spend_School-Based Health Centers</th>\n",
       "      <th>percap_spend_Federally Qualified Health Centers</th>\n",
       "      <th>percap_spend_all_categories</th>\n",
       "    </tr>\n",
       "  </thead>\n",
       "  <tbody>\n",
       "    <tr>\n",
       "      <th>1</th>\n",
       "      <td>0.000000</td>\n",
       "      <td>0.000000</td>\n",
       "      <td>0.000000</td>\n",
       "      <td>2.200301</td>\n",
       "      <td>0.000000</td>\n",
       "      <td>2.200301</td>\n",
       "    </tr>\n",
       "    <tr>\n",
       "      <th>2</th>\n",
       "      <td>0.000000</td>\n",
       "      <td>0.000000</td>\n",
       "      <td>0.000000</td>\n",
       "      <td>3.192260</td>\n",
       "      <td>5.272095</td>\n",
       "      <td>8.464355</td>\n",
       "    </tr>\n",
       "    <tr>\n",
       "      <th>3</th>\n",
       "      <td>5.050584</td>\n",
       "      <td>1.728574</td>\n",
       "      <td>3.377900</td>\n",
       "      <td>3.496114</td>\n",
       "      <td>2.546678</td>\n",
       "      <td>16.199851</td>\n",
       "    </tr>\n",
       "    <tr>\n",
       "      <th>4</th>\n",
       "      <td>0.000000</td>\n",
       "      <td>5.871718</td>\n",
       "      <td>0.000000</td>\n",
       "      <td>8.771760</td>\n",
       "      <td>12.809737</td>\n",
       "      <td>27.453215</td>\n",
       "    </tr>\n",
       "    <tr>\n",
       "      <th>5</th>\n",
       "      <td>2.542609</td>\n",
       "      <td>11.854331</td>\n",
       "      <td>2.499107</td>\n",
       "      <td>10.075997</td>\n",
       "      <td>7.323656</td>\n",
       "      <td>34.295700</td>\n",
       "    </tr>\n",
       "  </tbody>\n",
       "</table>\n",
       "</div>"
      ],
      "text/plain": [
       "   percap_spend_Other Health Providers  percap_spend_Hospitals  \\\n",
       "1                             0.000000                0.000000   \n",
       "2                             0.000000                0.000000   \n",
       "3                             5.050584                1.728574   \n",
       "4                             0.000000                5.871718   \n",
       "5                             2.542609               11.854331   \n",
       "\n",
       "   percap_spend_All Free Health Clinics  \\\n",
       "1                              0.000000   \n",
       "2                              0.000000   \n",
       "3                              3.377900   \n",
       "4                              0.000000   \n",
       "5                              2.499107   \n",
       "\n",
       "   percap_spend_School-Based Health Centers  \\\n",
       "1                                  2.200301   \n",
       "2                                  3.192260   \n",
       "3                                  3.496114   \n",
       "4                                  8.771760   \n",
       "5                                 10.075997   \n",
       "\n",
       "   percap_spend_Federally Qualified Health Centers  \\\n",
       "1                                         0.000000   \n",
       "2                                         5.272095   \n",
       "3                                         2.546678   \n",
       "4                                        12.809737   \n",
       "5                                         7.323656   \n",
       "\n",
       "   percap_spend_all_categories  \n",
       "1                     2.200301  \n",
       "2                     8.464355  \n",
       "3                    16.199851  \n",
       "4                    27.453215  \n",
       "5                    34.295700  "
      ]
     },
     "execution_count": 17,
     "metadata": {},
     "output_type": "execute_result"
    }
   ],
   "source": [
    "#Output\n",
    "#Note that the capacity field is not real but only for demo purposes\n",
    "tsfca.model_results.head()"
   ]
  },
  {
   "cell_type": "markdown",
   "metadata": {},
   "source": [
    "**Scores**\n",
    "Note that \"per capita spending\" values are demo values, not real values.\n",
    "\n",
    "- tsfca_Federally Qualified Health Centers is the access to per capita spending by Federally Qualified Health Centers\n",
    "- tsfca_School-Based Health Centers is the access to per capita spending by School-based Health Centers\n",
    "- tsfca_All Free Health Clinics is the access to per capita spending by free health clinics\n",
    "- tsfca_Hospitals is the access to per capita spending by hospitals\n",
    "- tsfca_Other Health Providers is the access to per capita spending by all other healthcare providers\n",
    "- tsfca_all_categories is the sum of the above five categories"
   ]
  },
  {
   "cell_type": "markdown",
   "metadata": {},
   "source": [
    "Merge the per capita spending data to the origin's shapefile and map them out in order to view the distribution of the access to per capita spending by tract:"
   ]
  },
  {
   "cell_type": "markdown",
   "metadata": {},
   "source": [
    "<img src=\"./figures/tsfca_results.png\" width = 600>"
   ]
  },
  {
   "cell_type": "code",
   "execution_count": 18,
   "metadata": {},
   "outputs": [],
   "source": [
    "#Writes output to csv\n",
    "tsfca.model_results.to_csv('./data/tsfca/tsfca_results.csv')"
   ]
  },
  {
   "cell_type": "markdown",
   "metadata": {},
   "source": [
    "#### **Calculate the TSFCA Score for a Subset of the Data**"
   ]
  },
  {
   "cell_type": "code",
   "execution_count": null,
   "metadata": {},
   "outputs": [],
   "source": [
    "#Set the Subset to Federally Qualified Health Centers\n",
    "tsfca.set_focus_categories(['Federally Qualified Health Centers'])"
   ]
  },
  {
   "cell_type": "code",
   "execution_count": null,
   "metadata": {},
   "outputs": [],
   "source": [
    "#Set the importance and variety weights:\n",
    "\n",
    "dict = {\n",
    "\"Federally Qualified Health Centers\": [10,10,10,10,10]\n",
    "}"
   ]
  },
  {
   "cell_type": "code",
   "execution_count": null,
   "metadata": {},
   "outputs": [],
   "source": [
    "#Calculate the score for 30 minutes travel time\n",
    "tsfca.calculate(upper_threshold=1800)"
   ]
  },
  {
   "cell_type": "code",
   "execution_count": null,
   "metadata": {},
   "outputs": [],
   "source": [
    "#Preview the first 5 rows of the results\n",
    "tsfca.model_results.head()"
   ]
  },
  {
   "cell_type": "code",
   "execution_count": null,
   "metadata": {},
   "outputs": [],
   "source": [
    "#Save the results to csv\n",
    "tsfca.model_results.to_csv('FQHC_tsfca.csv')"
   ]
  },
  {
   "cell_type": "markdown",
   "metadata": {},
   "source": [
    "### Aggregation to larger areas"
   ]
  },
  {
   "cell_type": "code",
   "execution_count": 19,
   "metadata": {},
   "outputs": [
    {
     "data": {
      "text/html": [
       "<div>\n",
       "<style scoped>\n",
       "    .dataframe tbody tr th:only-of-type {\n",
       "        vertical-align: middle;\n",
       "    }\n",
       "\n",
       "    .dataframe tbody tr th {\n",
       "        vertical-align: top;\n",
       "    }\n",
       "\n",
       "    .dataframe thead th {\n",
       "        text-align: right;\n",
       "    }\n",
       "</style>\n",
       "<table border=\"1\" class=\"dataframe\">\n",
       "  <thead>\n",
       "    <tr style=\"text-align: right;\">\n",
       "      <th></th>\n",
       "      <th>percap_spend_Other Health Providers</th>\n",
       "      <th>percap_spend_Hospitals</th>\n",
       "      <th>percap_spend_All Free Health Clinics</th>\n",
       "      <th>percap_spend_School-Based Health Centers</th>\n",
       "      <th>percap_spend_Federally Qualified Health Centers</th>\n",
       "      <th>percap_spend_all_categories</th>\n",
       "    </tr>\n",
       "    <tr>\n",
       "      <th>spatial_index</th>\n",
       "      <th></th>\n",
       "      <th></th>\n",
       "      <th></th>\n",
       "      <th></th>\n",
       "      <th></th>\n",
       "      <th></th>\n",
       "    </tr>\n",
       "  </thead>\n",
       "  <tbody>\n",
       "    <tr>\n",
       "      <th>ALBANY PARK</th>\n",
       "      <td>0.000000</td>\n",
       "      <td>1.284000</td>\n",
       "      <td>0.00000</td>\n",
       "      <td>3.121864</td>\n",
       "      <td>3.193365</td>\n",
       "      <td>7.599230</td>\n",
       "    </tr>\n",
       "    <tr>\n",
       "      <th>ARCHER HEIGHTS</th>\n",
       "      <td>0.000000</td>\n",
       "      <td>0.000000</td>\n",
       "      <td>0.00000</td>\n",
       "      <td>0.000000</td>\n",
       "      <td>6.985460</td>\n",
       "      <td>6.985460</td>\n",
       "    </tr>\n",
       "    <tr>\n",
       "      <th>ARMOUR SQUARE</th>\n",
       "      <td>6.248138</td>\n",
       "      <td>1.382859</td>\n",
       "      <td>0.67558</td>\n",
       "      <td>4.595124</td>\n",
       "      <td>4.006786</td>\n",
       "      <td>16.908487</td>\n",
       "    </tr>\n",
       "    <tr>\n",
       "      <th>ASHBURN</th>\n",
       "      <td>0.000000</td>\n",
       "      <td>1.024378</td>\n",
       "      <td>0.00000</td>\n",
       "      <td>0.000000</td>\n",
       "      <td>0.000000</td>\n",
       "      <td>1.024378</td>\n",
       "    </tr>\n",
       "    <tr>\n",
       "      <th>AUBURN GRESHAM</th>\n",
       "      <td>0.000000</td>\n",
       "      <td>0.000000</td>\n",
       "      <td>0.00000</td>\n",
       "      <td>1.906927</td>\n",
       "      <td>2.853610</td>\n",
       "      <td>4.760537</td>\n",
       "    </tr>\n",
       "  </tbody>\n",
       "</table>\n",
       "</div>"
      ],
      "text/plain": [
       "                percap_spend_Other Health Providers  percap_spend_Hospitals  \\\n",
       "spatial_index                                                                 \n",
       "ALBANY PARK                                0.000000                1.284000   \n",
       "ARCHER HEIGHTS                             0.000000                0.000000   \n",
       "ARMOUR SQUARE                              6.248138                1.382859   \n",
       "ASHBURN                                    0.000000                1.024378   \n",
       "AUBURN GRESHAM                             0.000000                0.000000   \n",
       "\n",
       "                percap_spend_All Free Health Clinics  \\\n",
       "spatial_index                                          \n",
       "ALBANY PARK                                  0.00000   \n",
       "ARCHER HEIGHTS                               0.00000   \n",
       "ARMOUR SQUARE                                0.67558   \n",
       "ASHBURN                                      0.00000   \n",
       "AUBURN GRESHAM                               0.00000   \n",
       "\n",
       "                percap_spend_School-Based Health Centers  \\\n",
       "spatial_index                                              \n",
       "ALBANY PARK                                     3.121864   \n",
       "ARCHER HEIGHTS                                  0.000000   \n",
       "ARMOUR SQUARE                                   4.595124   \n",
       "ASHBURN                                         0.000000   \n",
       "AUBURN GRESHAM                                  1.906927   \n",
       "\n",
       "                percap_spend_Federally Qualified Health Centers  \\\n",
       "spatial_index                                                     \n",
       "ALBANY PARK                                            3.193365   \n",
       "ARCHER HEIGHTS                                         6.985460   \n",
       "ARMOUR SQUARE                                          4.006786   \n",
       "ASHBURN                                                0.000000   \n",
       "AUBURN GRESHAM                                         2.853610   \n",
       "\n",
       "                percap_spend_all_categories  \n",
       "spatial_index                                \n",
       "ALBANY PARK                        7.599230  \n",
       "ARCHER HEIGHTS                     6.985460  \n",
       "ARMOUR SQUARE                     16.908487  \n",
       "ASHBURN                            1.024378  \n",
       "AUBURN GRESHAM                     4.760537  "
      ]
     },
     "execution_count": 19,
     "metadata": {},
     "output_type": "execute_result"
    }
   ],
   "source": [
    "#Gets the output of the aggregation by access to coverage value by community area\n",
    "#Note that the capacity field is not real but only for demo purposes\n",
    "\n",
    "tsfca.aggregate(aggregation_type=None,\n",
    "                shapefile='./data/chicago_boundaries/chi_comm_boundaries.shp',\n",
    "                spatial_index='community',\n",
    "                projection='epsg:4326').head()"
   ]
  },
  {
   "cell_type": "code",
   "execution_count": 10,
   "metadata": {},
   "outputs": [],
   "source": [
    "#For community areas write to csv\n",
    "tsfca.write_aggregated_results(filename = \"./data/tsfca/tsfca_aggregated.csv\", output_type = 'csv')"
   ]
  },
  {
   "cell_type": "markdown",
   "metadata": {},
   "source": [
    "## CDF Plot\n",
    "The following cumulative distribution function shows the number of tracts for a given TSFCA value (e.g. access to per capita spending or physicians per patients).\n"
   ]
  },
  {
   "cell_type": "code",
   "execution_count": 11,
   "metadata": {},
   "outputs": [
    {
     "name": "stderr",
     "output_type": "stream",
     "text": [
      "INFO:spatial_access.BaseModel:Plot was saved to: /Users/whlu/spatial_access/data/tsfca/tsfca_cdf_plot.png\n"
     ]
    },
    {
     "data": {
      "image/png": "[encoded data removed]",
      "text/plain": [
       "<Figure size 576x288 with 1 Axes>"
      ]
     },
     "metadata": {
      "needs_background": "light"
     },
     "output_type": "display_data"
    }
   ],
   "source": [
    "tsfca.plot_cdf(filename = './data/tsfca/tsfca_cdf_plot.png', \n",
    "               plot_type = \"percap\", title = 'CDF of TSFCA',\n",
    "               xlabel = 'TSFCA',\n",
    "               ylabel = 'Number of Tracts')"
   ]
  },
  {
   "cell_type": "markdown",
   "metadata": {},
   "source": [
    "The in-built charts are not designed for presentation purposes but you can save the results and graph them in another program. Here is an example:"
   ]
  },
  {
   "cell_type": "markdown",
   "metadata": {},
   "source": [
    "<img src=\"figures/cdf_tsfca.png\" width=\"650\" title=\"Optional title\"  align=\"center\">"
   ]
  },
  {
   "cell_type": "markdown",
   "metadata": {},
   "source": [
    "### Choropleth Mapping"
   ]
  },
  {
   "cell_type": "code",
   "execution_count": 12,
   "metadata": {},
   "outputs": [
    {
     "name": "stderr",
     "output_type": "stream",
     "text": [
      "INFO:spatial_access.BaseModel:Figure was saved to: /Users/whlu/spatial_access/data/tsfca/tsfca_choropleth.png\n"
     ]
    },
    {
     "data": {
      "image/png": "[encoded data removed]",
      "text/plain": [
       "<Figure size 432x288 with 1 Axes>"
      ]
     },
     "metadata": {
      "needs_background": "light"
     },
     "output_type": "display_data"
    }
   ],
   "source": [
    "tsfca.plot_choropleth(column = \"percap_spend_all_categories\", \n",
    "                      shapefile='/./data/chicago_boundaries/chi_comm_boundaries.shp',\n",
    "                      title = 'Access to TSFCA Value, Chicago Community Areas',\n",
    "                      include_destinations = False,\n",
    "                      filename = './data/tsfca/tsfca_choropleth.png')"
   ]
  }
 ],
 "metadata": {
  "kernelspec": {
   "display_name": "Python 3",
   "language": "python",
   "name": "python3"
  },
  "language_info": {
   "codemirror_mode": {
    "name": "ipython",
    "version": 3
   },
   "file_extension": ".py",
   "mimetype": "text/x-python",
   "name": "python",
   "nbconvert_exporter": "python",
   "pygments_lexer": "ipython3",
   "version": "3.7.4"
  }
 },
 "nbformat": 4,
 "nbformat_minor": 2
}
