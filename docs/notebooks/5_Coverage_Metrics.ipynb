{
 "cells": [
  {
   "cell_type": "markdown",
   "metadata": {},
   "source": [
    "# Coverage Score DEMO"
   ]
  },
  {
   "cell_type": "markdown",
   "metadata": {},
   "source": [
    "Authors: [Irene Farah](https://www.linkedin.com/in/imfarah/),  [Julia Koschinsky](https://www.linkedin.com/in/julia-koschinsky-657599b1/), [Logan Noel](https://www.linkedin.com/in/lmnoel/).  \n",
    "Contact: [Julia Koschinsky](mailto:jkoschinsky@uchicago.edu)  \n",
    "\n",
    "Research assistance of [Shiv Agrawal](http://simonlab.uchicago.edu/people/ShivAgrawal.html), [Caitlyn Tien](https://www.linkedin.com/in/caitlyn-tien-0b784b161/) and [Richard Lu](https://www.linkedin.com/in/richard-lu-576874155/) is gratefully acknowledged.\n",
    "\n",
    "Center for Spatial Data Science  \n",
    "University of Chicago  \n",
    "\n",
    "July 30, 2019"
   ]
  },
  {
   "cell_type": "markdown",
   "metadata": {},
   "source": [
    "---\n",
    "\n",
    "The metrics in [4_Access_Metrics](./4_Access_Metrics.ipynb) were attributes of the origin points, i.e. they considered spatial access from the perspective of someone accessing amenities. In contrast, the coverage metrics in this notebook are attributes of the destinations, i.e. they consider spatial access from the perspective of the service provider -- in this case for health facilities. Using the travel time matrix, you can calculate the coverage for each health facility (by type) within a catchment area. In addition to a capacity field, these metrics also require a population variable.\n",
    "\n",
    "Coverage adds two variables to the destination file:  \n",
    "1) The number of people within the catchment area of a provider  \n",
    "2) a provider attribute divided by this nearby population count\n",
    "\n",
    "E.g. you can use this to calculate the funding amount a service provider receives per people within the catchment area of the provider (such as 30 minutes walking time to the provider).\n",
    "\n",
    "Each model follows the same procedure as the one presented in access models:\n",
    "\n",
    "1. Define the model by providing the appropriate arguments \n",
    "2. Calculate the model  \n",
    "3. Subset, aggregate, plot the results (optional)\n",
    "4. Save the result as a csv or tmx file\n",
    "\n",
    "Each of these steps are demonstrated below."
   ]
  },
  {
   "cell_type": "markdown",
   "metadata": {},
   "source": [
    "---\n",
    "\n",
    "**_Standard Data Requirements_**  \n",
    "\n",
    "Each model requires two csv files as inputs: sources and destinations. Destinations need to be constrained to the spatial extent of the origins. The standard variables required for all models are listed below. Additional variables are required for some models (specified above each model).\n",
    "\n",
    "* Source File\n",
    "    * Unique index identifier (**ID**) (integer or real)  \n",
    "    * **Latitude** and **longitude** coordinates (real)\n",
    "    * To aggregate: **ID for larger areas**\n",
    "    * **Population** of the geographic unit  \n",
    "    \n",
    "* Destination File\n",
    "    * Unique index identifier (**ID**) (integer or real)\n",
    "    * **Latitude** and **longitude** coordinates (real)\n",
    "    * **Category** for each type of facility\n",
    "    * To aggregate: **ID for larger areas**\n",
    "    * **Capacity** for each facility\n",
    "    \n",
    "Field names with symbols will be replaced by underscores in the csv file."
   ]
  },
  {
   "cell_type": "code",
   "execution_count": 1,
   "metadata": {},
   "outputs": [],
   "source": [
    "cd ../.."
   ]
  },
  {
   "cell_type": "code",
   "execution_count": null,
   "metadata": {},
   "outputs": [],
   "source": [
    "# Import modules\n",
    "from spatial_access.p2p import *\n",
    "from spatial_access.Models import *"
   ]
  },
  {
   "cell_type": "code",
   "execution_count": null,
   "metadata": {},
   "outputs": [],
   "source": [
    "# View sources and destinations for Chicago health facilities\n",
    "import pandas as pd\n",
    "sources_df = pd.read_csv('./data/input_data/sources/tracts2010.csv')\n",
    "dests_df = pd.read_csv('./data/input_data/destinations/health_chicago.csv')"
   ]
  },
  {
   "cell_type": "markdown",
   "metadata": {},
   "source": [
    "**Read in travel time matrix generated in [3_Travel_Time_Matrix](./3_Travel_Time_Matrix)**:"
   ]
  },
  {
   "cell_type": "code",
   "execution_count": null,
   "metadata": {},
   "outputs": [],
   "source": [
    "matrix_df = pd.read_csv('./data/output_data/matrices/walk_asym_health_tracts.csv')"
   ]
  },
  {
   "cell_type": "code",
   "execution_count": null,
   "metadata": {},
   "outputs": [],
   "source": [
    "sources_df.head()"
   ]
  },
  {
   "cell_type": "code",
   "execution_count": null,
   "metadata": {},
   "outputs": [],
   "source": [
    "dests_df.head()"
   ]
  },
  {
   "cell_type": "code",
   "execution_count": null,
   "metadata": {},
   "outputs": [],
   "source": [
    "matrix_df.head()"
   ]
  },
  {
   "cell_type": "markdown",
   "metadata": {},
   "source": [
    "### Specifications for the Coverage Model:\n",
    "\n",
    "**name = Coverage( )**\n",
    "* **network_type** ('walk', 'bike', 'drive', 'otp') \n",
    "* **sources_filename** (sources file)\n",
    "* **destinations_filename** (destinations file)\n",
    "* **source_column_names** (dictionary that contains column names (lat/lon/ID))\n",
    "* **dest_column_names** (dictionary that contains column names (lat/lon/ID/category))\n",
    "* **transit_matrix_filename** (sources-destination travel time matrix). If None, matrix estimated 'on the fly'.\n",
    "\n",
    "\n",
    "**name.calculate():**\n",
    "- **upper_threshold** (the time (in seconds) in which the origin and destinations are considered to be out of range of each other)\n",
    "\n",
    "Functions within the Coverage Model class (use as name.function()):  \n",
    "- calculate () \n",
    "- model_results (results of the Coverage calculations)\n",
    "- write_csv (filename='name') \n",
    "- set.focus.categories()\n",
    "- aggregate ()\n",
    "- write_aggregated_results()\n",
    "- plot_cdf()\n",
    "- plot_choropleth()\n",
    "\n",
    "Each function is demonstrated below.\n",
    "\n",
    "When defining the Coverage Model, use the previously generated travel time matrix. Also specify the desired distance decay function. Here, source_column_names and dest_column_names are not specified so the model will ask you to map column names to expected values."
   ]
  },
  {
   "cell_type": "code",
   "execution_count": null,
   "metadata": {},
   "outputs": [],
   "source": [
    "coverage = Coverage(network_type='walk',\n",
    "                     transit_matrix_filename = './data/matrices/walk_asym_health_tracts.csv',\n",
    "                     sources_filename='./data/input_data/sources/tracts2010.csv',\n",
    "                     destinations_filename='./data/input_data/destinations/health_chicago.csv')\n"
   ]
  },
  {
   "cell_type": "code",
   "execution_count": 8,
   "metadata": {},
   "outputs": [
    {
     "data": {
      "text/html": [
       "<div>\n",
       "<style scoped>\n",
       "    .dataframe tbody tr th:only-of-type {\n",
       "        vertical-align: middle;\n",
       "    }\n",
       "\n",
       "    .dataframe tbody tr th {\n",
       "        vertical-align: top;\n",
       "    }\n",
       "\n",
       "    .dataframe thead th {\n",
       "        text-align: right;\n",
       "    }\n",
       "</style>\n",
       "<table border=\"1\" class=\"dataframe\">\n",
       "  <thead>\n",
       "    <tr style=\"text-align: right;\">\n",
       "      <th></th>\n",
       "      <th>service_pop</th>\n",
       "      <th>percap_spending</th>\n",
       "      <th>category</th>\n",
       "    </tr>\n",
       "  </thead>\n",
       "  <tbody>\n",
       "    <tr>\n",
       "      <th>14</th>\n",
       "      <td>100892</td>\n",
       "      <td>1.001070</td>\n",
       "      <td>Federally Qualified Health Centers</td>\n",
       "    </tr>\n",
       "    <tr>\n",
       "      <th>15</th>\n",
       "      <td>49853</td>\n",
       "      <td>2.226546</td>\n",
       "      <td>Federally Qualified Health Centers</td>\n",
       "    </tr>\n",
       "    <tr>\n",
       "      <th>16</th>\n",
       "      <td>51802</td>\n",
       "      <td>2.721903</td>\n",
       "      <td>Federally Qualified Health Centers</td>\n",
       "    </tr>\n",
       "    <tr>\n",
       "      <th>17</th>\n",
       "      <td>74269</td>\n",
       "      <td>2.113937</td>\n",
       "      <td>Federally Qualified Health Centers</td>\n",
       "    </tr>\n",
       "    <tr>\n",
       "      <th>18</th>\n",
       "      <td>41958</td>\n",
       "      <td>4.004004</td>\n",
       "      <td>Federally Qualified Health Centers</td>\n",
       "    </tr>\n",
       "  </tbody>\n",
       "</table>\n",
       "</div>"
      ],
      "text/plain": [
       "    service_pop  percap_spending                            category\n",
       "14       100892         1.001070  Federally Qualified Health Centers\n",
       "15        49853         2.226546  Federally Qualified Health Centers\n",
       "16        51802         2.721903  Federally Qualified Health Centers\n",
       "17        74269         2.113937  Federally Qualified Health Centers\n",
       "18        41958         4.004004  Federally Qualified Health Centers"
      ]
     },
     "execution_count": 8,
     "metadata": {},
     "output_type": "execute_result"
    }
   ],
   "source": [
    "#Note that the capacity field is not real but only for demo purposes\n",
    "coverage.calculate(upper_threshold=1800)"
   ]
  },
  {
   "cell_type": "code",
   "execution_count": null,
   "metadata": {},
   "outputs": [],
   "source": [
    "coverage.model_results.head()"
   ]
  },
  {
   "cell_type": "code",
   "execution_count": 9,
   "metadata": {},
   "outputs": [],
   "source": [
    "#Writes output to csv\n",
    "coverage.model_results.to_csv('./data/output_data/models/coverage_results.csv')"
   ]
  },
  {
   "cell_type": "markdown",
   "metadata": {},
   "source": [
    "<img src=\"figures/coverage_t.png\" width=\"700\" title=\"Optional title\"  align=\"center\">"
   ]
  },
  {
   "cell_type": "markdown",
   "metadata": {},
   "source": [
    "#### **Calculate the Coverage Score for a Subset of the Data**"
   ]
  },
  {
   "cell_type": "code",
   "execution_count": null,
   "metadata": {},
   "outputs": [],
   "source": [
    "#Set the Subset to Federally Qualified Health Centers\n",
    "coverage.set_focus_categories(['Federally Qualified Health Centers'])"
   ]
  },
  {
   "cell_type": "markdown",
   "metadata": {},
   "source": [
    "#Set the importance and variety weights:\n",
    "\n",
    "dict = {\n",
    "\"Federally Qualified Health Centers\": [10,10,10,10,10]\n",
    "}"
   ]
  },
  {
   "cell_type": "code",
   "execution_count": null,
   "metadata": {},
   "outputs": [],
   "source": [
    "coverage.calculate(upper_threshold=1800)"
   ]
  },
  {
   "cell_type": "code",
   "execution_count": null,
   "metadata": {},
   "outputs": [],
   "source": [
    "#Preview the results\n",
    "coverage.model_results.head()"
   ]
  },
  {
   "cell_type": "code",
   "execution_count": null,
   "metadata": {},
   "outputs": [],
   "source": [
    "coverage.model_results.to_csv('FQHC_coverage.csv')"
   ]
  },
  {
   "cell_type": "markdown",
   "metadata": {},
   "source": [
    "### Aggregation by larger geographic units"
   ]
  },
  {
   "cell_type": "code",
   "execution_count": 10,
   "metadata": {},
   "outputs": [
    {
     "data": {
      "text/html": [
       "<div>\n",
       "<style scoped>\n",
       "    .dataframe tbody tr th:only-of-type {\n",
       "        vertical-align: middle;\n",
       "    }\n",
       "\n",
       "    .dataframe tbody tr th {\n",
       "        vertical-align: top;\n",
       "    }\n",
       "\n",
       "    .dataframe thead th {\n",
       "        text-align: right;\n",
       "    }\n",
       "</style>\n",
       "<table border=\"1\" class=\"dataframe\">\n",
       "  <thead>\n",
       "    <tr style=\"text-align: right;\">\n",
       "      <th></th>\n",
       "      <th>service_pop</th>\n",
       "      <th>percap_spending</th>\n",
       "    </tr>\n",
       "    <tr>\n",
       "      <th>spatial_index</th>\n",
       "      <th></th>\n",
       "      <th></th>\n",
       "    </tr>\n",
       "  </thead>\n",
       "  <tbody>\n",
       "    <tr>\n",
       "      <th>ALBANY PARK</th>\n",
       "      <td>305008</td>\n",
       "      <td>1.638229</td>\n",
       "    </tr>\n",
       "    <tr>\n",
       "      <th>ARCHER HEIGHTS</th>\n",
       "      <td>59620</td>\n",
       "      <td>1.777927</td>\n",
       "    </tr>\n",
       "    <tr>\n",
       "      <th>ARMOUR SQUARE</th>\n",
       "      <td>58671</td>\n",
       "      <td>2.897513</td>\n",
       "    </tr>\n",
       "    <tr>\n",
       "      <th>AUBURN GRESHAM</th>\n",
       "      <td>106340</td>\n",
       "      <td>2.461102</td>\n",
       "    </tr>\n",
       "    <tr>\n",
       "      <th>AUSTIN</th>\n",
       "      <td>248120</td>\n",
       "      <td>3.094732</td>\n",
       "    </tr>\n",
       "  </tbody>\n",
       "</table>\n",
       "</div>"
      ],
      "text/plain": [
       "                service_pop  percap_spending\n",
       "spatial_index                               \n",
       "ALBANY PARK          305008         1.638229\n",
       "ARCHER HEIGHTS        59620         1.777927\n",
       "ARMOUR SQUARE         58671         2.897513\n",
       "AUBURN GRESHAM       106340         2.461102\n",
       "AUSTIN               248120         3.094732"
      ]
     },
     "execution_count": 10,
     "metadata": {},
     "output_type": "execute_result"
    }
   ],
   "source": [
    "#Note that the capacity field is not real but only for demo purposes\n",
    "coverage.aggregate(aggregation_type=None,\n",
    "                   shapefile='./data/chicago_boundaries/chi_comm_boundaries.shp', \n",
    "                   spatial_index='community',\n",
    "                   projection='epsg:4326').head()"
   ]
  },
  {
   "cell_type": "code",
   "execution_count": 11,
   "metadata": {},
   "outputs": [],
   "source": [
    "#For community areas write to csv\n",
    "coverage.write_aggregated_results(filename = \"./data/coverage score/coverage_aggregated.csv\",\n",
    "                                  output_type = 'csv')"
   ]
  },
  {
   "cell_type": "markdown",
   "metadata": {},
   "source": [
    "<img src=\"figures/cov_t_com.png\" width=\"750\" title=\"Optional title\"  align=\"center\">"
   ]
  },
  {
   "cell_type": "markdown",
   "metadata": {},
   "source": [
    "## CDF Plot\n",
    "The following cumulative distribution function shows the number of tracts that fall below a certain level of per capita spending.\n"
   ]
  },
  {
   "cell_type": "code",
   "execution_count": 13,
   "metadata": {},
   "outputs": [
    {
     "name": "stderr",
     "output_type": "stream",
     "text": [
      "INFO:spatial_access.BaseModel:Plot was saved to: /Users/whlu/spatial_access/data/coverage score/coverage_cdf_plot.png\n"
     ]
    },
    {
     "data": {
      "image/png": "[encoded data removed]",
      "text/plain": [
       "<Figure size 576x288 with 1 Axes>"
      ]
     },
     "metadata": {
      "needs_background": "light"
     },
     "output_type": "display_data"
    }
   ],
   "source": [
    "coverage.plot_cdf(filename = './data/coverage score/coverage_cdf_plot.png',\n",
    "                  plot_type = \"percap\",\n",
    "                  title = 'CDF of Coverage Score',\n",
    "                  xlabel = 'Per Capita Spending (USD)',\n",
    "                  ylabel = 'Number of Tracts')\n",
    "\n"
   ]
  },
  {
   "cell_type": "markdown",
   "metadata": {},
   "source": [
    "The in-built charts are not designed for presentation purposes but you can save the results and graph them in another program. Here is an example:"
   ]
  },
  {
   "cell_type": "markdown",
   "metadata": {},
   "source": [
    "<img src=\"figures/cdf_coverage.png\" width=\"550\" title=\"Optional title\"  align=\"center\">"
   ]
  },
  {
   "cell_type": "markdown",
   "metadata": {},
   "source": [
    "### Choropleth Mapping"
   ]
  },
  {
   "cell_type": "code",
   "execution_count": 15,
   "metadata": {},
   "outputs": [
    {
     "name": "stderr",
     "output_type": "stream",
     "text": [
      "INFO:spatial_access.BaseModel:Figure was saved to: /Users/whlu/spatial_access/data/coverage score/coverage_choropleth.png\n"
     ]
    },
    {
     "data": {
      "image/png": "[encoded data removed]",
      "text/plain": [
       "<Figure size 432x288 with 1 Axes>"
      ]
     },
     "metadata": {
      "needs_background": "light"
     },
     "output_type": "display_data"
    }
   ],
   "source": [
    "coverage.plot_choropleth(column = \"percap_spending\",\n",
    "                         shapefile='./data/chicago_boundaries/chi_comm_boundaries.shp',\n",
    "                         title = 'Per Capita Spending (USD), Chicago Community Areas',\n",
    "                         include_destinations = False,\n",
    "                         filename = './data/coverage score/coverage_choropleth.png')"
   ]
  }
 ],
 "metadata": {
  "kernelspec": {
   "display_name": "Python 3",
   "language": "python",
   "name": "python3"
  },
  "language_info": {
   "codemirror_mode": {
    "name": "ipython",
    "version": 3
   },
   "file_extension": ".py",
   "mimetype": "text/x-python",
   "name": "python",
   "nbconvert_exporter": "python",
   "pygments_lexer": "ipython3",
   "version": "3.7.4"
  }
 },
 "nbformat": 4,
 "nbformat_minor": 2
}
