{
 "cells": [
  {
   "cell_type": "markdown",
   "metadata": {},
   "source": [
    "# Spatial Access Metrics DEMO"
   ]
  },
  {
   "cell_type": "markdown",
   "metadata": {},
   "source": [
    "Authors: [Irene Farah](https://www.linkedin.com/in/imfarah/),  [Julia Koschinsky](https://www.linkedin.com/in/julia-koschinsky-657599b1/), [Logan Noel](https://www.linkedin.com/in/lmnoel/).   \n",
    "Contact: [Julia Koschinsky](mailto:jkoschinsky@uchicago.edu)  \n",
    "\n",
    "Research assistance of [Shiv Agrawal](http://simonlab.uchicago.edu/people/ShivAgrawal.html), [Caitlyn Tien](https://www.linkedin.com/in/caitlyn-tien-0b784b161/) and [Richard Lu](https://www.linkedin.com/in/richard-lu-576874155/) is gratefully acknowledged.\n",
    "\n",
    "Center for Spatial Data Science  \n",
    "University of Chicago  \n",
    "\n",
    "July 30, 2019"
   ]
  },
  {
   "cell_type": "markdown",
   "metadata": {},
   "source": [
    "---\n",
    "\n",
    "This notebook shows you how to calculate spatial access metrics that indicate how accessible points of origin are to destinations -- in this case, how spatially accessible home locations (centroids of Census tracts) are to health facilities like hospitals or health clinics. Using the travel time matrix from the p2p module, you can calculate the following spatial access metrics: \n",
    "\n",
    "**AccessModel**: an access score  \n",
    "**AccessTime**: time to the closest destination  \n",
    "**AccessCount**: count of nearby destinations within a travel time threshold  \n",
    "**AccessSum**: sum of an attribute of destinations within a travel time threshold  \n",
    "**DestSum**: sum of destinations within an area (also called container approach).  \n",
    "\n",
    "Each model follows a similar procedure:\n",
    "\n",
    "1. Define the model by providing the appropriate arguments \n",
    "2. Calculate the model  \n",
    "3. Subset, aggregate, plot the results (optional)\n",
    "4. Save the result as a csv or tmx file\n",
    " \n",
    "\n",
    "Each of these steps are demonstrated below."
   ]
  },
  {
   "cell_type": "markdown",
   "metadata": {},
   "source": [
    "---\n",
    "\n",
    "**_Standard Data Requirements_**  \n",
    "\n",
    "* Each model requires two csv files as inputs: sources and destinations.   \n",
    "* Destinations need to be constrained to the spatial extent of the origins.   \n",
    "* Field names with symbols will be replaced by underscores in the csv file.\n",
    "\n",
    "The standard variables required for all models are listed below:\n",
    "\n",
    "* Source File\n",
    "    * Unique index identifier (**ID**) (integer or real)  \n",
    "    * **Latitude** and **longitude** coordinates (real)\n",
    "    * To aggregate: **larger areal ID**\n",
    "* Destination File\n",
    "    * Unique index identifier (**ID**) (integer or real)\n",
    "    * **Latitude** and **longitude** coordinates (real)\n",
    "    * **Category** for each type of facility\n",
    "    * To aggregate: **larger areal ID**\n",
    "    \n",
    "Additional variables are required for some models (specified above each model)."
   ]
  },
  {
   "cell_type": "code",
   "execution_count": null,
   "metadata": {},
   "outputs": [],
   "source": [
    "cd ../.."
   ]
  },
  {
   "cell_type": "code",
   "execution_count": null,
   "metadata": {},
   "outputs": [],
   "source": [
    "# Import modules\n",
    "from spatial_access.p2p import *\n",
    "from spatial_access.Models import *"
   ]
  },
  {
   "cell_type": "code",
   "execution_count": 4,
   "metadata": {},
   "outputs": [],
   "source": [
    "# View sources and destinations for Chicago health facilities\n",
    "import pandas as pd\n",
    "sources_df = pd.read_csv('./data/input_data/sources/tracts2010.csv')\n",
    "dests_df = pd.read_csv('./data/input_data/destinations/health_chicago.csv')"
   ]
  },
  {
   "cell_type": "markdown",
   "metadata": {},
   "source": [
    "**Read in travel time matrix generated in [1_matrix.ipynb](./1_matrix.ipynb)**:"
   ]
  },
  {
   "cell_type": "code",
   "execution_count": null,
   "metadata": {},
   "outputs": [],
   "source": [
    "matrix_df = pd.read_csv('./data/output_data/matrices/walk_asym_health_tracts.csv')"
   ]
  },
  {
   "cell_type": "markdown",
   "metadata": {},
   "source": [
    "View the first 5 sources (tract centroids):"
   ]
  },
  {
   "cell_type": "code",
   "execution_count": 3,
   "metadata": {},
   "outputs": [
    {
     "data": {
      "text/html": [
       "<div>\n",
       "<style scoped>\n",
       "    .dataframe tbody tr th:only-of-type {\n",
       "        vertical-align: middle;\n",
       "    }\n",
       "\n",
       "    .dataframe tbody tr th {\n",
       "        vertical-align: top;\n",
       "    }\n",
       "\n",
       "    .dataframe thead th {\n",
       "        text-align: right;\n",
       "    }\n",
       "</style>\n",
       "<table border=\"1\" class=\"dataframe\">\n",
       "  <thead>\n",
       "    <tr style=\"text-align: right;\">\n",
       "      <th></th>\n",
       "      <th>geoid10</th>\n",
       "      <th>lon</th>\n",
       "      <th>lat</th>\n",
       "      <th>Pop2014</th>\n",
       "      <th>Pov14</th>\n",
       "      <th>community</th>\n",
       "    </tr>\n",
       "  </thead>\n",
       "  <tbody>\n",
       "    <tr>\n",
       "      <th>0</th>\n",
       "      <td>17031842400</td>\n",
       "      <td>-87.630040</td>\n",
       "      <td>41.742475</td>\n",
       "      <td>5157</td>\n",
       "      <td>769</td>\n",
       "      <td>44</td>\n",
       "    </tr>\n",
       "    <tr>\n",
       "      <th>1</th>\n",
       "      <td>17031840300</td>\n",
       "      <td>-87.681882</td>\n",
       "      <td>41.832094</td>\n",
       "      <td>5881</td>\n",
       "      <td>1021</td>\n",
       "      <td>59</td>\n",
       "    </tr>\n",
       "    <tr>\n",
       "      <th>2</th>\n",
       "      <td>17031841100</td>\n",
       "      <td>-87.635098</td>\n",
       "      <td>41.851006</td>\n",
       "      <td>3363</td>\n",
       "      <td>2742</td>\n",
       "      <td>34</td>\n",
       "    </tr>\n",
       "    <tr>\n",
       "      <th>3</th>\n",
       "      <td>17031841200</td>\n",
       "      <td>-87.683342</td>\n",
       "      <td>41.855562</td>\n",
       "      <td>3710</td>\n",
       "      <td>1819</td>\n",
       "      <td>31</td>\n",
       "    </tr>\n",
       "    <tr>\n",
       "      <th>4</th>\n",
       "      <td>17031838200</td>\n",
       "      <td>-87.675079</td>\n",
       "      <td>41.870416</td>\n",
       "      <td>3296</td>\n",
       "      <td>361</td>\n",
       "      <td>28</td>\n",
       "    </tr>\n",
       "  </tbody>\n",
       "</table>\n",
       "</div>"
      ],
      "text/plain": [
       "       geoid10        lon        lat  Pop2014  Pov14  community\n",
       "0  17031842400 -87.630040  41.742475     5157    769         44\n",
       "1  17031840300 -87.681882  41.832094     5881   1021         59\n",
       "2  17031841100 -87.635098  41.851006     3363   2742         34\n",
       "3  17031841200 -87.683342  41.855562     3710   1819         31\n",
       "4  17031838200 -87.675079  41.870416     3296    361         28"
      ]
     },
     "execution_count": 3,
     "metadata": {},
     "output_type": "execute_result"
    }
   ],
   "source": [
    "sources_df.head()"
   ]
  },
  {
   "cell_type": "markdown",
   "metadata": {},
   "source": [
    "View the first 5 destinations (health facilities):"
   ]
  },
  {
   "cell_type": "code",
   "execution_count": 4,
   "metadata": {},
   "outputs": [
    {
     "data": {
      "text/html": [
       "<div>\n",
       "<style scoped>\n",
       "    .dataframe tbody tr th:only-of-type {\n",
       "        vertical-align: middle;\n",
       "    }\n",
       "\n",
       "    .dataframe tbody tr th {\n",
       "        vertical-align: top;\n",
       "    }\n",
       "\n",
       "    .dataframe thead th {\n",
       "        text-align: right;\n",
       "    }\n",
       "</style>\n",
       "<table border=\"1\" class=\"dataframe\">\n",
       "  <thead>\n",
       "    <tr style=\"text-align: right;\">\n",
       "      <th></th>\n",
       "      <th>ID</th>\n",
       "      <th>Facility</th>\n",
       "      <th>lat</th>\n",
       "      <th>lon</th>\n",
       "      <th>Type</th>\n",
       "      <th>capacity</th>\n",
       "      <th>category</th>\n",
       "      <th>community</th>\n",
       "    </tr>\n",
       "  </thead>\n",
       "  <tbody>\n",
       "    <tr>\n",
       "      <th>0</th>\n",
       "      <td>1</td>\n",
       "      <td>American Indian Health Service of Chicago, Inc.</td>\n",
       "      <td>41.956676</td>\n",
       "      <td>-87.651879</td>\n",
       "      <td>5</td>\n",
       "      <td>127000</td>\n",
       "      <td>Other Health Providers</td>\n",
       "      <td>3</td>\n",
       "    </tr>\n",
       "    <tr>\n",
       "      <th>1</th>\n",
       "      <td>2</td>\n",
       "      <td>Hamdard Center for Health and Human Services</td>\n",
       "      <td>41.997852</td>\n",
       "      <td>-87.669535</td>\n",
       "      <td>5</td>\n",
       "      <td>190000</td>\n",
       "      <td>Other Health Providers</td>\n",
       "      <td>77</td>\n",
       "    </tr>\n",
       "    <tr>\n",
       "      <th>2</th>\n",
       "      <td>3</td>\n",
       "      <td>Infant Welfare Society of Chicago</td>\n",
       "      <td>41.924904</td>\n",
       "      <td>-87.717270</td>\n",
       "      <td>5</td>\n",
       "      <td>137000</td>\n",
       "      <td>Other Health Providers</td>\n",
       "      <td>22</td>\n",
       "    </tr>\n",
       "    <tr>\n",
       "      <th>3</th>\n",
       "      <td>4</td>\n",
       "      <td>Mercy Family - Henry Booth House Family Health...</td>\n",
       "      <td>41.841694</td>\n",
       "      <td>-87.624790</td>\n",
       "      <td>5</td>\n",
       "      <td>159000</td>\n",
       "      <td>Other Health Providers</td>\n",
       "      <td>35</td>\n",
       "    </tr>\n",
       "    <tr>\n",
       "      <th>4</th>\n",
       "      <td>6</td>\n",
       "      <td>Cook County - Dr. Jorge Prieto Health Center</td>\n",
       "      <td>41.847143</td>\n",
       "      <td>-87.724975</td>\n",
       "      <td>5</td>\n",
       "      <td>166000</td>\n",
       "      <td>Other Health Providers</td>\n",
       "      <td>30</td>\n",
       "    </tr>\n",
       "  </tbody>\n",
       "</table>\n",
       "</div>"
      ],
      "text/plain": [
       "   ID                                           Facility        lat  \\\n",
       "0   1    American Indian Health Service of Chicago, Inc.  41.956676   \n",
       "1   2       Hamdard Center for Health and Human Services  41.997852   \n",
       "2   3                  Infant Welfare Society of Chicago  41.924904   \n",
       "3   4  Mercy Family - Henry Booth House Family Health...  41.841694   \n",
       "4   6       Cook County - Dr. Jorge Prieto Health Center  41.847143   \n",
       "\n",
       "         lon  Type  capacity                category  community  \n",
       "0 -87.651879     5    127000  Other Health Providers          3  \n",
       "1 -87.669535     5    190000  Other Health Providers         77  \n",
       "2 -87.717270     5    137000  Other Health Providers         22  \n",
       "3 -87.624790     5    159000  Other Health Providers         35  \n",
       "4 -87.724975     5    166000  Other Health Providers         30  "
      ]
     },
     "execution_count": 4,
     "metadata": {},
     "output_type": "execute_result"
    }
   ],
   "source": [
    "dests_df.head()"
   ]
  },
  {
   "cell_type": "markdown",
   "metadata": {},
   "source": [
    "View the first 5 records of the travel time matrix:"
   ]
  },
  {
   "cell_type": "code",
   "execution_count": 5,
   "metadata": {},
   "outputs": [
    {
     "data": {
      "text/html": [
       "<div>\n",
       "<style scoped>\n",
       "    .dataframe tbody tr th:only-of-type {\n",
       "        vertical-align: middle;\n",
       "    }\n",
       "\n",
       "    .dataframe tbody tr th {\n",
       "        vertical-align: top;\n",
       "    }\n",
       "\n",
       "    .dataframe thead th {\n",
       "        text-align: right;\n",
       "    }\n",
       "</style>\n",
       "<table border=\"1\" class=\"dataframe\">\n",
       "  <thead>\n",
       "    <tr style=\"text-align: right;\">\n",
       "      <th></th>\n",
       "      <th>Unnamed: 0</th>\n",
       "      <th>1</th>\n",
       "      <th>2</th>\n",
       "      <th>3</th>\n",
       "      <th>4</th>\n",
       "      <th>6</th>\n",
       "      <th>8</th>\n",
       "      <th>9</th>\n",
       "      <th>10</th>\n",
       "      <th>11</th>\n",
       "      <th>...</th>\n",
       "      <th>198</th>\n",
       "      <th>199</th>\n",
       "      <th>200</th>\n",
       "      <th>201</th>\n",
       "      <th>202</th>\n",
       "      <th>203</th>\n",
       "      <th>204</th>\n",
       "      <th>205</th>\n",
       "      <th>206</th>\n",
       "      <th>Unnamed: 200</th>\n",
       "    </tr>\n",
       "  </thead>\n",
       "  <tbody>\n",
       "    <tr>\n",
       "      <th>0</th>\n",
       "      <td>17031842400</td>\n",
       "      <td>17870</td>\n",
       "      <td>21397</td>\n",
       "      <td>17892</td>\n",
       "      <td>8483</td>\n",
       "      <td>13529</td>\n",
       "      <td>12425</td>\n",
       "      <td>5704</td>\n",
       "      <td>16935</td>\n",
       "      <td>7565</td>\n",
       "      <td>...</td>\n",
       "      <td>13236</td>\n",
       "      <td>16767</td>\n",
       "      <td>11419</td>\n",
       "      <td>14396</td>\n",
       "      <td>10325</td>\n",
       "      <td>12874</td>\n",
       "      <td>9266</td>\n",
       "      <td>8919</td>\n",
       "      <td>1718</td>\n",
       "      <td>NaN</td>\n",
       "    </tr>\n",
       "    <tr>\n",
       "      <th>1</th>\n",
       "      <td>17031840300</td>\n",
       "      <td>11391</td>\n",
       "      <td>13937</td>\n",
       "      <td>8845</td>\n",
       "      <td>4120</td>\n",
       "      <td>3713</td>\n",
       "      <td>3939</td>\n",
       "      <td>6358</td>\n",
       "      <td>8448</td>\n",
       "      <td>3721</td>\n",
       "      <td>...</td>\n",
       "      <td>4671</td>\n",
       "      <td>7050</td>\n",
       "      <td>3438</td>\n",
       "      <td>22725</td>\n",
       "      <td>1777</td>\n",
       "      <td>4898</td>\n",
       "      <td>3682</td>\n",
       "      <td>4482</td>\n",
       "      <td>8430</td>\n",
       "      <td>NaN</td>\n",
       "    </tr>\n",
       "    <tr>\n",
       "      <th>2</th>\n",
       "      <td>17031841100</td>\n",
       "      <td>9050</td>\n",
       "      <td>12577</td>\n",
       "      <td>9155</td>\n",
       "      <td>1374</td>\n",
       "      <td>5748</td>\n",
       "      <td>4035</td>\n",
       "      <td>5015</td>\n",
       "      <td>8198</td>\n",
       "      <td>2295</td>\n",
       "      <td>...</td>\n",
       "      <td>4799</td>\n",
       "      <td>8430</td>\n",
       "      <td>3042</td>\n",
       "      <td>21403</td>\n",
       "      <td>4769</td>\n",
       "      <td>4410</td>\n",
       "      <td>525</td>\n",
       "      <td>1494</td>\n",
       "      <td>9341</td>\n",
       "      <td>NaN</td>\n",
       "    </tr>\n",
       "    <tr>\n",
       "      <th>3</th>\n",
       "      <td>17031841200</td>\n",
       "      <td>9649</td>\n",
       "      <td>12195</td>\n",
       "      <td>7306</td>\n",
       "      <td>4588</td>\n",
       "      <td>3049</td>\n",
       "      <td>2017</td>\n",
       "      <td>8015</td>\n",
       "      <td>6846</td>\n",
       "      <td>5313</td>\n",
       "      <td>...</td>\n",
       "      <td>2958</td>\n",
       "      <td>5512</td>\n",
       "      <td>1672</td>\n",
       "      <td>24415</td>\n",
       "      <td>3590</td>\n",
       "      <td>3156</td>\n",
       "      <td>3484</td>\n",
       "      <td>4701</td>\n",
       "      <td>10378</td>\n",
       "      <td>NaN</td>\n",
       "    </tr>\n",
       "    <tr>\n",
       "      <th>4</th>\n",
       "      <td>17031838200</td>\n",
       "      <td>8222</td>\n",
       "      <td>10768</td>\n",
       "      <td>6219</td>\n",
       "      <td>5068</td>\n",
       "      <td>3794</td>\n",
       "      <td>590</td>\n",
       "      <td>8589</td>\n",
       "      <td>5440</td>\n",
       "      <td>5887</td>\n",
       "      <td>...</td>\n",
       "      <td>1552</td>\n",
       "      <td>4789</td>\n",
       "      <td>853</td>\n",
       "      <td>24887</td>\n",
       "      <td>5067</td>\n",
       "      <td>1729</td>\n",
       "      <td>3964</td>\n",
       "      <td>5181</td>\n",
       "      <td>10959</td>\n",
       "      <td>NaN</td>\n",
       "    </tr>\n",
       "  </tbody>\n",
       "</table>\n",
       "<p>5 rows × 201 columns</p>\n",
       "</div>"
      ],
      "text/plain": [
       "    Unnamed: 0      1      2      3     4      6      8     9     10    11  \\\n",
       "0  17031842400  17870  21397  17892  8483  13529  12425  5704  16935  7565   \n",
       "1  17031840300  11391  13937   8845  4120   3713   3939  6358   8448  3721   \n",
       "2  17031841100   9050  12577   9155  1374   5748   4035  5015   8198  2295   \n",
       "3  17031841200   9649  12195   7306  4588   3049   2017  8015   6846  5313   \n",
       "4  17031838200   8222  10768   6219  5068   3794    590  8589   5440  5887   \n",
       "\n",
       "   ...    198    199    200    201    202    203   204   205    206  \\\n",
       "0  ...  13236  16767  11419  14396  10325  12874  9266  8919   1718   \n",
       "1  ...   4671   7050   3438  22725   1777   4898  3682  4482   8430   \n",
       "2  ...   4799   8430   3042  21403   4769   4410   525  1494   9341   \n",
       "3  ...   2958   5512   1672  24415   3590   3156  3484  4701  10378   \n",
       "4  ...   1552   4789    853  24887   5067   1729  3964  5181  10959   \n",
       "\n",
       "   Unnamed: 200  \n",
       "0           NaN  \n",
       "1           NaN  \n",
       "2           NaN  \n",
       "3           NaN  \n",
       "4           NaN  \n",
       "\n",
       "[5 rows x 201 columns]"
      ]
     },
     "execution_count": 5,
     "metadata": {},
     "output_type": "execute_result"
    }
   ],
   "source": [
    "matrix_df.head()"
   ]
  },
  {
   "cell_type": "markdown",
   "metadata": {},
   "source": [
    "---\n",
    "\n",
    "## Access Model: Access Score for Multiple Destinations\n",
    "\n",
    "\n",
    "The Access Model generates an access score to measure how accessible a location is to multiple amenities within a given travel time (e.g. 20 minutes walking). You can specify three types of weights for this score: \n",
    "\n",
    "1) **distance decay** where closer amenities have more weight (default = linear)  \n",
    "2) **relative importance of an amenity type** (e.g. with a greater weight for supermarkets than museums)  \n",
    "3) **penalty for same types** (where more of the same type of amenity gets less weight). \n",
    "\n",
    "You can estimate the score with or without normalization.  \n",
    "The AccessModel does not require population or target variables.\n"
   ]
  },
  {
   "cell_type": "markdown",
   "metadata": {},
   "source": [
    "### Specifications for the Access Model:\n",
    "\n",
    "**name = AccessModel( )**\n",
    "* **network_type** ('walk', 'bike', 'drive', 'otp') \n",
    "* **sources_filename** (sources file)\n",
    "* **destinations_filename** (destinations file)\n",
    "* **source_column_names** (dictionary that contains column names (lat/lon/ID))\n",
    "* **dest_column_names** (dictionary that contains column names (lat/lon/ID/category))\n",
    "* **transit_matrix_filename** (sources-destination travel time matrix). If None, matrix estimated 'on the fly'.\n",
    "* **decay_function** ('linear', 'root', 'logit', default is 'linear')\n",
    "\n",
    "Note: Some access metrics do not need `population` or `capacity` columns but the prompt might still ask you for that column.  If the population or capacity column are not needed, write as 'skip' in source_column_names/dest_column_names.\n",
    "\n",
    "**Column Inputs**\n",
    "* Standard data requirements (see above)\n",
    "\n",
    "**name.calculate()**\n",
    "- **upper_threshold** (maximum number of seconds between origins and destinations)\n",
    "- **category_weight_dict** (specifies the weight (importance) of each destination as a dictionary; default weights = [1,1,1,1,1,1,1,1,1,1])\n",
    "- **normalize** (Boolean: default is False and shows non-normalized results; True shows normalized values.)\n",
    "- **normalize_type** ('z_score' or 'minmax', default = 'minmax')\n",
    "\n",
    "**Functions within the Access Model class** (use as name.function())\n",
    "- calculate () \n",
    "- set.focus.categories()\n",
    "- aggregate() \n",
    "- plot_cdf()\n",
    "- plot_chloropleth ()\n",
    "\n",
    "Each function is demonstrated below.\n",
    "\n",
    "When specifying the Access Model, use the previously generated travel time matrix. Also specify the desired distance decay function. Here, source_column_names and dest_column_names are not specified so the model will ask you to map column names to expected values. "
   ]
  },
  {
   "cell_type": "markdown",
   "metadata": {},
   "source": [
    "---\n",
    "\n",
    "Specify travel mode, file names, variable names and the distance decay function:"
   ]
  },
  {
   "cell_type": "code",
   "execution_count": null,
   "metadata": {},
   "outputs": [],
   "source": [
    "accessM = AccessModel(network_type='walk',\n",
    "                      sources_filename='./data/input_data/sources/tracts2010.csv',\n",
    "                      destinations_filename='./data/input_data/destinations/health_chicago.csv',\n",
    "                      transit_matrix_filename='./data/matrices/walk_asym_health_tracts.csv',\n",
    "                      decay_function='linear')"
   ]
  },
  {
   "cell_type": "markdown",
   "metadata": {},
   "source": [
    "Specify the weights for relative importance and same types:"
   ]
  },
  {
   "cell_type": "code",
   "execution_count": 68,
   "metadata": {},
   "outputs": [],
   "source": [
    "dict = {\n",
    "\"Hospitals\": [10,10,10,10,10],\n",
    "\"Federally Qualified Health Centers\": [8, 7, 6, 5, 4],\n",
    "\"School-Based Health Centers\": [7, 7, 6, 6, 5],\n",
    "\"All Free Health Clinics\": [5, 5, 5, 4, 4],\n",
    "\"Other Health Providers\": [4, 3, 2, 1, 1]\n",
    "}"
   ]
  },
  {
   "cell_type": "markdown",
   "metadata": {},
   "source": [
    "Specify the travel time threshold in seconds (e.g. 1,800 seconds = 30 minutes), whether or not to normalize the score, and the importance/variety weights:"
   ]
  },
  {
   "cell_type": "code",
   "execution_count": null,
   "metadata": {},
   "outputs": [],
   "source": [
    "accessM.calculate(upper_threshold=1800,\n",
    "                 category_weight_dict=dict,\n",
    "                 normalize=False)"
   ]
  },
  {
   "cell_type": "code",
   "execution_count": 70,
   "metadata": {},
   "outputs": [
    {
     "data": {
      "text/html": [
       "<div>\n",
       "<style scoped>\n",
       "    .dataframe tbody tr th:only-of-type {\n",
       "        vertical-align: middle;\n",
       "    }\n",
       "\n",
       "    .dataframe tbody tr th {\n",
       "        vertical-align: top;\n",
       "    }\n",
       "\n",
       "    .dataframe thead th {\n",
       "        text-align: right;\n",
       "    }\n",
       "</style>\n",
       "<table border=\"1\" class=\"dataframe\">\n",
       "  <thead>\n",
       "    <tr style=\"text-align: right;\">\n",
       "      <th></th>\n",
       "      <th>all_categories_score</th>\n",
       "      <th>All Free Health Clinics_score</th>\n",
       "      <th>School-Based Health Centers_score</th>\n",
       "      <th>Federally Qualified Health Centers_score</th>\n",
       "      <th>Other Health Providers_score</th>\n",
       "      <th>Hospitals_score</th>\n",
       "    </tr>\n",
       "  </thead>\n",
       "  <tbody>\n",
       "    <tr>\n",
       "      <th>17031842400</th>\n",
       "      <td>0.318889</td>\n",
       "      <td>0.000000</td>\n",
       "      <td>0.318889</td>\n",
       "      <td>0.000000</td>\n",
       "      <td>0.000000</td>\n",
       "      <td>0.000000</td>\n",
       "    </tr>\n",
       "    <tr>\n",
       "      <th>17031840300</th>\n",
       "      <td>6.784444</td>\n",
       "      <td>0.000000</td>\n",
       "      <td>0.089444</td>\n",
       "      <td>6.695000</td>\n",
       "      <td>0.000000</td>\n",
       "      <td>0.000000</td>\n",
       "    </tr>\n",
       "    <tr>\n",
       "      <th>17031841100</th>\n",
       "      <td>14.783889</td>\n",
       "      <td>0.072222</td>\n",
       "      <td>6.148333</td>\n",
       "      <td>1.884444</td>\n",
       "      <td>4.323333</td>\n",
       "      <td>2.355556</td>\n",
       "    </tr>\n",
       "    <tr>\n",
       "      <th>17031841200</th>\n",
       "      <td>29.545556</td>\n",
       "      <td>0.000000</td>\n",
       "      <td>7.127778</td>\n",
       "      <td>14.178889</td>\n",
       "      <td>0.000000</td>\n",
       "      <td>8.238889</td>\n",
       "    </tr>\n",
       "    <tr>\n",
       "      <th>17031838200</th>\n",
       "      <td>47.820000</td>\n",
       "      <td>1.008333</td>\n",
       "      <td>6.667222</td>\n",
       "      <td>8.044444</td>\n",
       "      <td>2.688889</td>\n",
       "      <td>29.411111</td>\n",
       "    </tr>\n",
       "  </tbody>\n",
       "</table>\n",
       "</div>"
      ],
      "text/plain": [
       "             all_categories_score  All Free Health Clinics_score  \\\n",
       "17031842400              0.318889                       0.000000   \n",
       "17031840300              6.784444                       0.000000   \n",
       "17031841100             14.783889                       0.072222   \n",
       "17031841200             29.545556                       0.000000   \n",
       "17031838200             47.820000                       1.008333   \n",
       "\n",
       "             School-Based Health Centers_score  \\\n",
       "17031842400                           0.318889   \n",
       "17031840300                           0.089444   \n",
       "17031841100                           6.148333   \n",
       "17031841200                           7.127778   \n",
       "17031838200                           6.667222   \n",
       "\n",
       "             Federally Qualified Health Centers_score  \\\n",
       "17031842400                                  0.000000   \n",
       "17031840300                                  6.695000   \n",
       "17031841100                                  1.884444   \n",
       "17031841200                                 14.178889   \n",
       "17031838200                                  8.044444   \n",
       "\n",
       "             Other Health Providers_score  Hospitals_score  \n",
       "17031842400                      0.000000         0.000000  \n",
       "17031840300                      0.000000         0.000000  \n",
       "17031841100                      4.323333         2.355556  \n",
       "17031841200                      0.000000         8.238889  \n",
       "17031838200                      2.688889        29.411111  "
      ]
     },
     "execution_count": 70,
     "metadata": {},
     "output_type": "execute_result"
    }
   ],
   "source": [
    "#Preview the results\n",
    "accessM.model_results.head()"
   ]
  },
  {
   "cell_type": "markdown",
   "metadata": {},
   "source": [
    "### **After constructing the Access Model**\n",
    "\n",
    "#### **Once the access model is built, we can do several things:**\n",
    "- Write out the data frame to a csv file\n",
    "- Aggregate the results to a higher geographic level (in this example, from tracts to community areas)\n",
    "- Subset data for specific categories of destinations (in this example, Federally Qualified Health Centers)\n",
    "- Plot choropleth maps and cumulative distributive functions (CDF)"
   ]
  },
  {
   "cell_type": "markdown",
   "metadata": {},
   "source": [
    "#### **Write Output to CSV**\n",
    "\n",
    "Save the output as access_health_tracts_chicago.csv:"
   ]
  },
  {
   "cell_type": "code",
   "execution_count": 71,
   "metadata": {},
   "outputs": [],
   "source": [
    "accessM.model_results.to_csv('./data/output_data/models/access_health_tracts_chicago.csv')"
   ]
  },
  {
   "cell_type": "markdown",
   "metadata": {},
   "source": [
    "#### Visualize the data\n",
    "\n",
    "Once the scores are in a csv, merge the scores to the origin's spatial file and map the scores to view the spatial distribution of the access scores. Here is example by tract:"
   ]
  },
  {
   "cell_type": "markdown",
   "metadata": {},
   "source": [
    "<img src=\"./figures/Access_Model_all.png\" width=500 title=\"Optional title\"/>"
   ]
  },
  {
   "cell_type": "markdown",
   "metadata": {},
   "source": [
    "#### **Aggregate to a Larger Geographic Scale**\n",
    "\n",
    "The current results are displayed at the tract level. To view the results at a higher geographic level, we aggregate them at the community level. Then we write these results to a csv file. "
   ]
  },
  {
   "cell_type": "code",
   "execution_count": null,
   "metadata": {},
   "outputs": [],
   "source": [
    "#specify a shapefile and projection\n",
    "accessM.aggregate(aggregation_type=None,\n",
    "                  shapefile='./data/chicago_boundaries/chicago_boundaries.shp',\n",
    "                  spatial_index='community',\n",
    "                  projection='epsg:4326')"
   ]
  },
  {
   "cell_type": "code",
   "execution_count": 74,
   "metadata": {},
   "outputs": [
    {
     "data": {
      "text/html": [
       "<div>\n",
       "<style scoped>\n",
       "    .dataframe tbody tr th:only-of-type {\n",
       "        vertical-align: middle;\n",
       "    }\n",
       "\n",
       "    .dataframe tbody tr th {\n",
       "        vertical-align: top;\n",
       "    }\n",
       "\n",
       "    .dataframe thead th {\n",
       "        text-align: right;\n",
       "    }\n",
       "</style>\n",
       "<table border=\"1\" class=\"dataframe\">\n",
       "  <thead>\n",
       "    <tr style=\"text-align: right;\">\n",
       "      <th></th>\n",
       "      <th>all_categories_score</th>\n",
       "      <th>All Free Health Clinics_score</th>\n",
       "      <th>School-Based Health Centers_score</th>\n",
       "      <th>Federally Qualified Health Centers_score</th>\n",
       "      <th>Other Health Providers_score</th>\n",
       "      <th>Hospitals_score</th>\n",
       "    </tr>\n",
       "    <tr>\n",
       "      <th>spatial_index</th>\n",
       "      <th></th>\n",
       "      <th></th>\n",
       "      <th></th>\n",
       "      <th></th>\n",
       "      <th></th>\n",
       "      <th></th>\n",
       "    </tr>\n",
       "  </thead>\n",
       "  <tbody>\n",
       "    <tr>\n",
       "      <th>ALBANY PARK</th>\n",
       "      <td>15.033384</td>\n",
       "      <td>0.000000</td>\n",
       "      <td>6.700202</td>\n",
       "      <td>6.021566</td>\n",
       "      <td>0.000</td>\n",
       "      <td>2.311616</td>\n",
       "    </tr>\n",
       "    <tr>\n",
       "      <th>ARCHER HEIGHTS</th>\n",
       "      <td>6.844778</td>\n",
       "      <td>0.000000</td>\n",
       "      <td>0.000000</td>\n",
       "      <td>6.844778</td>\n",
       "      <td>0.000</td>\n",
       "      <td>0.000000</td>\n",
       "    </tr>\n",
       "    <tr>\n",
       "      <th>ARMOUR SQUARE</th>\n",
       "      <td>14.017778</td>\n",
       "      <td>0.014444</td>\n",
       "      <td>4.840333</td>\n",
       "      <td>3.961000</td>\n",
       "      <td>3.122</td>\n",
       "      <td>2.080000</td>\n",
       "    </tr>\n",
       "    <tr>\n",
       "      <th>ASHBURN</th>\n",
       "      <td>0.126389</td>\n",
       "      <td>0.000000</td>\n",
       "      <td>0.000000</td>\n",
       "      <td>0.000000</td>\n",
       "      <td>0.000</td>\n",
       "      <td>0.126389</td>\n",
       "    </tr>\n",
       "    <tr>\n",
       "      <th>AUBURN GRESHAM</th>\n",
       "      <td>5.466593</td>\n",
       "      <td>0.000000</td>\n",
       "      <td>2.484741</td>\n",
       "      <td>2.981852</td>\n",
       "      <td>0.000</td>\n",
       "      <td>0.000000</td>\n",
       "    </tr>\n",
       "  </tbody>\n",
       "</table>\n",
       "</div>"
      ],
      "text/plain": [
       "                all_categories_score  All Free Health Clinics_score  \\\n",
       "spatial_index                                                         \n",
       "ALBANY PARK                15.033384                       0.000000   \n",
       "ARCHER HEIGHTS              6.844778                       0.000000   \n",
       "ARMOUR SQUARE              14.017778                       0.014444   \n",
       "ASHBURN                     0.126389                       0.000000   \n",
       "AUBURN GRESHAM              5.466593                       0.000000   \n",
       "\n",
       "                School-Based Health Centers_score  \\\n",
       "spatial_index                                       \n",
       "ALBANY PARK                              6.700202   \n",
       "ARCHER HEIGHTS                           0.000000   \n",
       "ARMOUR SQUARE                            4.840333   \n",
       "ASHBURN                                  0.000000   \n",
       "AUBURN GRESHAM                           2.484741   \n",
       "\n",
       "                Federally Qualified Health Centers_score  \\\n",
       "spatial_index                                              \n",
       "ALBANY PARK                                     6.021566   \n",
       "ARCHER HEIGHTS                                  6.844778   \n",
       "ARMOUR SQUARE                                   3.961000   \n",
       "ASHBURN                                         0.000000   \n",
       "AUBURN GRESHAM                                  2.981852   \n",
       "\n",
       "                Other Health Providers_score  Hospitals_score  \n",
       "spatial_index                                                  \n",
       "ALBANY PARK                            0.000         2.311616  \n",
       "ARCHER HEIGHTS                         0.000         0.000000  \n",
       "ARMOUR SQUARE                          3.122         2.080000  \n",
       "ASHBURN                                0.000         0.126389  \n",
       "AUBURN GRESHAM                         0.000         0.000000  "
      ]
     },
     "execution_count": 74,
     "metadata": {},
     "output_type": "execute_result"
    }
   ],
   "source": [
    "#Preview the output of the aggregated results by community area\n",
    "accessM.aggregated_results.head()"
   ]
  },
  {
   "cell_type": "code",
   "execution_count": 73,
   "metadata": {},
   "outputs": [],
   "source": [
    "#For community areas: write to csv\n",
    "accessM.write_aggregated_results(filename = \"./data/output_data/models/accessModel_aggregated.csv\")\n"
   ]
  },
  {
   "cell_type": "markdown",
   "metadata": {},
   "source": [
    "#### Visualize the Aggregated Data"
   ]
  },
  {
   "cell_type": "markdown",
   "metadata": {},
   "source": [
    "<img src=\"./figures/access_mod_agg.png\" width=\"500\" title=\"Optional title\">"
   ]
  },
  {
   "cell_type": "markdown",
   "metadata": {},
   "source": [
    "#### **Plot Aggregated Data**"
   ]
  },
  {
   "cell_type": "markdown",
   "metadata": {},
   "source": [
    "The following cumulative distribution function shows the percentage of the population by access score."
   ]
  },
  {
   "cell_type": "code",
   "execution_count": 75,
   "metadata": {},
   "outputs": [
    {
     "name": "stderr",
     "output_type": "stream",
     "text": [
      "INFO:spatial_access.BaseModel:Plot was saved to: data/output_data/accessModel_CDFplot\n"
     ]
    },
    {
     "data": {
      "image/png": "[encoded data removed]",
      "text/plain": [
       "<Figure size 576x288 with 1 Axes>"
      ]
     },
     "metadata": {
      "needs_background": "light"
     },
     "output_type": "display_data"
    }
   ],
   "source": [
    "accessM.plot_cdf(filename = \"./data/output_data/accessModel_CDFplot.png\", \n",
    "                xlabel = \"Access Score\", ylabel = \"% population\", title = \"Access Model CDF Plot\")\n"
   ]
  },
  {
   "cell_type": "markdown",
   "metadata": {},
   "source": [
    "The in-built charts are not designed for presentation purposes but you can save the results and graph them in another program. Here is an example:"
   ]
  },
  {
   "cell_type": "markdown",
   "metadata": {},
   "source": [
    "<img src=\"figures/cdf_access_score.png\" width=\"650\" title=\"Optional title\"  align=\"center\">"
   ]
  },
  {
   "cell_type": "code",
   "execution_count": null,
   "metadata": {},
   "outputs": [],
   "source": [
    "accessM.plot_choropleth(column = \"all_categories_score\",\n",
    "                        title = \"Access Model Scores in Chicago\",\n",
    "                        filename = \"./data/output_data/accessModel_choropleth.png\")\n"
   ]
  },
  {
   "cell_type": "markdown",
   "metadata": {},
   "source": [
    "As with the plots above, in-built maps are not designed for presentation purposes but you can save the results and graph them in another program. Here is an example:"
   ]
  },
  {
   "cell_type": "markdown",
   "metadata": {},
   "source": [
    "<img src=\"figures/map_AccessModel.png\" width=\"650\" title=\"Optional title\"  align=\"center\">"
   ]
  },
  {
   "cell_type": "markdown",
   "metadata": {},
   "source": [
    "#### **Subset the Data to Calculate the Access Score for Specific Categories**"
   ]
  },
  {
   "cell_type": "code",
   "execution_count": null,
   "metadata": {},
   "outputs": [],
   "source": [
    "#Subset for Federally Qualified Health Centers (walking)\n",
    "accessM.set_focus_categories(['Federally Qualified Health Centers'])"
   ]
  },
  {
   "cell_type": "code",
   "execution_count": 66,
   "metadata": {},
   "outputs": [],
   "source": [
    "#Example of importance and variety weights:\n",
    "dict_FQ = {\n",
    "\"Federally Qualified Health Centers\": [10,10,10,10,10]\n",
    "}"
   ]
  },
  {
   "cell_type": "code",
   "execution_count": null,
   "metadata": {},
   "outputs": [],
   "source": [
    "accessM.calculate(upper_threshold=1800,\n",
    "                 normalize=True,\n",
    "                 category_weight_dict=dict_FQ)\n",
    "            "
   ]
  },
  {
   "cell_type": "code",
   "execution_count": 70,
   "metadata": {},
   "outputs": [
    {
     "data": {
      "text/html": [
       "<div>\n",
       "<style scoped>\n",
       "    .dataframe tbody tr th:only-of-type {\n",
       "        vertical-align: middle;\n",
       "    }\n",
       "\n",
       "    .dataframe tbody tr th {\n",
       "        vertical-align: top;\n",
       "    }\n",
       "\n",
       "    .dataframe thead th {\n",
       "        text-align: right;\n",
       "    }\n",
       "</style>\n",
       "<table border=\"1\" class=\"dataframe\">\n",
       "  <thead>\n",
       "    <tr style=\"text-align: right;\">\n",
       "      <th></th>\n",
       "      <th>all_categories_score</th>\n",
       "      <th>Federally Qualified Health Centers_score</th>\n",
       "      <th>Other Health Providers_score</th>\n",
       "      <th>School-Based Health Centers_score</th>\n",
       "      <th>All Free Health Clinics_score</th>\n",
       "      <th>Hospitals_score</th>\n",
       "    </tr>\n",
       "  </thead>\n",
       "  <tbody>\n",
       "    <tr>\n",
       "      <th>17031842400</th>\n",
       "      <td>0.0</td>\n",
       "      <td>NaN</td>\n",
       "      <td>NaN</td>\n",
       "      <td>0.0</td>\n",
       "      <td>NaN</td>\n",
       "      <td>NaN</td>\n",
       "    </tr>\n",
       "    <tr>\n",
       "      <th>17031840300</th>\n",
       "      <td>0.0</td>\n",
       "      <td>NaN</td>\n",
       "      <td>NaN</td>\n",
       "      <td>0.0</td>\n",
       "      <td>NaN</td>\n",
       "      <td>NaN</td>\n",
       "    </tr>\n",
       "    <tr>\n",
       "      <th>17031841100</th>\n",
       "      <td>0.0</td>\n",
       "      <td>NaN</td>\n",
       "      <td>NaN</td>\n",
       "      <td>0.0</td>\n",
       "      <td>NaN</td>\n",
       "      <td>NaN</td>\n",
       "    </tr>\n",
       "    <tr>\n",
       "      <th>17031841200</th>\n",
       "      <td>0.0</td>\n",
       "      <td>NaN</td>\n",
       "      <td>NaN</td>\n",
       "      <td>0.0</td>\n",
       "      <td>NaN</td>\n",
       "      <td>NaN</td>\n",
       "    </tr>\n",
       "    <tr>\n",
       "      <th>17031838200</th>\n",
       "      <td>0.0</td>\n",
       "      <td>NaN</td>\n",
       "      <td>NaN</td>\n",
       "      <td>0.0</td>\n",
       "      <td>NaN</td>\n",
       "      <td>NaN</td>\n",
       "    </tr>\n",
       "  </tbody>\n",
       "</table>\n",
       "</div>"
      ],
      "text/plain": [
       "             all_categories_score  Federally Qualified Health Centers_score  \\\n",
       "17031842400                   0.0                                       NaN   \n",
       "17031840300                   0.0                                       NaN   \n",
       "17031841100                   0.0                                       NaN   \n",
       "17031841200                   0.0                                       NaN   \n",
       "17031838200                   0.0                                       NaN   \n",
       "\n",
       "             Other Health Providers_score  School-Based Health Centers_score  \\\n",
       "17031842400                           NaN                                0.0   \n",
       "17031840300                           NaN                                0.0   \n",
       "17031841100                           NaN                                0.0   \n",
       "17031841200                           NaN                                0.0   \n",
       "17031838200                           NaN                                0.0   \n",
       "\n",
       "             All Free Health Clinics_score  Hospitals_score  \n",
       "17031842400                            NaN              NaN  \n",
       "17031840300                            NaN              NaN  \n",
       "17031841100                            NaN              NaN  \n",
       "17031841200                            NaN              NaN  \n",
       "17031838200                            NaN              NaN  "
      ]
     },
     "execution_count": 70,
     "metadata": {},
     "output_type": "execute_result"
    }
   ],
   "source": [
    "#Preview the results\n",
    "accessM.model_results.head()"
   ]
  },
  {
   "cell_type": "code",
   "execution_count": 72,
   "metadata": {},
   "outputs": [],
   "source": [
    "accessM.model_results.to_csv('./data/output_data/models/FQHC.csv')"
   ]
  },
  {
   "cell_type": "markdown",
   "metadata": {},
   "source": [
    "## AccessTime: Time to the closest destination\n",
    "\n",
    "AccessTime calculate the time it takes to reach the closest destination for each point of origin.  \n",
    "AccessTime does not require population or target variables.\n",
    "\n",
    "### Specifications for AccessTime\n",
    "\n",
    "**name = AccessTime( )**\n",
    "* **network_type** ('walk', 'bike', 'drive', 'otp') \n",
    "* **sources_filename** (primary input data)\n",
    "* **destinations_filename** (secondary input data)\n",
    "* **source_column_names** (dictionary that contains column names (lat/lon/ID))\n",
    "* **dest_column_names** (dictionary that contains column names (lat/lon/ID/category))\n",
    "* **transit_matrix_filename** (sources-destination travel time matrix). If None, matrix estimated 'on the fly'.\n",
    "\n",
    "**Column Inputs**\n",
    "* Standard data requirements (see above)\n",
    "\n",
    "**name.calculate()**\n",
    "* no specific input\n",
    "\n",
    "**Functions within the AccessTime class** (use as name.function())  \n",
    "- calculate () \n",
    "- aggregate() \n",
    "- set.focus.categories()\n",
    "- plot_cdf()\n",
    "- plot_choropleth\n"
   ]
  },
  {
   "cell_type": "markdown",
   "metadata": {},
   "source": [
    "##### **Note**: \n",
    "For the following models, the examples specify source_column_names and dest_column_names upfront to avoid having to specify the expected values every time."
   ]
  },
  {
   "cell_type": "code",
   "execution_count": null,
   "metadata": {},
   "outputs": [],
   "source": [
    "accessT = AccessTime(network_type='walk',\n",
    "                     transit_matrix_filename = './data/matrices/walk_asym_health_tracts.csv',\n",
    "                     sources_filename='./data/input_data/sources/tracts2010.csv',\n",
    "                     destinations_filename='./data/input_data/destinations/health_chicago.csv',\n",
    "                     source_column_names={'idx' : 'geoid10', 'population': 'skip', 'lat': 'lat', 'lon': 'lon'},\n",
    "                     dest_column_names={'idx': 'ID', 'capacity': 'skip', 'category': 'category', 'lat': 'lat', 'lon': 'lon'}\n",
    "                    )\n"
   ]
  },
  {
   "cell_type": "code",
   "execution_count": null,
   "metadata": {},
   "outputs": [],
   "source": [
    "#calculate Access Time\n",
    "accessT.calculate()"
   ]
  },
  {
   "cell_type": "code",
   "execution_count": 80,
   "metadata": {},
   "outputs": [
    {
     "data": {
      "text/html": [
       "<div>\n",
       "<style scoped>\n",
       "    .dataframe tbody tr th:only-of-type {\n",
       "        vertical-align: middle;\n",
       "    }\n",
       "\n",
       "    .dataframe tbody tr th {\n",
       "        vertical-align: top;\n",
       "    }\n",
       "\n",
       "    .dataframe thead th {\n",
       "        text-align: right;\n",
       "    }\n",
       "</style>\n",
       "<table border=\"1\" class=\"dataframe\">\n",
       "  <thead>\n",
       "    <tr style=\"text-align: right;\">\n",
       "      <th></th>\n",
       "      <th>time_to_nearest_All Free Health Clinics</th>\n",
       "      <th>time_to_nearest_School-Based Health Centers</th>\n",
       "      <th>time_to_nearest_Federally Qualified Health Centers</th>\n",
       "      <th>time_to_nearest_Other Health Providers</th>\n",
       "      <th>time_to_nearest_Hospitals</th>\n",
       "      <th>time_to_nearest_all_categories</th>\n",
       "    </tr>\n",
       "  </thead>\n",
       "  <tbody>\n",
       "    <tr>\n",
       "      <th>17031842400</th>\n",
       "      <td>3580</td>\n",
       "      <td>1718</td>\n",
       "      <td>2472</td>\n",
       "      <td>4831</td>\n",
       "      <td>3243</td>\n",
       "      <td>1718</td>\n",
       "    </tr>\n",
       "    <tr>\n",
       "      <th>17031840300</th>\n",
       "      <td>3289</td>\n",
       "      <td>1777</td>\n",
       "      <td>515</td>\n",
       "      <td>3329</td>\n",
       "      <td>2760</td>\n",
       "      <td>515</td>\n",
       "    </tr>\n",
       "    <tr>\n",
       "      <th>17031841100</th>\n",
       "      <td>1774</td>\n",
       "      <td>525</td>\n",
       "      <td>1376</td>\n",
       "      <td>174</td>\n",
       "      <td>1376</td>\n",
       "      <td>174</td>\n",
       "    </tr>\n",
       "    <tr>\n",
       "      <th>17031841200</th>\n",
       "      <td>2864</td>\n",
       "      <td>536</td>\n",
       "      <td>652</td>\n",
       "      <td>2017</td>\n",
       "      <td>1222</td>\n",
       "      <td>536</td>\n",
       "    </tr>\n",
       "    <tr>\n",
       "      <th>17031838200</th>\n",
       "      <td>1437</td>\n",
       "      <td>853</td>\n",
       "      <td>562</td>\n",
       "      <td>590</td>\n",
       "      <td>246</td>\n",
       "      <td>246</td>\n",
       "    </tr>\n",
       "  </tbody>\n",
       "</table>\n",
       "</div>"
      ],
      "text/plain": [
       "             time_to_nearest_All Free Health Clinics  \\\n",
       "17031842400                                     3580   \n",
       "17031840300                                     3289   \n",
       "17031841100                                     1774   \n",
       "17031841200                                     2864   \n",
       "17031838200                                     1437   \n",
       "\n",
       "             time_to_nearest_School-Based Health Centers  \\\n",
       "17031842400                                         1718   \n",
       "17031840300                                         1777   \n",
       "17031841100                                          525   \n",
       "17031841200                                          536   \n",
       "17031838200                                          853   \n",
       "\n",
       "             time_to_nearest_Federally Qualified Health Centers  \\\n",
       "17031842400                                               2472    \n",
       "17031840300                                                515    \n",
       "17031841100                                               1376    \n",
       "17031841200                                                652    \n",
       "17031838200                                                562    \n",
       "\n",
       "             time_to_nearest_Other Health Providers  \\\n",
       "17031842400                                    4831   \n",
       "17031840300                                    3329   \n",
       "17031841100                                     174   \n",
       "17031841200                                    2017   \n",
       "17031838200                                     590   \n",
       "\n",
       "             time_to_nearest_Hospitals  time_to_nearest_all_categories  \n",
       "17031842400                       3243                            1718  \n",
       "17031840300                       2760                             515  \n",
       "17031841100                       1376                             174  \n",
       "17031841200                       1222                             536  \n",
       "17031838200                        246                             246  "
      ]
     },
     "execution_count": 80,
     "metadata": {},
     "output_type": "execute_result"
    }
   ],
   "source": [
    "#Preview the results\n",
    "accessT.model_results.head()"
   ]
  },
  {
   "cell_type": "markdown",
   "metadata": {},
   "source": [
    "#### **Write Data Frame to CSV**"
   ]
  },
  {
   "cell_type": "code",
   "execution_count": 81,
   "metadata": {},
   "outputs": [],
   "source": [
    "accessT.model_results.to_csv('./data/output_data/models/accessTime2010.csv')"
   ]
  },
  {
   "cell_type": "markdown",
   "metadata": {},
   "source": [
    "#### **Aggregate Data to the Community Area Level**"
   ]
  },
  {
   "cell_type": "code",
   "execution_count": null,
   "metadata": {},
   "outputs": [],
   "source": [
    "accessT.aggregate(aggregation_type = 'mean',\n",
    "                  shapefile='./data/chicago_boundaries/chicago_boundaries.shp',\n",
    "                  spatial_index='community',\n",
    "                  projection='epsg:4326')\n"
   ]
  },
  {
   "cell_type": "code",
   "execution_count": 87,
   "metadata": {},
   "outputs": [
    {
     "data": {
      "text/html": [
       "<div>\n",
       "<style scoped>\n",
       "    .dataframe tbody tr th:only-of-type {\n",
       "        vertical-align: middle;\n",
       "    }\n",
       "\n",
       "    .dataframe tbody tr th {\n",
       "        vertical-align: top;\n",
       "    }\n",
       "\n",
       "    .dataframe thead th {\n",
       "        text-align: right;\n",
       "    }\n",
       "</style>\n",
       "<table border=\"1\" class=\"dataframe\">\n",
       "  <thead>\n",
       "    <tr style=\"text-align: right;\">\n",
       "      <th></th>\n",
       "      <th>time_to_nearest_All Free Health Clinics</th>\n",
       "      <th>time_to_nearest_School-Based Health Centers</th>\n",
       "      <th>time_to_nearest_Federally Qualified Health Centers</th>\n",
       "      <th>time_to_nearest_Other Health Providers</th>\n",
       "      <th>time_to_nearest_Hospitals</th>\n",
       "      <th>time_to_nearest_all_categories</th>\n",
       "    </tr>\n",
       "    <tr>\n",
       "      <th>spatial_index</th>\n",
       "      <th></th>\n",
       "      <th></th>\n",
       "      <th></th>\n",
       "      <th></th>\n",
       "      <th></th>\n",
       "      <th></th>\n",
       "    </tr>\n",
       "  </thead>\n",
       "  <tbody>\n",
       "    <tr>\n",
       "      <th>ALBANY PARK</th>\n",
       "      <td>3160.909091</td>\n",
       "      <td>759.545455</td>\n",
       "      <td>1020.545455</td>\n",
       "      <td>3787.818182</td>\n",
       "      <td>1666.727273</td>\n",
       "      <td>734.272727</td>\n",
       "    </tr>\n",
       "    <tr>\n",
       "      <th>ARCHER HEIGHTS</th>\n",
       "      <td>4226.800000</td>\n",
       "      <td>2647.200000</td>\n",
       "      <td>886.800000</td>\n",
       "      <td>3563.200000</td>\n",
       "      <td>4692.200000</td>\n",
       "      <td>886.800000</td>\n",
       "    </tr>\n",
       "    <tr>\n",
       "      <th>ARMOUR SQUARE</th>\n",
       "      <td>2600.600000</td>\n",
       "      <td>1041.600000</td>\n",
       "      <td>1108.800000</td>\n",
       "      <td>826.600000</td>\n",
       "      <td>1509.200000</td>\n",
       "      <td>765.400000</td>\n",
       "    </tr>\n",
       "    <tr>\n",
       "      <th>ASHBURN</th>\n",
       "      <td>3996.875000</td>\n",
       "      <td>3354.375000</td>\n",
       "      <td>2955.875000</td>\n",
       "      <td>8258.750000</td>\n",
       "      <td>2287.000000</td>\n",
       "      <td>2236.375000</td>\n",
       "    </tr>\n",
       "    <tr>\n",
       "      <th>AUBURN GRESHAM</th>\n",
       "      <td>3638.533333</td>\n",
       "      <td>1179.400000</td>\n",
       "      <td>1132.466667</td>\n",
       "      <td>5745.866667</td>\n",
       "      <td>3260.133333</td>\n",
       "      <td>911.333333</td>\n",
       "    </tr>\n",
       "  </tbody>\n",
       "</table>\n",
       "</div>"
      ],
      "text/plain": [
       "                time_to_nearest_All Free Health Clinics  \\\n",
       "spatial_index                                             \n",
       "ALBANY PARK                                 3160.909091   \n",
       "ARCHER HEIGHTS                              4226.800000   \n",
       "ARMOUR SQUARE                               2600.600000   \n",
       "ASHBURN                                     3996.875000   \n",
       "AUBURN GRESHAM                              3638.533333   \n",
       "\n",
       "                time_to_nearest_School-Based Health Centers  \\\n",
       "spatial_index                                                 \n",
       "ALBANY PARK                                      759.545455   \n",
       "ARCHER HEIGHTS                                  2647.200000   \n",
       "ARMOUR SQUARE                                   1041.600000   \n",
       "ASHBURN                                         3354.375000   \n",
       "AUBURN GRESHAM                                  1179.400000   \n",
       "\n",
       "                time_to_nearest_Federally Qualified Health Centers  \\\n",
       "spatial_index                                                        \n",
       "ALBANY PARK                                           1020.545455    \n",
       "ARCHER HEIGHTS                                         886.800000    \n",
       "ARMOUR SQUARE                                         1108.800000    \n",
       "ASHBURN                                               2955.875000    \n",
       "AUBURN GRESHAM                                        1132.466667    \n",
       "\n",
       "                time_to_nearest_Other Health Providers  \\\n",
       "spatial_index                                            \n",
       "ALBANY PARK                                3787.818182   \n",
       "ARCHER HEIGHTS                             3563.200000   \n",
       "ARMOUR SQUARE                               826.600000   \n",
       "ASHBURN                                    8258.750000   \n",
       "AUBURN GRESHAM                             5745.866667   \n",
       "\n",
       "                time_to_nearest_Hospitals  time_to_nearest_all_categories  \n",
       "spatial_index                                                              \n",
       "ALBANY PARK                   1666.727273                      734.272727  \n",
       "ARCHER HEIGHTS                4692.200000                      886.800000  \n",
       "ARMOUR SQUARE                 1509.200000                      765.400000  \n",
       "ASHBURN                       2287.000000                     2236.375000  \n",
       "AUBURN GRESHAM                3260.133333                      911.333333  "
      ]
     },
     "execution_count": 87,
     "metadata": {},
     "output_type": "execute_result"
    }
   ],
   "source": [
    "accessT.aggregated_results.head()"
   ]
  },
  {
   "cell_type": "code",
   "execution_count": 88,
   "metadata": {},
   "outputs": [],
   "source": [
    "#write aggregated to csv\n",
    "accessT.write_aggregated_results(filename = 'data/output_data/models/accessTime_aggregated.csv')"
   ]
  },
  {
   "cell_type": "markdown",
   "metadata": {},
   "source": [
    "#### **Plot Aggregated Data**"
   ]
  },
  {
   "cell_type": "markdown",
   "metadata": {},
   "source": [
    "**CDF PLOT**"
   ]
  },
  {
   "cell_type": "code",
   "execution_count": null,
   "metadata": {},
   "outputs": [],
   "source": [
    "accessT.plot_cdf(plot_type = 'time_to_nearest_all_categories',\n",
    "                 title = 'Time to Nearest',\n",
    "                 xlabel = 'time (s)',\n",
    "                 ylabel = 'population',\n",
    "                 filename = 'data/output_data/accessTime_CDFplot_allcat.png'\n",
    "                )"
   ]
  },
  {
   "cell_type": "markdown",
   "metadata": {},
   "source": [
    "The in-built charts are not designed for presentation purposes but you can save the results and graph them in another program. Here is an example:"
   ]
  },
  {
   "cell_type": "markdown",
   "metadata": {},
   "source": [
    "<img src=\"figures/cdf_time.png\" width=\"550\" title=\"Optional title\"  align=\"center\">"
   ]
  },
  {
   "cell_type": "markdown",
   "metadata": {},
   "source": [
    "**CHOROPLETH MAP**"
   ]
  },
  {
   "cell_type": "code",
   "execution_count": 90,
   "metadata": {},
   "outputs": [
    {
     "name": "stderr",
     "output_type": "stream",
     "text": [
      "INFO:spatial_access.BaseModel:Figure was saved to: data/output_data/accessTime_choropleth\n"
     ]
    },
    {
     "data": {
      "image/png": "[encoded data removed]",
      "text/plain": [
       "<Figure size 432x288 with 1 Axes>"
      ]
     },
     "metadata": {
      "needs_background": "light"
     },
     "output_type": "display_data"
    }
   ],
   "source": [
    "accessT.plot_choropleth(column = 'time_to_nearest_all_categories',\n",
    "                        title = 'Time to Nearest Facility',\n",
    "                        filename = './data/output_data/accessTime_choropleth.png)"
   ]
  },
  {
   "cell_type": "markdown",
   "metadata": {},
   "source": [
    "As with the plots above, in-built maps are not designed for presentation purposes but you can save the results and graph them in another program. Here is an example:"
   ]
  },
  {
   "cell_type": "markdown",
   "metadata": {},
   "source": [
    "<img src=\"figures/map_AccessTime.png\" width=\"650\" title=\"Optional title\"  align=\"center\">"
   ]
  },
  {
   "cell_type": "markdown",
   "metadata": {},
   "source": [
    "#### **Subset Data for Categories of Destinations**\n",
    "If you want to run the results for one or more provider type, you can subset the data by category."
   ]
  },
  {
   "cell_type": "code",
   "execution_count": 91,
   "metadata": {},
   "outputs": [],
   "source": [
    "#set focus category to FQHC; you set multiple focus categories, separated by commas \n",
    "accessT.set_focus_categories(['Federally Qualified Health Centers'])"
   ]
  },
  {
   "cell_type": "code",
   "execution_count": null,
   "metadata": {},
   "outputs": [],
   "source": [
    "#calculate Access Time for focus categories\n",
    "accessT.calculate()"
   ]
  },
  {
   "cell_type": "code",
   "execution_count": 93,
   "metadata": {},
   "outputs": [
    {
     "data": {
      "text/html": [
       "<div>\n",
       "<style scoped>\n",
       "    .dataframe tbody tr th:only-of-type {\n",
       "        vertical-align: middle;\n",
       "    }\n",
       "\n",
       "    .dataframe tbody tr th {\n",
       "        vertical-align: top;\n",
       "    }\n",
       "\n",
       "    .dataframe thead th {\n",
       "        text-align: right;\n",
       "    }\n",
       "</style>\n",
       "<table border=\"1\" class=\"dataframe\">\n",
       "  <thead>\n",
       "    <tr style=\"text-align: right;\">\n",
       "      <th></th>\n",
       "      <th>time_to_nearest_Federally Qualified Health Centers</th>\n",
       "      <th>time_to_nearest_all_categories</th>\n",
       "    </tr>\n",
       "  </thead>\n",
       "  <tbody>\n",
       "    <tr>\n",
       "      <th>17031842400</th>\n",
       "      <td>2472</td>\n",
       "      <td>2472</td>\n",
       "    </tr>\n",
       "    <tr>\n",
       "      <th>17031840300</th>\n",
       "      <td>515</td>\n",
       "      <td>515</td>\n",
       "    </tr>\n",
       "    <tr>\n",
       "      <th>17031841100</th>\n",
       "      <td>1376</td>\n",
       "      <td>1376</td>\n",
       "    </tr>\n",
       "    <tr>\n",
       "      <th>17031841200</th>\n",
       "      <td>652</td>\n",
       "      <td>652</td>\n",
       "    </tr>\n",
       "    <tr>\n",
       "      <th>17031838200</th>\n",
       "      <td>562</td>\n",
       "      <td>562</td>\n",
       "    </tr>\n",
       "  </tbody>\n",
       "</table>\n",
       "</div>"
      ],
      "text/plain": [
       "             time_to_nearest_Federally Qualified Health Centers  \\\n",
       "17031842400                                               2472    \n",
       "17031840300                                                515    \n",
       "17031841100                                               1376    \n",
       "17031841200                                                652    \n",
       "17031838200                                                562    \n",
       "\n",
       "             time_to_nearest_all_categories  \n",
       "17031842400                            2472  \n",
       "17031840300                             515  \n",
       "17031841100                            1376  \n",
       "17031841200                             652  \n",
       "17031838200                             562  "
      ]
     },
     "execution_count": 93,
     "metadata": {},
     "output_type": "execute_result"
    }
   ],
   "source": [
    "#Preview results\n",
    "accessT.model_results.head()"
   ]
  },
  {
   "cell_type": "code",
   "execution_count": 95,
   "metadata": {},
   "outputs": [],
   "source": [
    "accessT.write_results(filename = './data/output_data/models/accessTime_subsetFQHC.csv')"
   ]
  },
  {
   "cell_type": "markdown",
   "metadata": {},
   "source": [
    "## AccessCount: The number of destinations within a catchment area\n",
    "\n",
    "Access Count measures the number of destinations within a given travel time (e.g. number of providers within 30 min walk of housing blocks). It does not require population or target variables.\n",
    "\n",
    "### Specifications for AccessCount\n",
    "\n",
    "**name = AccessCount( )**\n",
    "* **network_type** ('walk', 'bike', 'drive', 'otp') \n",
    "* **sources_filename** (primary input data)\n",
    "* **destinations_filename** (secondary input data)\n",
    "* **source_column_names** (dictionary that contains column names (lat/lon/ID))\n",
    "* **dest_column_names** (dictionary that contains column names (lat/lon/ID/category))\n",
    "* **transit_matrix_filename** (sources-destination travel time matrix). If None, matrix estimated 'on the fly'.\n",
    "\n",
    "\n",
    "**Column Inputs**\n",
    "* Standard data requirements (see above)\n",
    "\n",
    "**name.calculate()**\n",
    "* upper_threshold (max time travel in seconds)\n",
    "\n",
    "**Functions within the AccessTime class** (use as name.function())  \n",
    "- calculate () \n",
    "- aggregate() \n",
    "- set.focus.categories()\n",
    "- plot_cdf()\n",
    "- plot_chlorepleth"
   ]
  },
  {
   "cell_type": "code",
   "execution_count": null,
   "metadata": {},
   "outputs": [],
   "source": [
    "accessC = AccessCount(network_type='walk',\n",
    "                      transit_matrix_filename='./data/matrices/walk_asym_health_tracts.csv',\n",
    "                      sources_filename = './data/input_data/sources/tracts2010.csv',\n",
    "                      destinations_filename='./data/input_data/destinations/health_chicago.csv',\n",
    "                      source_column_names={'idx' : 'geoid10', 'population': 'skip', 'lat': 'lat', 'lon': 'lon'},\n",
    "                      dest_column_names={'idx': 'ID', 'capacity': 'skip', 'category': 'category', 'lat': 'lat', 'lon': 'lon'}\n",
    "                     )"
   ]
  },
  {
   "cell_type": "code",
   "execution_count": null,
   "metadata": {},
   "outputs": [],
   "source": [
    "#walking threshold of 30 minutes\n",
    "accessC.calculate(upper_threshold=1800)"
   ]
  },
  {
   "cell_type": "code",
   "execution_count": 98,
   "metadata": {},
   "outputs": [
    {
     "data": {
      "text/html": [
       "<div>\n",
       "<style scoped>\n",
       "    .dataframe tbody tr th:only-of-type {\n",
       "        vertical-align: middle;\n",
       "    }\n",
       "\n",
       "    .dataframe tbody tr th {\n",
       "        vertical-align: top;\n",
       "    }\n",
       "\n",
       "    .dataframe thead th {\n",
       "        text-align: right;\n",
       "    }\n",
       "</style>\n",
       "<table border=\"1\" class=\"dataframe\">\n",
       "  <thead>\n",
       "    <tr style=\"text-align: right;\">\n",
       "      <th></th>\n",
       "      <th>count_in_range_All Free Health Clinics</th>\n",
       "      <th>count_in_range_School-Based Health Centers</th>\n",
       "      <th>count_in_range_Federally Qualified Health Centers</th>\n",
       "      <th>count_in_range_Other Health Providers</th>\n",
       "      <th>count_in_range_Hospitals</th>\n",
       "      <th>count_in_range_all_categories</th>\n",
       "    </tr>\n",
       "  </thead>\n",
       "  <tbody>\n",
       "    <tr>\n",
       "      <th>17031842400</th>\n",
       "      <td>0</td>\n",
       "      <td>1</td>\n",
       "      <td>0</td>\n",
       "      <td>0</td>\n",
       "      <td>0</td>\n",
       "      <td>1</td>\n",
       "    </tr>\n",
       "    <tr>\n",
       "      <th>17031840300</th>\n",
       "      <td>0</td>\n",
       "      <td>1</td>\n",
       "      <td>2</td>\n",
       "      <td>0</td>\n",
       "      <td>0</td>\n",
       "      <td>3</td>\n",
       "    </tr>\n",
       "    <tr>\n",
       "      <th>17031841100</th>\n",
       "      <td>1</td>\n",
       "      <td>2</td>\n",
       "      <td>1</td>\n",
       "      <td>2</td>\n",
       "      <td>1</td>\n",
       "      <td>7</td>\n",
       "    </tr>\n",
       "    <tr>\n",
       "      <th>17031841200</th>\n",
       "      <td>0</td>\n",
       "      <td>4</td>\n",
       "      <td>7</td>\n",
       "      <td>0</td>\n",
       "      <td>4</td>\n",
       "      <td>15</td>\n",
       "    </tr>\n",
       "    <tr>\n",
       "      <th>17031838200</th>\n",
       "      <td>1</td>\n",
       "      <td>4</td>\n",
       "      <td>4</td>\n",
       "      <td>1</td>\n",
       "      <td>6</td>\n",
       "      <td>16</td>\n",
       "    </tr>\n",
       "  </tbody>\n",
       "</table>\n",
       "</div>"
      ],
      "text/plain": [
       "             count_in_range_All Free Health Clinics  \\\n",
       "17031842400                                       0   \n",
       "17031840300                                       0   \n",
       "17031841100                                       1   \n",
       "17031841200                                       0   \n",
       "17031838200                                       1   \n",
       "\n",
       "             count_in_range_School-Based Health Centers  \\\n",
       "17031842400                                           1   \n",
       "17031840300                                           1   \n",
       "17031841100                                           2   \n",
       "17031841200                                           4   \n",
       "17031838200                                           4   \n",
       "\n",
       "             count_in_range_Federally Qualified Health Centers  \\\n",
       "17031842400                                                  0   \n",
       "17031840300                                                  2   \n",
       "17031841100                                                  1   \n",
       "17031841200                                                  7   \n",
       "17031838200                                                  4   \n",
       "\n",
       "             count_in_range_Other Health Providers  count_in_range_Hospitals  \\\n",
       "17031842400                                      0                         0   \n",
       "17031840300                                      0                         0   \n",
       "17031841100                                      2                         1   \n",
       "17031841200                                      0                         4   \n",
       "17031838200                                      1                         6   \n",
       "\n",
       "             count_in_range_all_categories  \n",
       "17031842400                              1  \n",
       "17031840300                              3  \n",
       "17031841100                              7  \n",
       "17031841200                             15  \n",
       "17031838200                             16  "
      ]
     },
     "execution_count": 98,
     "metadata": {},
     "output_type": "execute_result"
    }
   ],
   "source": [
    "#Preview the results\n",
    "accessC.model_results.head()"
   ]
  },
  {
   "cell_type": "code",
   "execution_count": 99,
   "metadata": {},
   "outputs": [],
   "source": [
    "#writes output to csv file\n",
    "accessC.model_results.to_csv('./data/output_data/models/accessCount2010.csv')"
   ]
  },
  {
   "cell_type": "markdown",
   "metadata": {},
   "source": [
    "#### **Aggregate Data to the Community Area Level**"
   ]
  },
  {
   "cell_type": "code",
   "execution_count": null,
   "metadata": {},
   "outputs": [],
   "source": [
    "#Aggregate Access Count Data to the Chicago Community Area Level\n",
    "accessC.aggregate()"
   ]
  },
  {
   "cell_type": "code",
   "execution_count": 101,
   "metadata": {},
   "outputs": [
    {
     "data": {
      "text/html": [
       "<div>\n",
       "<style scoped>\n",
       "    .dataframe tbody tr th:only-of-type {\n",
       "        vertical-align: middle;\n",
       "    }\n",
       "\n",
       "    .dataframe tbody tr th {\n",
       "        vertical-align: top;\n",
       "    }\n",
       "\n",
       "    .dataframe thead th {\n",
       "        text-align: right;\n",
       "    }\n",
       "</style>\n",
       "<table border=\"1\" class=\"dataframe\">\n",
       "  <thead>\n",
       "    <tr style=\"text-align: right;\">\n",
       "      <th></th>\n",
       "      <th>count_in_range_All Free Health Clinics</th>\n",
       "      <th>count_in_range_School-Based Health Centers</th>\n",
       "      <th>count_in_range_Federally Qualified Health Centers</th>\n",
       "      <th>count_in_range_Other Health Providers</th>\n",
       "      <th>count_in_range_Hospitals</th>\n",
       "      <th>count_in_range_all_categories</th>\n",
       "    </tr>\n",
       "    <tr>\n",
       "      <th>spatial_index</th>\n",
       "      <th></th>\n",
       "      <th></th>\n",
       "      <th></th>\n",
       "      <th></th>\n",
       "      <th></th>\n",
       "      <th></th>\n",
       "    </tr>\n",
       "  </thead>\n",
       "  <tbody>\n",
       "    <tr>\n",
       "      <th>ALBANY PARK</th>\n",
       "      <td>0.0</td>\n",
       "      <td>1.818182</td>\n",
       "      <td>2.272727</td>\n",
       "      <td>0.0</td>\n",
       "      <td>0.909091</td>\n",
       "      <td>5.000000</td>\n",
       "    </tr>\n",
       "    <tr>\n",
       "      <th>ARCHER HEIGHTS</th>\n",
       "      <td>0.0</td>\n",
       "      <td>0.000000</td>\n",
       "      <td>2.600000</td>\n",
       "      <td>0.0</td>\n",
       "      <td>0.000000</td>\n",
       "      <td>2.600000</td>\n",
       "    </tr>\n",
       "    <tr>\n",
       "      <th>ARMOUR SQUARE</th>\n",
       "      <td>0.2</td>\n",
       "      <td>2.600000</td>\n",
       "      <td>1.600000</td>\n",
       "      <td>2.6</td>\n",
       "      <td>0.800000</td>\n",
       "      <td>7.800000</td>\n",
       "    </tr>\n",
       "    <tr>\n",
       "      <th>ASHBURN</th>\n",
       "      <td>0.0</td>\n",
       "      <td>0.000000</td>\n",
       "      <td>0.000000</td>\n",
       "      <td>0.0</td>\n",
       "      <td>0.125000</td>\n",
       "      <td>0.125000</td>\n",
       "    </tr>\n",
       "    <tr>\n",
       "      <th>AUBURN GRESHAM</th>\n",
       "      <td>0.0</td>\n",
       "      <td>0.866667</td>\n",
       "      <td>1.066667</td>\n",
       "      <td>0.0</td>\n",
       "      <td>0.000000</td>\n",
       "      <td>1.933333</td>\n",
       "    </tr>\n",
       "  </tbody>\n",
       "</table>\n",
       "</div>"
      ],
      "text/plain": [
       "                count_in_range_All Free Health Clinics  \\\n",
       "spatial_index                                            \n",
       "ALBANY PARK                                        0.0   \n",
       "ARCHER HEIGHTS                                     0.0   \n",
       "ARMOUR SQUARE                                      0.2   \n",
       "ASHBURN                                            0.0   \n",
       "AUBURN GRESHAM                                     0.0   \n",
       "\n",
       "                count_in_range_School-Based Health Centers  \\\n",
       "spatial_index                                                \n",
       "ALBANY PARK                                       1.818182   \n",
       "ARCHER HEIGHTS                                    0.000000   \n",
       "ARMOUR SQUARE                                     2.600000   \n",
       "ASHBURN                                           0.000000   \n",
       "AUBURN GRESHAM                                    0.866667   \n",
       "\n",
       "                count_in_range_Federally Qualified Health Centers  \\\n",
       "spatial_index                                                       \n",
       "ALBANY PARK                                              2.272727   \n",
       "ARCHER HEIGHTS                                           2.600000   \n",
       "ARMOUR SQUARE                                            1.600000   \n",
       "ASHBURN                                                  0.000000   \n",
       "AUBURN GRESHAM                                           1.066667   \n",
       "\n",
       "                count_in_range_Other Health Providers  \\\n",
       "spatial_index                                           \n",
       "ALBANY PARK                                       0.0   \n",
       "ARCHER HEIGHTS                                    0.0   \n",
       "ARMOUR SQUARE                                     2.6   \n",
       "ASHBURN                                           0.0   \n",
       "AUBURN GRESHAM                                    0.0   \n",
       "\n",
       "                count_in_range_Hospitals  count_in_range_all_categories  \n",
       "spatial_index                                                            \n",
       "ALBANY PARK                     0.909091                       5.000000  \n",
       "ARCHER HEIGHTS                  0.000000                       2.600000  \n",
       "ARMOUR SQUARE                   0.800000                       7.800000  \n",
       "ASHBURN                         0.125000                       0.125000  \n",
       "AUBURN GRESHAM                  0.000000                       1.933333  "
      ]
     },
     "execution_count": 101,
     "metadata": {},
     "output_type": "execute_result"
    }
   ],
   "source": [
    "#Preview results\n",
    "accessC.aggregated_results.head()"
   ]
  },
  {
   "cell_type": "code",
   "execution_count": 102,
   "metadata": {},
   "outputs": [],
   "source": [
    "#Write results to a csv file\n",
    "accessC.write_aggregated_results(filename='./data/output_data/models/accessCount_aggregated.csv')"
   ]
  },
  {
   "cell_type": "markdown",
   "metadata": {},
   "source": [
    "#### **Plot Aggregated Data**"
   ]
  },
  {
   "cell_type": "code",
   "execution_count": 105,
   "metadata": {},
   "outputs": [
    {
     "name": "stderr",
     "output_type": "stream",
     "text": [
      "INFO:spatial_access.BaseModel:Plot was saved to: data/output_data/accessCount_CDFplot\n"
     ]
    },
    {
     "data": {
      "image/png": "[encoded data removed]",
      "text/plain": [
       "<Figure size 576x288 with 1 Axes>"
      ]
     },
     "metadata": {
      "needs_background": "light"
     },
     "output_type": "display_data"
    }
   ],
   "source": [
    "accessC.plot_cdf(filename = './data/output_data/accessCount_CDFplot.png',\n",
    "                 xlabel = 'Access Count',\n",
    "                 ylabel = 'Population',\n",
    "                 title = 'Access Count by Population')"
   ]
  },
  {
   "cell_type": "markdown",
   "metadata": {},
   "source": [
    "The in-built charts are not designed for presentation purposes but you can save the results and graph them in another program. Here is an example:"
   ]
  },
  {
   "cell_type": "markdown",
   "metadata": {},
   "source": [
    "<img src=\"figures/cdf_count.png\" width=\"550\" title=\"Optional title\"  align=\"center\">"
   ]
  },
  {
   "cell_type": "code",
   "execution_count": 106,
   "metadata": {},
   "outputs": [
    {
     "name": "stderr",
     "output_type": "stream",
     "text": [
      "INFO:spatial_access.BaseModel:Figure was saved to: data/output_data/accessCount_choropleth\n"
     ]
    },
    {
     "data": {
      "image/png": "[encoded data removed]",
      "text/plain": [
       "<Figure size 432x288 with 1 Axes>"
      ]
     },
     "metadata": {
      "needs_background": "light"
     },
     "output_type": "display_data"
    }
   ],
   "source": [
    "accessC.plot_choropleth(column='count_in_range_all_categories',\n",
    "                        filename = './data/output_data/accessCount_choropleth.png',\n",
    "                        title= 'Access Count in Chicago')"
   ]
  },
  {
   "cell_type": "markdown",
   "metadata": {},
   "source": [
    "As with the plots above, in-built maps are not designed for presentation purposes but you can save the results and graph them in another program. Here is an example:"
   ]
  },
  {
   "cell_type": "markdown",
   "metadata": {},
   "source": [
    "<img src=\"figures/map_AccessCount.png\" width=\"650\" title=\"Optional title\"  align=\"center\">"
   ]
  },
  {
   "cell_type": "markdown",
   "metadata": {},
   "source": [
    "#### **Subset Data for Focus Categories**"
   ]
  },
  {
   "cell_type": "code",
   "execution_count": 107,
   "metadata": {},
   "outputs": [],
   "source": [
    "#Limit category to FQHC\n",
    "accessC.set_focus_categories(['Federally Qualified Health Centers'])"
   ]
  },
  {
   "cell_type": "code",
   "execution_count": null,
   "metadata": {},
   "outputs": [],
   "source": [
    "#Calculate Access Time for FQHC\n",
    "accessC.calculate(upper_threshold = 1800)"
   ]
  },
  {
   "cell_type": "code",
   "execution_count": 109,
   "metadata": {},
   "outputs": [
    {
     "data": {
      "text/html": [
       "<div>\n",
       "<style scoped>\n",
       "    .dataframe tbody tr th:only-of-type {\n",
       "        vertical-align: middle;\n",
       "    }\n",
       "\n",
       "    .dataframe tbody tr th {\n",
       "        vertical-align: top;\n",
       "    }\n",
       "\n",
       "    .dataframe thead th {\n",
       "        text-align: right;\n",
       "    }\n",
       "</style>\n",
       "<table border=\"1\" class=\"dataframe\">\n",
       "  <thead>\n",
       "    <tr style=\"text-align: right;\">\n",
       "      <th></th>\n",
       "      <th>count_in_range_Federally Qualified Health Centers</th>\n",
       "      <th>count_in_range_all_categories</th>\n",
       "    </tr>\n",
       "  </thead>\n",
       "  <tbody>\n",
       "    <tr>\n",
       "      <th>17031842400</th>\n",
       "      <td>0</td>\n",
       "      <td>0</td>\n",
       "    </tr>\n",
       "    <tr>\n",
       "      <th>17031840300</th>\n",
       "      <td>2</td>\n",
       "      <td>2</td>\n",
       "    </tr>\n",
       "    <tr>\n",
       "      <th>17031841100</th>\n",
       "      <td>1</td>\n",
       "      <td>1</td>\n",
       "    </tr>\n",
       "    <tr>\n",
       "      <th>17031841200</th>\n",
       "      <td>7</td>\n",
       "      <td>7</td>\n",
       "    </tr>\n",
       "    <tr>\n",
       "      <th>17031838200</th>\n",
       "      <td>4</td>\n",
       "      <td>4</td>\n",
       "    </tr>\n",
       "  </tbody>\n",
       "</table>\n",
       "</div>"
      ],
      "text/plain": [
       "             count_in_range_Federally Qualified Health Centers  \\\n",
       "17031842400                                                  0   \n",
       "17031840300                                                  2   \n",
       "17031841100                                                  1   \n",
       "17031841200                                                  7   \n",
       "17031838200                                                  4   \n",
       "\n",
       "             count_in_range_all_categories  \n",
       "17031842400                              0  \n",
       "17031840300                              2  \n",
       "17031841100                              1  \n",
       "17031841200                              7  \n",
       "17031838200                              4  "
      ]
     },
     "execution_count": 109,
     "metadata": {},
     "output_type": "execute_result"
    }
   ],
   "source": [
    "#Preview subsetted results\n",
    "accessC.model_results.head()"
   ]
  },
  {
   "cell_type": "code",
   "execution_count": 110,
   "metadata": {},
   "outputs": [],
   "source": [
    "#Write subsetted results to csv\n",
    "accessC.write_results(filename = 'data/output_data/models/accessCount_subsetFQHC.csv')"
   ]
  },
  {
   "cell_type": "markdown",
   "metadata": {},
   "source": [
    "## Access Sum: Captures the sum of an attribute within a catchment area\n",
    "\n",
    "##### (e.g. number of doctors within a 30 min walk tracts' centroids)\n",
    "\n",
    "Access Sum sums an attribute of a destination within a catchment area, e.g. the size of supermarkets within 30 minutes walking time from a point of origin.  It requires a target variable.\n",
    "\n",
    "### Specifications for Access Sum\n",
    "**name = AccessSum( )**\n",
    "* **network_type** ('walk', 'bike', 'drive', 'otp') \n",
    "* **sources_filename** (primary input data)\n",
    "* **destinations_filename** (secondary input data)\n",
    "* **source_column_names** (dictionary that contains column names (lat/lon/ID))\n",
    "* **dest_column_names** (dictionary that contains column names (lat/lon/ID/category))\n",
    "* **transit_matrix_filename** (sources-destination travel time matrix). If None, matrix estimated 'on the fly'.\n",
    "\n",
    "**Column Inputs**\n",
    "* Standard data requirements (see above) plus **capacity** for each facility\n",
    "\n",
    "**name.calculate()**\n",
    "* upper_threshold (max time travel in seconds)\n",
    "\n",
    "**Functions within the AccessSum class** (use as name.function())  \n",
    "- calculate () \n",
    "- aggregate() \n",
    "- set.focus.categories()\n",
    "- plot_cdf()\n",
    "- plot_chlorepleth"
   ]
  },
  {
   "cell_type": "markdown",
   "metadata": {},
   "source": [
    "---\n",
    "\n",
    "Specify travel mode, file names and variable names:"
   ]
  },
  {
   "cell_type": "code",
   "execution_count": null,
   "metadata": {},
   "outputs": [],
   "source": [
    "accessS = AccessSum(network_type='walk',\n",
    "                     transit_matrix_filename='./data/matrices/walk_asym_health_tracts.csv',\n",
    "                     sources_filename='./data/input_data/sources/tracts2010.csv',\n",
    "                     destinations_filename='./data/input_data/destinations/health_chicago.csv',\n",
    "                     source_column_names={'idx' : 'geoid10', 'population': 'skip', 'lat': 'lat', 'lon': 'lon'},\n",
    "                     dest_column_names={'idx': 'ID', 'capacity': 'capacity', 'category': 'category', 'lat': 'lat', 'lon': 'lon'},\n",
    "                     )"
   ]
  },
  {
   "cell_type": "code",
   "execution_count": null,
   "metadata": {},
   "outputs": [],
   "source": [
    "#Calculate results\n",
    "accessS.calculate(upper_threshold=1800)"
   ]
  },
  {
   "cell_type": "code",
   "execution_count": 113,
   "metadata": {},
   "outputs": [
    {
     "data": {
      "text/html": [
       "<div>\n",
       "<style scoped>\n",
       "    .dataframe tbody tr th:only-of-type {\n",
       "        vertical-align: middle;\n",
       "    }\n",
       "\n",
       "    .dataframe tbody tr th {\n",
       "        vertical-align: top;\n",
       "    }\n",
       "\n",
       "    .dataframe thead th {\n",
       "        text-align: right;\n",
       "    }\n",
       "</style>\n",
       "<table border=\"1\" class=\"dataframe\">\n",
       "  <thead>\n",
       "    <tr style=\"text-align: right;\">\n",
       "      <th></th>\n",
       "      <th>sum_in_range_All Free Health Clinics</th>\n",
       "      <th>sum_in_range_School-Based Health Centers</th>\n",
       "      <th>sum_in_range_Federally Qualified Health Centers</th>\n",
       "      <th>sum_in_range_Other Health Providers</th>\n",
       "      <th>sum_in_range_Hospitals</th>\n",
       "      <th>sum_in_range_all_categories</th>\n",
       "    </tr>\n",
       "  </thead>\n",
       "  <tbody>\n",
       "    <tr>\n",
       "      <th>17031842400</th>\n",
       "      <td>0</td>\n",
       "      <td>120000</td>\n",
       "      <td>0</td>\n",
       "      <td>0</td>\n",
       "      <td>0</td>\n",
       "      <td>120000</td>\n",
       "    </tr>\n",
       "    <tr>\n",
       "      <th>17031840300</th>\n",
       "      <td>0</td>\n",
       "      <td>163000</td>\n",
       "      <td>337000</td>\n",
       "      <td>0</td>\n",
       "      <td>0</td>\n",
       "      <td>500000</td>\n",
       "    </tr>\n",
       "    <tr>\n",
       "      <th>17031841100</th>\n",
       "      <td>143000</td>\n",
       "      <td>268000</td>\n",
       "      <td>193000</td>\n",
       "      <td>329000</td>\n",
       "      <td>131000</td>\n",
       "      <td>1064000</td>\n",
       "    </tr>\n",
       "    <tr>\n",
       "      <th>17031841200</th>\n",
       "      <td>0</td>\n",
       "      <td>654000</td>\n",
       "      <td>960000</td>\n",
       "      <td>0</td>\n",
       "      <td>548000</td>\n",
       "      <td>2162000</td>\n",
       "    </tr>\n",
       "    <tr>\n",
       "      <th>17031838200</th>\n",
       "      <td>196000</td>\n",
       "      <td>721000</td>\n",
       "      <td>543000</td>\n",
       "      <td>192000</td>\n",
       "      <td>960000</td>\n",
       "      <td>2612000</td>\n",
       "    </tr>\n",
       "  </tbody>\n",
       "</table>\n",
       "</div>"
      ],
      "text/plain": [
       "             sum_in_range_All Free Health Clinics  \\\n",
       "17031842400                                     0   \n",
       "17031840300                                     0   \n",
       "17031841100                                143000   \n",
       "17031841200                                     0   \n",
       "17031838200                                196000   \n",
       "\n",
       "             sum_in_range_School-Based Health Centers  \\\n",
       "17031842400                                    120000   \n",
       "17031840300                                    163000   \n",
       "17031841100                                    268000   \n",
       "17031841200                                    654000   \n",
       "17031838200                                    721000   \n",
       "\n",
       "             sum_in_range_Federally Qualified Health Centers  \\\n",
       "17031842400                                                0   \n",
       "17031840300                                           337000   \n",
       "17031841100                                           193000   \n",
       "17031841200                                           960000   \n",
       "17031838200                                           543000   \n",
       "\n",
       "             sum_in_range_Other Health Providers  sum_in_range_Hospitals  \\\n",
       "17031842400                                    0                       0   \n",
       "17031840300                                    0                       0   \n",
       "17031841100                               329000                  131000   \n",
       "17031841200                                    0                  548000   \n",
       "17031838200                               192000                  960000   \n",
       "\n",
       "             sum_in_range_all_categories  \n",
       "17031842400                       120000  \n",
       "17031840300                       500000  \n",
       "17031841100                      1064000  \n",
       "17031841200                      2162000  \n",
       "17031838200                      2612000  "
      ]
     },
     "execution_count": 113,
     "metadata": {},
     "output_type": "execute_result"
    }
   ],
   "source": [
    "#Preview results\n",
    "accessS.model_results.head()"
   ]
  },
  {
   "cell_type": "code",
   "execution_count": 114,
   "metadata": {},
   "outputs": [],
   "source": [
    "#Write model to csv\n",
    "accessS.model_results.to_csv('./data/output_data/models/accessSum2010.csv')"
   ]
  },
  {
   "cell_type": "markdown",
   "metadata": {},
   "source": [
    "#### **Aggregate Data to the Community Area Level**"
   ]
  },
  {
   "cell_type": "code",
   "execution_count": null,
   "metadata": {},
   "outputs": [],
   "source": [
    "#Aggregate Access Sum data to the Chicago Community Area level\n",
    "accessS.aggregate()"
   ]
  },
  {
   "cell_type": "code",
   "execution_count": 116,
   "metadata": {},
   "outputs": [
    {
     "data": {
      "text/html": [
       "<div>\n",
       "<style scoped>\n",
       "    .dataframe tbody tr th:only-of-type {\n",
       "        vertical-align: middle;\n",
       "    }\n",
       "\n",
       "    .dataframe tbody tr th {\n",
       "        vertical-align: top;\n",
       "    }\n",
       "\n",
       "    .dataframe thead th {\n",
       "        text-align: right;\n",
       "    }\n",
       "</style>\n",
       "<table border=\"1\" class=\"dataframe\">\n",
       "  <thead>\n",
       "    <tr style=\"text-align: right;\">\n",
       "      <th></th>\n",
       "      <th>sum_in_range_All Free Health Clinics</th>\n",
       "      <th>sum_in_range_School-Based Health Centers</th>\n",
       "      <th>sum_in_range_Federally Qualified Health Centers</th>\n",
       "      <th>sum_in_range_Other Health Providers</th>\n",
       "      <th>sum_in_range_Hospitals</th>\n",
       "      <th>sum_in_range_all_categories</th>\n",
       "    </tr>\n",
       "    <tr>\n",
       "      <th>spatial_index</th>\n",
       "      <th></th>\n",
       "      <th></th>\n",
       "      <th></th>\n",
       "      <th></th>\n",
       "      <th></th>\n",
       "      <th></th>\n",
       "    </tr>\n",
       "  </thead>\n",
       "  <tbody>\n",
       "    <tr>\n",
       "      <th>ALBANY PARK</th>\n",
       "      <td>0.0</td>\n",
       "      <td>299090.909091</td>\n",
       "      <td>326181.818182</td>\n",
       "      <td>0.0</td>\n",
       "      <td>133181.818182</td>\n",
       "      <td>7.584545e+05</td>\n",
       "    </tr>\n",
       "    <tr>\n",
       "      <th>ARCHER HEIGHTS</th>\n",
       "      <td>0.0</td>\n",
       "      <td>0.000000</td>\n",
       "      <td>333000.000000</td>\n",
       "      <td>0.0</td>\n",
       "      <td>0.000000</td>\n",
       "      <td>3.330000e+05</td>\n",
       "    </tr>\n",
       "    <tr>\n",
       "      <th>ARMOUR SQUARE</th>\n",
       "      <td>28600.0</td>\n",
       "      <td>335400.000000</td>\n",
       "      <td>313600.000000</td>\n",
       "      <td>443800.0</td>\n",
       "      <td>104800.000000</td>\n",
       "      <td>1.226200e+06</td>\n",
       "    </tr>\n",
       "    <tr>\n",
       "      <th>ASHBURN</th>\n",
       "      <td>0.0</td>\n",
       "      <td>0.000000</td>\n",
       "      <td>0.000000</td>\n",
       "      <td>0.0</td>\n",
       "      <td>14875.000000</td>\n",
       "      <td>1.487500e+04</td>\n",
       "    </tr>\n",
       "    <tr>\n",
       "      <th>AUBURN GRESHAM</th>\n",
       "      <td>0.0</td>\n",
       "      <td>104000.000000</td>\n",
       "      <td>148200.000000</td>\n",
       "      <td>0.0</td>\n",
       "      <td>0.000000</td>\n",
       "      <td>2.522000e+05</td>\n",
       "    </tr>\n",
       "  </tbody>\n",
       "</table>\n",
       "</div>"
      ],
      "text/plain": [
       "                sum_in_range_All Free Health Clinics  \\\n",
       "spatial_index                                          \n",
       "ALBANY PARK                                      0.0   \n",
       "ARCHER HEIGHTS                                   0.0   \n",
       "ARMOUR SQUARE                                28600.0   \n",
       "ASHBURN                                          0.0   \n",
       "AUBURN GRESHAM                                   0.0   \n",
       "\n",
       "                sum_in_range_School-Based Health Centers  \\\n",
       "spatial_index                                              \n",
       "ALBANY PARK                                299090.909091   \n",
       "ARCHER HEIGHTS                                  0.000000   \n",
       "ARMOUR SQUARE                              335400.000000   \n",
       "ASHBURN                                         0.000000   \n",
       "AUBURN GRESHAM                             104000.000000   \n",
       "\n",
       "                sum_in_range_Federally Qualified Health Centers  \\\n",
       "spatial_index                                                     \n",
       "ALBANY PARK                                       326181.818182   \n",
       "ARCHER HEIGHTS                                    333000.000000   \n",
       "ARMOUR SQUARE                                     313600.000000   \n",
       "ASHBURN                                                0.000000   \n",
       "AUBURN GRESHAM                                    148200.000000   \n",
       "\n",
       "                sum_in_range_Other Health Providers  sum_in_range_Hospitals  \\\n",
       "spatial_index                                                                 \n",
       "ALBANY PARK                                     0.0           133181.818182   \n",
       "ARCHER HEIGHTS                                  0.0                0.000000   \n",
       "ARMOUR SQUARE                              443800.0           104800.000000   \n",
       "ASHBURN                                         0.0            14875.000000   \n",
       "AUBURN GRESHAM                                  0.0                0.000000   \n",
       "\n",
       "                sum_in_range_all_categories  \n",
       "spatial_index                                \n",
       "ALBANY PARK                    7.584545e+05  \n",
       "ARCHER HEIGHTS                 3.330000e+05  \n",
       "ARMOUR SQUARE                  1.226200e+06  \n",
       "ASHBURN                        1.487500e+04  \n",
       "AUBURN GRESHAM                 2.522000e+05  "
      ]
     },
     "execution_count": 116,
     "metadata": {},
     "output_type": "execute_result"
    }
   ],
   "source": [
    "#Preview results\n",
    "accessS.aggregated_results.head()"
   ]
  },
  {
   "cell_type": "code",
   "execution_count": 117,
   "metadata": {},
   "outputs": [],
   "source": [
    "#Write results to a csv file\n",
    "accessS.write_aggregated_results(filename='./data/output_data/models/accessSum_aggregated.csv')"
   ]
  },
  {
   "cell_type": "markdown",
   "metadata": {},
   "source": [
    "#### **Plot Aggregated Data**"
   ]
  },
  {
   "cell_type": "code",
   "execution_count": 118,
   "metadata": {},
   "outputs": [
    {
     "name": "stderr",
     "output_type": "stream",
     "text": [
      "INFO:spatial_access.BaseModel:Plot was saved to: data/output_data/accessSum_cdfplot\n"
     ]
    },
    {
     "data": {
      "image/png": "[encoded data removed]",
      "text/plain": [
       "<Figure size 576x288 with 1 Axes>"
      ]
     },
     "metadata": {
      "needs_background": "light"
     },
     "output_type": "display_data"
    }
   ],
   "source": [
    "accessS.plot_cdf(filename= './data/output_data/accessSum_cdfplot.png',\n",
    "                 title = 'Access Sum CDF Plot',\n",
    "                 xlabel = 'Access Sum',\n",
    "                 ylabel = 'Population')"
   ]
  },
  {
   "cell_type": "markdown",
   "metadata": {},
   "source": [
    "The in-built charts are not designed for presentation purposes but you can save the results and graph them in another program. Here is an example:"
   ]
  },
  {
   "cell_type": "markdown",
   "metadata": {},
   "source": [
    "<img src=\"figures/cdf_accesssum.png\" width=\"550\" title=\"Optional title\"  align=\"center\">"
   ]
  },
  {
   "cell_type": "code",
   "execution_count": 119,
   "metadata": {},
   "outputs": [
    {
     "name": "stderr",
     "output_type": "stream",
     "text": [
      "INFO:spatial_access.BaseModel:Figure was saved to: data/output_data/accessSum_choropleth\n"
     ]
    },
    {
     "data": {
      "image/png": "[encoded data removed]",
      "text/plain": [
       "<Figure size 432x288 with 1 Axes>"
      ]
     },
     "metadata": {
      "needs_background": "light"
     },
     "output_type": "display_data"
    }
   ],
   "source": [
    "accessS.plot_choropleth(column= 'sum_in_range_All Free Health Clinics',\n",
    "                        filename= 'data/output_data/accessSum_choropleth.png',\n",
    "                        title = 'Access Sum in Chicago')"
   ]
  },
  {
   "cell_type": "markdown",
   "metadata": {},
   "source": [
    "As with the plots above, in-built maps are not designed for presentation purposes but you can save the results and graph them in another program. Here is an example:"
   ]
  },
  {
   "cell_type": "markdown",
   "metadata": {},
   "source": [
    "<img src=\"figures/map_AccessSum.png\" width=\"650\" title=\"Optional title\"  align=\"center\">"
   ]
  },
  {
   "cell_type": "markdown",
   "metadata": {},
   "source": [
    "#### **Subset Data for Focus Categories**"
   ]
  },
  {
   "cell_type": "code",
   "execution_count": 120,
   "metadata": {},
   "outputs": [],
   "source": [
    "#Limit catgeory to for FQHC\n",
    "accessS.set_focus_categories(['Federally Qualified Health Centers'])"
   ]
  },
  {
   "cell_type": "code",
   "execution_count": null,
   "metadata": {},
   "outputs": [],
   "source": [
    "#calculate subset data\n",
    "accessS.calculate(upper_threshold = 1800)"
   ]
  },
  {
   "cell_type": "code",
   "execution_count": 122,
   "metadata": {},
   "outputs": [
    {
     "data": {
      "text/html": [
       "<div>\n",
       "<style scoped>\n",
       "    .dataframe tbody tr th:only-of-type {\n",
       "        vertical-align: middle;\n",
       "    }\n",
       "\n",
       "    .dataframe tbody tr th {\n",
       "        vertical-align: top;\n",
       "    }\n",
       "\n",
       "    .dataframe thead th {\n",
       "        text-align: right;\n",
       "    }\n",
       "</style>\n",
       "<table border=\"1\" class=\"dataframe\">\n",
       "  <thead>\n",
       "    <tr style=\"text-align: right;\">\n",
       "      <th></th>\n",
       "      <th>sum_in_range_Federally Qualified Health Centers</th>\n",
       "      <th>sum_in_range_all_categories</th>\n",
       "    </tr>\n",
       "  </thead>\n",
       "  <tbody>\n",
       "    <tr>\n",
       "      <th>17031842400</th>\n",
       "      <td>0</td>\n",
       "      <td>0</td>\n",
       "    </tr>\n",
       "    <tr>\n",
       "      <th>17031840300</th>\n",
       "      <td>337000</td>\n",
       "      <td>337000</td>\n",
       "    </tr>\n",
       "    <tr>\n",
       "      <th>17031841100</th>\n",
       "      <td>193000</td>\n",
       "      <td>193000</td>\n",
       "    </tr>\n",
       "    <tr>\n",
       "      <th>17031841200</th>\n",
       "      <td>960000</td>\n",
       "      <td>960000</td>\n",
       "    </tr>\n",
       "    <tr>\n",
       "      <th>17031838200</th>\n",
       "      <td>543000</td>\n",
       "      <td>543000</td>\n",
       "    </tr>\n",
       "  </tbody>\n",
       "</table>\n",
       "</div>"
      ],
      "text/plain": [
       "             sum_in_range_Federally Qualified Health Centers  \\\n",
       "17031842400                                                0   \n",
       "17031840300                                           337000   \n",
       "17031841100                                           193000   \n",
       "17031841200                                           960000   \n",
       "17031838200                                           543000   \n",
       "\n",
       "             sum_in_range_all_categories  \n",
       "17031842400                            0  \n",
       "17031840300                       337000  \n",
       "17031841100                       193000  \n",
       "17031841200                       960000  \n",
       "17031838200                       543000  "
      ]
     },
     "execution_count": 122,
     "metadata": {},
     "output_type": "execute_result"
    }
   ],
   "source": [
    "#preview results\n",
    "accessS.model_results.head()"
   ]
  },
  {
   "cell_type": "code",
   "execution_count": 123,
   "metadata": {},
   "outputs": [],
   "source": [
    "#write subset results to csv\n",
    "accessS.write_results(filename= './data/output_data/models/accessSum_subsetFQHC.csv')"
   ]
  },
  {
   "cell_type": "markdown",
   "metadata": {},
   "source": [
    "## Destination Sum: The sum of a provider attribute within an area \n",
    "\n",
    "##### (e.g. number of doctors within a community area - does not require travel time matrix)\n",
    "\n",
    "**Destination Sum** sums an attribute of a destination within a geographic boundary. It also generates this result per capita within these boundaries.  \n",
    "This so-called container approach differs from Access Sum in that it sums point attributes within areas without relying on travel times. It requires population and target variables.\n",
    "\n",
    "### Specifications for Destination Sum\n",
    "\n",
    "**name = DestSum( )**\n",
    "* **network_type** ('walk', 'bike', 'drive', 'otp') \n",
    "* **sources_filename** (primary input data)\n",
    "* **destinations_filename** (secondary input data)\n",
    "* **source_column_names** (dictionary that contains column names (lat/lon/ID))\n",
    "* **dest_column_names** (dictionary that contains column names (lat/lon/ID/category))\n",
    "\n",
    "**Column Inputs**\n",
    "* Standard data requirements (see above) as well as the **capacity** for each facility\n",
    "\n",
    "**name.calculate()**\n",
    "* shapefile (shape file of an area; here default = Chicago community areas)\n",
    "* spatial_index (index of geospatial area in shapefile; here default = community)\n",
    "* projection (default = 'epsg:4326')\n",
    "\n",
    "**Functions within the DestSum class** (use as name.function())  \n",
    "- calculate ()  \n",
    "- set.focus.categories()\n",
    "- plot_cdf()\n",
    "- plot_choropleth"
   ]
  },
  {
   "cell_type": "code",
   "execution_count": 124,
   "metadata": {},
   "outputs": [],
   "source": [
    "d_sum = DestSum(network_type='walk',\n",
    "                sources_filename='./data/input_data/sources/tracts2010.csv',\n",
    "                destinations_filename='data/input_data/destinations/health_chicago.csv',\n",
    "                source_column_names={'idx' : 'geoid10', 'population': 'skip', 'lat': 'lat', 'lon': 'lon'},\n",
    "                dest_column_names={'idx': 'ID', 'capacity': 'capacity', 'category': 'category', 'lat': 'lat', 'lon': 'lon'}\n",
    "               )"
   ]
  },
  {
   "cell_type": "code",
   "execution_count": null,
   "metadata": {},
   "outputs": [],
   "source": [
    "# calculates DestSum for Chicago\n",
    "d_sum.calculate()"
   ]
  },
  {
   "cell_type": "code",
   "execution_count": 127,
   "metadata": {},
   "outputs": [
    {
     "data": {
      "text/html": [
       "<div>\n",
       "<style scoped>\n",
       "    .dataframe tbody tr th:only-of-type {\n",
       "        vertical-align: middle;\n",
       "    }\n",
       "\n",
       "    .dataframe tbody tr th {\n",
       "        vertical-align: top;\n",
       "    }\n",
       "\n",
       "    .dataframe thead th {\n",
       "        text-align: right;\n",
       "    }\n",
       "</style>\n",
       "<table border=\"1\" class=\"dataframe\">\n",
       "  <thead>\n",
       "    <tr style=\"text-align: right;\">\n",
       "      <th></th>\n",
       "      <th>All Free Health Clinics</th>\n",
       "      <th>School-Based Health Centers</th>\n",
       "      <th>Federally Qualified Health Centers</th>\n",
       "      <th>Other Health Providers</th>\n",
       "      <th>Hospitals</th>\n",
       "      <th>all_categories</th>\n",
       "      <th>All Free Health Clinics_per_capita</th>\n",
       "      <th>School-Based Health Centers_per_capita</th>\n",
       "      <th>Federally Qualified Health Centers_per_capita</th>\n",
       "      <th>Other Health Providers_per_capita</th>\n",
       "      <th>Hospitals_per_capita</th>\n",
       "      <th>all_categories_per_capita</th>\n",
       "    </tr>\n",
       "    <tr>\n",
       "      <th>spatial_index</th>\n",
       "      <th></th>\n",
       "      <th></th>\n",
       "      <th></th>\n",
       "      <th></th>\n",
       "      <th></th>\n",
       "      <th></th>\n",
       "      <th></th>\n",
       "      <th></th>\n",
       "      <th></th>\n",
       "      <th></th>\n",
       "      <th></th>\n",
       "      <th></th>\n",
       "    </tr>\n",
       "  </thead>\n",
       "  <tbody>\n",
       "    <tr>\n",
       "      <th>ALBANY PARK</th>\n",
       "      <td>0.0</td>\n",
       "      <td>329000.0</td>\n",
       "      <td>171000.0</td>\n",
       "      <td>0.0</td>\n",
       "      <td>0.0</td>\n",
       "      <td>500000.0</td>\n",
       "      <td>0.0</td>\n",
       "      <td>6.215757</td>\n",
       "      <td>3.230682</td>\n",
       "      <td>0.00000</td>\n",
       "      <td>0.000000</td>\n",
       "      <td>9.446439</td>\n",
       "    </tr>\n",
       "    <tr>\n",
       "      <th>ARCHER HEIGHTS</th>\n",
       "      <td>0.0</td>\n",
       "      <td>0.0</td>\n",
       "      <td>106000.0</td>\n",
       "      <td>0.0</td>\n",
       "      <td>0.0</td>\n",
       "      <td>106000.0</td>\n",
       "      <td>0.0</td>\n",
       "      <td>0.000000</td>\n",
       "      <td>7.572510</td>\n",
       "      <td>0.00000</td>\n",
       "      <td>0.000000</td>\n",
       "      <td>7.572510</td>\n",
       "    </tr>\n",
       "    <tr>\n",
       "      <th>ARMOUR SQUARE</th>\n",
       "      <td>0.0</td>\n",
       "      <td>0.0</td>\n",
       "      <td>0.0</td>\n",
       "      <td>170000.0</td>\n",
       "      <td>0.0</td>\n",
       "      <td>170000.0</td>\n",
       "      <td>0.0</td>\n",
       "      <td>0.000000</td>\n",
       "      <td>0.000000</td>\n",
       "      <td>17.72495</td>\n",
       "      <td>0.000000</td>\n",
       "      <td>17.724950</td>\n",
       "    </tr>\n",
       "    <tr>\n",
       "      <th>AUBURN GRESHAM</th>\n",
       "      <td>0.0</td>\n",
       "      <td>120000.0</td>\n",
       "      <td>141000.0</td>\n",
       "      <td>0.0</td>\n",
       "      <td>0.0</td>\n",
       "      <td>261000.0</td>\n",
       "      <td>0.0</td>\n",
       "      <td>2.520426</td>\n",
       "      <td>2.961500</td>\n",
       "      <td>0.00000</td>\n",
       "      <td>0.000000</td>\n",
       "      <td>5.481926</td>\n",
       "    </tr>\n",
       "    <tr>\n",
       "      <th>AUSTIN</th>\n",
       "      <td>0.0</td>\n",
       "      <td>190000.0</td>\n",
       "      <td>378000.0</td>\n",
       "      <td>0.0</td>\n",
       "      <td>125000.0</td>\n",
       "      <td>693000.0</td>\n",
       "      <td>0.0</td>\n",
       "      <td>1.849148</td>\n",
       "      <td>3.678832</td>\n",
       "      <td>0.00000</td>\n",
       "      <td>1.216545</td>\n",
       "      <td>6.744526</td>\n",
       "    </tr>\n",
       "  </tbody>\n",
       "</table>\n",
       "</div>"
      ],
      "text/plain": [
       "                All Free Health Clinics  School-Based Health Centers  \\\n",
       "spatial_index                                                          \n",
       "ALBANY PARK                         0.0                     329000.0   \n",
       "ARCHER HEIGHTS                      0.0                          0.0   \n",
       "ARMOUR SQUARE                       0.0                          0.0   \n",
       "AUBURN GRESHAM                      0.0                     120000.0   \n",
       "AUSTIN                              0.0                     190000.0   \n",
       "\n",
       "                Federally Qualified Health Centers  Other Health Providers  \\\n",
       "spatial_index                                                                \n",
       "ALBANY PARK                               171000.0                     0.0   \n",
       "ARCHER HEIGHTS                            106000.0                     0.0   \n",
       "ARMOUR SQUARE                                  0.0                170000.0   \n",
       "AUBURN GRESHAM                            141000.0                     0.0   \n",
       "AUSTIN                                    378000.0                     0.0   \n",
       "\n",
       "                Hospitals  all_categories  All Free Health Clinics_per_capita  \\\n",
       "spatial_index                                                                   \n",
       "ALBANY PARK           0.0        500000.0                                 0.0   \n",
       "ARCHER HEIGHTS        0.0        106000.0                                 0.0   \n",
       "ARMOUR SQUARE         0.0        170000.0                                 0.0   \n",
       "AUBURN GRESHAM        0.0        261000.0                                 0.0   \n",
       "AUSTIN           125000.0        693000.0                                 0.0   \n",
       "\n",
       "                School-Based Health Centers_per_capita  \\\n",
       "spatial_index                                            \n",
       "ALBANY PARK                                   6.215757   \n",
       "ARCHER HEIGHTS                                0.000000   \n",
       "ARMOUR SQUARE                                 0.000000   \n",
       "AUBURN GRESHAM                                2.520426   \n",
       "AUSTIN                                        1.849148   \n",
       "\n",
       "                Federally Qualified Health Centers_per_capita  \\\n",
       "spatial_index                                                   \n",
       "ALBANY PARK                                          3.230682   \n",
       "ARCHER HEIGHTS                                       7.572510   \n",
       "ARMOUR SQUARE                                        0.000000   \n",
       "AUBURN GRESHAM                                       2.961500   \n",
       "AUSTIN                                               3.678832   \n",
       "\n",
       "                Other Health Providers_per_capita  Hospitals_per_capita  \\\n",
       "spatial_index                                                             \n",
       "ALBANY PARK                               0.00000              0.000000   \n",
       "ARCHER HEIGHTS                            0.00000              0.000000   \n",
       "ARMOUR SQUARE                            17.72495              0.000000   \n",
       "AUBURN GRESHAM                            0.00000              0.000000   \n",
       "AUSTIN                                    0.00000              1.216545   \n",
       "\n",
       "                all_categories_per_capita  \n",
       "spatial_index                              \n",
       "ALBANY PARK                      9.446439  \n",
       "ARCHER HEIGHTS                   7.572510  \n",
       "ARMOUR SQUARE                   17.724950  \n",
       "AUBURN GRESHAM                   5.481926  \n",
       "AUSTIN                           6.744526  "
      ]
     },
     "execution_count": 127,
     "metadata": {},
     "output_type": "execute_result"
    }
   ],
   "source": [
    "#Preview the results\n",
    "d_sum.aggregated_results.head()"
   ]
  },
  {
   "cell_type": "code",
   "execution_count": 128,
   "metadata": {},
   "outputs": [],
   "source": [
    "# writes result to csv\n",
    "d_sum.write_aggregated_results('./data/output_data/models/destsum2010.csv')"
   ]
  },
  {
   "cell_type": "code",
   "execution_count": null,
   "metadata": {},
   "outputs": [],
   "source": [
    "d_sum.set_focus_categories('Federally Qualified Health Centers')"
   ]
  },
  {
   "cell_type": "code",
   "execution_count": null,
   "metadata": {},
   "outputs": [],
   "source": [
    "d_sum.head()"
   ]
  }
 ],
 "metadata": {
  "kernelspec": {
   "display_name": "Python 3",
   "language": "python",
   "name": "python3"
  },
  "language_info": {
   "codemirror_mode": {
    "name": "ipython",
    "version": 3
   },
   "file_extension": ".py",
   "mimetype": "text/x-python",
   "name": "python",
   "nbconvert_exporter": "python",
   "pygments_lexer": "ipython3",
   "version": "3.7.4"
  }
 },
 "nbformat": 4,
 "nbformat_minor": 2
}
