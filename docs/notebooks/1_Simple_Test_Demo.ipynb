{
 "cells": [
  {
   "cell_type": "markdown",
   "metadata": {},
   "source": [
    "# Simple Demo for Testing\n",
    "\n",
    "Authors: [Irene Farah](https://www.linkedin.com/in/imfarah/),  [Julia Koschinsky](https://www.linkedin.com/in/julia-koschinsky-657599b1/), [Logan Noel](https://www.linkedin.com/in/lmnoel/).   \n",
    "Contact: [Julia Koschinsky](mailto:jkoschinsky@uchicago.edu)  \n",
    "\n",
    "Research assistance of [Shiv Agrawal](http://simonlab.uchicago.edu/people/ShivAgrawal.html), [Caitlyn Tien](https://www.linkedin.com/in/caitlyn-tien-0b784b161/) and [Richard Lu](https://www.linkedin.com/in/richard-lu-576874155/) is gratefully acknowledged.\n",
    "\n",
    "Center for Spatial Data Science  \n",
    "University of Chicago  \n",
    "\n",
    "July 30, 2019"
   ]
  },
  {
   "cell_type": "markdown",
   "metadata": {},
   "source": [
    "----\n",
    "\n",
    "This notebook lets you test the core spatial access metrics with a toy dataset before running your own data. You will input two stored csv files:  \n",
    "\n",
    "1)  **hyde_park_tracts.csv** contains 12 points of origins (tract centroids for Hyde Park, Chicago + population field)  \n",
    "2)  **hyde_park_dests.csv** contains 7 amenities in three categories: museums, restaurants and supermarkets and one target field (this is an attribute of the amenity like number of employees, size or revenue).  \n",
    "\n",
    "You will first create a matrix of walking times (in seconds) from these points of origin to the 7 destinations (the matrix will have 12 rows and 7 columns). \n",
    "\n",
    "Then, the demo runs through a basic version of each spatial access and coverage metric for illustration purposes. The functionality of each spatial access metric is explained in more detail in the following notebooks."
   ]
  },
  {
   "cell_type": "code",
   "execution_count": null,
   "metadata": {},
   "outputs": [],
   "source": [
    "# Check to see what version of spatial access you are using\n",
    "! pip3 show spatial-access"
   ]
  },
  {
   "cell_type": "code",
   "execution_count": null,
   "metadata": {},
   "outputs": [],
   "source": [
    "cd ../.."
   ]
  },
  {
   "cell_type": "markdown",
   "metadata": {},
   "source": [
    "## Creating the Travel Time Matrix"
   ]
  },
  {
   "cell_type": "markdown",
   "metadata": {},
   "source": [
    "This generates a matrix of walking times (in seconds) from the 12 origins to the 7 destinations (12 rows x 7 columns). "
   ]
  },
  {
   "cell_type": "code",
   "execution_count": null,
   "metadata": {},
   "outputs": [],
   "source": [
    "from spatial_access.p2p import *"
   ]
  },
  {
   "cell_type": "markdown",
   "metadata": {},
   "source": [
    "---\n",
    "\n",
    "Read in the stored source and destination csv files:"
   ]
  },
  {
   "cell_type": "code",
   "execution_count": 4,
   "metadata": {},
   "outputs": [],
   "source": [
    "import pandas as pd\n",
    "sources_df = pd.read_csv('./data/input_data/sources/hyde_park_tracts.csv')\n",
    "dests_df = pd.read_csv('./data/input_data/destinations/hyde_park_dests.csv')\n"
   ]
  },
  {
   "cell_type": "markdown",
   "metadata": {},
   "source": [
    "View the source data (12 tract centroids):"
   ]
  },
  {
   "cell_type": "code",
   "execution_count": 5,
   "metadata": {},
   "outputs": [
    {
     "data": {
      "text/html": [
       "<div>\n",
       "<style scoped>\n",
       "    .dataframe tbody tr th:only-of-type {\n",
       "        vertical-align: middle;\n",
       "    }\n",
       "\n",
       "    .dataframe tbody tr th {\n",
       "        vertical-align: top;\n",
       "    }\n",
       "\n",
       "    .dataframe thead th {\n",
       "        text-align: right;\n",
       "    }\n",
       "</style>\n",
       "<table border=\"1\" class=\"dataframe\">\n",
       "  <thead>\n",
       "    <tr style=\"text-align: right;\">\n",
       "      <th></th>\n",
       "      <th>geoid10</th>\n",
       "      <th>lon</th>\n",
       "      <th>lat</th>\n",
       "      <th>Pop2014</th>\n",
       "      <th>Pov14</th>\n",
       "      <th>community</th>\n",
       "    </tr>\n",
       "  </thead>\n",
       "  <tbody>\n",
       "    <tr>\n",
       "      <th>0</th>\n",
       "      <td>17031836300</td>\n",
       "      <td>-87.601757</td>\n",
       "      <td>41.801532</td>\n",
       "      <td>6465</td>\n",
       "      <td>234</td>\n",
       "      <td>41</td>\n",
       "    </tr>\n",
       "    <tr>\n",
       "      <th>1</th>\n",
       "      <td>17031836200</td>\n",
       "      <td>-87.601284</td>\n",
       "      <td>41.790469</td>\n",
       "      <td>1329</td>\n",
       "      <td>47</td>\n",
       "      <td>41</td>\n",
       "    </tr>\n",
       "    <tr>\n",
       "      <th>2</th>\n",
       "      <td>17031410100</td>\n",
       "      <td>-87.579323</td>\n",
       "      <td>41.801497</td>\n",
       "      <td>1956</td>\n",
       "      <td>551</td>\n",
       "      <td>41</td>\n",
       "    </tr>\n",
       "    <tr>\n",
       "      <th>3</th>\n",
       "      <td>17031410200</td>\n",
       "      <td>-87.594269</td>\n",
       "      <td>41.801668</td>\n",
       "      <td>1248</td>\n",
       "      <td>362</td>\n",
       "      <td>41</td>\n",
       "    </tr>\n",
       "    <tr>\n",
       "      <th>4</th>\n",
       "      <td>17031410500</td>\n",
       "      <td>-87.603745</td>\n",
       "      <td>41.797827</td>\n",
       "      <td>2630</td>\n",
       "      <td>717</td>\n",
       "      <td>41</td>\n",
       "    </tr>\n",
       "    <tr>\n",
       "      <th>5</th>\n",
       "      <td>17031410600</td>\n",
       "      <td>-87.598946</td>\n",
       "      <td>41.797971</td>\n",
       "      <td>2365</td>\n",
       "      <td>703</td>\n",
       "      <td>41</td>\n",
       "    </tr>\n",
       "    <tr>\n",
       "      <th>6</th>\n",
       "      <td>17031411100</td>\n",
       "      <td>-87.589702</td>\n",
       "      <td>41.790449</td>\n",
       "      <td>2246</td>\n",
       "      <td>154</td>\n",
       "      <td>41</td>\n",
       "    </tr>\n",
       "    <tr>\n",
       "      <th>7</th>\n",
       "      <td>17031410700</td>\n",
       "      <td>-87.594198</td>\n",
       "      <td>41.798040</td>\n",
       "      <td>1959</td>\n",
       "      <td>453</td>\n",
       "      <td>41</td>\n",
       "    </tr>\n",
       "    <tr>\n",
       "      <th>8</th>\n",
       "      <td>17031410800</td>\n",
       "      <td>-87.589626</td>\n",
       "      <td>41.797960</td>\n",
       "      <td>3201</td>\n",
       "      <td>741</td>\n",
       "      <td>41</td>\n",
       "    </tr>\n",
       "    <tr>\n",
       "      <th>9</th>\n",
       "      <td>17031410900</td>\n",
       "      <td>-87.576659</td>\n",
       "      <td>41.797874</td>\n",
       "      <td>2923</td>\n",
       "      <td>607</td>\n",
       "      <td>41</td>\n",
       "    </tr>\n",
       "    <tr>\n",
       "      <th>10</th>\n",
       "      <td>17031411000</td>\n",
       "      <td>-87.576873</td>\n",
       "      <td>41.790716</td>\n",
       "      <td>3313</td>\n",
       "      <td>465</td>\n",
       "      <td>41</td>\n",
       "    </tr>\n",
       "    <tr>\n",
       "      <th>11</th>\n",
       "      <td>17031411200</td>\n",
       "      <td>-87.594017</td>\n",
       "      <td>41.790556</td>\n",
       "      <td>1691</td>\n",
       "      <td>289</td>\n",
       "      <td>41</td>\n",
       "    </tr>\n",
       "  </tbody>\n",
       "</table>\n",
       "</div>"
      ],
      "text/plain": [
       "        geoid10        lon        lat  Pop2014  Pov14  community\n",
       "0   17031836300 -87.601757  41.801532     6465    234         41\n",
       "1   17031836200 -87.601284  41.790469     1329     47         41\n",
       "2   17031410100 -87.579323  41.801497     1956    551         41\n",
       "3   17031410200 -87.594269  41.801668     1248    362         41\n",
       "4   17031410500 -87.603745  41.797827     2630    717         41\n",
       "5   17031410600 -87.598946  41.797971     2365    703         41\n",
       "6   17031411100 -87.589702  41.790449     2246    154         41\n",
       "7   17031410700 -87.594198  41.798040     1959    453         41\n",
       "8   17031410800 -87.589626  41.797960     3201    741         41\n",
       "9   17031410900 -87.576659  41.797874     2923    607         41\n",
       "10  17031411000 -87.576873  41.790716     3313    465         41\n",
       "11  17031411200 -87.594017  41.790556     1691    289         41"
      ]
     },
     "execution_count": 5,
     "metadata": {},
     "output_type": "execute_result"
    }
   ],
   "source": [
    "sources_df"
   ]
  },
  {
   "cell_type": "markdown",
   "metadata": {},
   "source": [
    "View the destination data (7 amenities):"
   ]
  },
  {
   "cell_type": "code",
   "execution_count": 6,
   "metadata": {},
   "outputs": [
    {
     "data": {
      "text/html": [
       "<div>\n",
       "<style scoped>\n",
       "    .dataframe tbody tr th:only-of-type {\n",
       "        vertical-align: middle;\n",
       "    }\n",
       "\n",
       "    .dataframe tbody tr th {\n",
       "        vertical-align: top;\n",
       "    }\n",
       "\n",
       "    .dataframe thead th {\n",
       "        text-align: right;\n",
       "    }\n",
       "</style>\n",
       "<table border=\"1\" class=\"dataframe\">\n",
       "  <thead>\n",
       "    <tr style=\"text-align: right;\">\n",
       "      <th></th>\n",
       "      <th>name</th>\n",
       "      <th>lon</th>\n",
       "      <th>lat</th>\n",
       "      <th>category</th>\n",
       "      <th>target</th>\n",
       "    </tr>\n",
       "  </thead>\n",
       "  <tbody>\n",
       "    <tr>\n",
       "      <th>0</th>\n",
       "      <td>Museum of Science and Industry</td>\n",
       "      <td>-87.583131</td>\n",
       "      <td>41.790883</td>\n",
       "      <td>Museum</td>\n",
       "      <td>400</td>\n",
       "    </tr>\n",
       "    <tr>\n",
       "      <th>1</th>\n",
       "      <td>Medici</td>\n",
       "      <td>-87.593738</td>\n",
       "      <td>41.791438</td>\n",
       "      <td>Restaurant</td>\n",
       "      <td>50</td>\n",
       "    </tr>\n",
       "    <tr>\n",
       "      <th>2</th>\n",
       "      <td>Valois</td>\n",
       "      <td>-87.588328</td>\n",
       "      <td>41.799663</td>\n",
       "      <td>Restaurant</td>\n",
       "      <td>30</td>\n",
       "    </tr>\n",
       "    <tr>\n",
       "      <th>3</th>\n",
       "      <td>DuSable Museum</td>\n",
       "      <td>-87.607132</td>\n",
       "      <td>41.791985</td>\n",
       "      <td>Museum</td>\n",
       "      <td>100</td>\n",
       "    </tr>\n",
       "    <tr>\n",
       "      <th>4</th>\n",
       "      <td>Whole Foods</td>\n",
       "      <td>-87.587949</td>\n",
       "      <td>41.801978</td>\n",
       "      <td>Supermarket</td>\n",
       "      <td>50</td>\n",
       "    </tr>\n",
       "    <tr>\n",
       "      <th>5</th>\n",
       "      <td>Hyde Park Produce</td>\n",
       "      <td>-87.595524</td>\n",
       "      <td>41.799942</td>\n",
       "      <td>Supermarket</td>\n",
       "      <td>35</td>\n",
       "    </tr>\n",
       "    <tr>\n",
       "      <th>6</th>\n",
       "      <td>Jewel Osco</td>\n",
       "      <td>-87.607225</td>\n",
       "      <td>41.784580</td>\n",
       "      <td>Supermarket</td>\n",
       "      <td>70</td>\n",
       "    </tr>\n",
       "  </tbody>\n",
       "</table>\n",
       "</div>"
      ],
      "text/plain": [
       "                             name        lon        lat     category  target\n",
       "0  Museum of Science and Industry -87.583131  41.790883       Museum     400\n",
       "1                          Medici -87.593738  41.791438   Restaurant      50\n",
       "2                          Valois -87.588328  41.799663   Restaurant      30\n",
       "3                  DuSable Museum -87.607132  41.791985       Museum     100\n",
       "4                     Whole Foods -87.587949  41.801978  Supermarket      50\n",
       "5               Hyde Park Produce -87.595524  41.799942  Supermarket      35\n",
       "6                      Jewel Osco -87.607225  41.784580  Supermarket      70"
      ]
     },
     "execution_count": 6,
     "metadata": {},
     "output_type": "execute_result"
    }
   ],
   "source": [
    "dests_df"
   ]
  },
  {
   "cell_type": "markdown",
   "metadata": {},
   "source": [
    "Specify travel mode, variable names, and file locations:"
   ]
  },
  {
   "cell_type": "code",
   "execution_count": null,
   "metadata": {},
   "outputs": [],
   "source": [
    "#asymmetric matrix, different source and destination files\n",
    "matrix = TransitMatrix(network_type='walk',\n",
    "                       primary_hints={'idx' : 'geoid10', 'population': 'skip', 'lat': 'lat', 'lon': 'lon'},\n",
    "                       secondary_hints={'idx': 'name', 'capacity': 'skip', 'category': 'category', 'lat': 'lat', 'lon': 'lon'},\n",
    "                       primary_input='./data/input_data/sources/hyde_park_tracts.csv',\n",
    "                       secondary_input='./data/input_data/destinations/hyde_park_dests.csv')\n"
   ]
  },
  {
   "cell_type": "markdown",
   "metadata": {},
   "source": [
    "Get the travel times by querying OpenStreetMap data for the spatial extent of your source and destination coordinates:"
   ]
  },
  {
   "cell_type": "code",
   "execution_count": null,
   "metadata": {},
   "outputs": [],
   "source": [
    "matrix.process()"
   ]
  },
  {
   "cell_type": "markdown",
   "metadata": {},
   "source": [
    "Save the travel time matrix in csv and/or tmx format (running access metrics with tmx is faster):"
   ]
  },
  {
   "cell_type": "code",
   "execution_count": null,
   "metadata": {},
   "outputs": [],
   "source": [
    "matrix.write_csv('./data/output_data/matrices/simple_demo_matrix.csv')"
   ]
  },
  {
   "cell_type": "code",
   "execution_count": null,
   "metadata": {},
   "outputs": [],
   "source": [
    "matrix.write_tmx('./data/output_data/matrices/simple_demo_matrix.tmx')"
   ]
  },
  {
   "cell_type": "markdown",
   "metadata": {},
   "source": [
    "## Access Metrics (Attributes of the Origin File)"
   ]
  },
  {
   "cell_type": "markdown",
   "metadata": {},
   "source": [
    "Next, the travel time matrix serves as the input for the calculation of several spatial access metrics. We first calculate spatial access measures that are attributes of the point of origin (12 tract centroids). After that, we calculate so-called coverage metrics that are attributes of the destination points (7 amenities)."
   ]
  },
  {
   "cell_type": "code",
   "execution_count": 10,
   "metadata": {},
   "outputs": [],
   "source": [
    "from spatial_access.Models import *"
   ]
  },
  {
   "cell_type": "markdown",
   "metadata": {},
   "source": [
    "### Access Model"
   ]
  },
  {
   "cell_type": "markdown",
   "metadata": {},
   "source": [
    "The first line of code defines the Access Model using the previously generated matrix of travel times from above.   \n",
    "If you specify **`transit_matrix_filename=None`**, the matrix will be estimated on the fly.  \n",
    "\n",
    "The Access Model generates an access score to measure how accessible a location is to multiple amenities within a given travel time (e.g. 20 minutes walking). You can specify three types of weights for this score: \n",
    "\n",
    "1) **distance decay** where closer amenities have more weight (default = linear)  \n",
    "2) **relative importance of an amenity type** (e.g. with a greater weight for supermarkets than museums)  \n",
    "3) **penalty for same types** (where more of the same type of amenity gets less weight). \n",
    "\n",
    "You can estimate the score with or without normalization.  \n",
    "The AccessModel does not require population or target variables.\n"
   ]
  },
  {
   "cell_type": "markdown",
   "metadata": {},
   "source": [
    "---\n",
    "\n",
    "Specify travel mode, file names, variable names and the distance decay function:"
   ]
  },
  {
   "cell_type": "code",
   "execution_count": null,
   "metadata": {},
   "outputs": [],
   "source": [
    "access = AccessModel(network_type='walk',\n",
    "                     transit_matrix_filename='./data/output_data/matrices/simple_demo_matrix.csv',\n",
    "                     sources_filename='./data/input_data/sources/hyde_park_tracts.csv',\n",
    "                     destinations_filename='./data/input_data/destinations/hyde_park_dests.csv',\n",
    "                     source_column_names={'idx' : 'geoid10', 'population': 'skip', 'lat': 'lat', 'lon': 'lon'},\n",
    "                     dest_column_names={'idx': 'name', 'capacity': 'skip', 'category': 'category', 'lat': 'lat', 'lon': 'lon'},\n",
    "                     decay_function = 'linear')"
   ]
  },
  {
   "cell_type": "markdown",
   "metadata": {},
   "source": [
    "Specify the weights for relative importance and same types:"
   ]
  },
  {
   "cell_type": "code",
   "execution_count": 12,
   "metadata": {},
   "outputs": [],
   "source": [
    "category_dict = {\n",
    "    \"Museum\": [5, 5, 3],\n",
    "    \"Restaurant\": [10, 10],\n",
    "    \"Supermarket\": [10, 7, 5]\n",
    "}"
   ]
  },
  {
   "cell_type": "markdown",
   "metadata": {},
   "source": [
    "Specify the travel time threshold in seconds (e.g. 1,800 seconds = 30 minutes), whether or not to normalize the score, and the importance/variety weights:"
   ]
  },
  {
   "cell_type": "code",
   "execution_count": null,
   "metadata": {},
   "outputs": [],
   "source": [
    "access.calculate(upper_threshold=1800,\n",
    "                 normalize=False,\n",
    "                 category_weight_dict=category_dict)"
   ]
  },
  {
   "cell_type": "markdown",
   "metadata": {},
   "source": [
    "View the first 5 records of the access score results by category:"
   ]
  },
  {
   "cell_type": "code",
   "execution_count": 17,
   "metadata": {},
   "outputs": [
    {
     "data": {
      "text/html": [
       "<div>\n",
       "<style scoped>\n",
       "    .dataframe tbody tr th:only-of-type {\n",
       "        vertical-align: middle;\n",
       "    }\n",
       "\n",
       "    .dataframe tbody tr th {\n",
       "        vertical-align: top;\n",
       "    }\n",
       "\n",
       "    .dataframe thead th {\n",
       "        text-align: right;\n",
       "    }\n",
       "</style>\n",
       "<table border=\"1\" class=\"dataframe\">\n",
       "  <thead>\n",
       "    <tr style=\"text-align: right;\">\n",
       "      <th></th>\n",
       "      <th>all_categories_score</th>\n",
       "      <th>Museum_score</th>\n",
       "      <th>Supermarket_score</th>\n",
       "      <th>Restaurant_score</th>\n",
       "    </tr>\n",
       "  </thead>\n",
       "  <tbody>\n",
       "    <tr>\n",
       "      <th>17031836300</th>\n",
       "      <td>19.318333</td>\n",
       "      <td>2.108333</td>\n",
       "      <td>9.826667</td>\n",
       "      <td>7.383333</td>\n",
       "    </tr>\n",
       "    <tr>\n",
       "      <th>17031836200</th>\n",
       "      <td>22.553333</td>\n",
       "      <td>4.983333</td>\n",
       "      <td>8.342222</td>\n",
       "      <td>9.227778</td>\n",
       "    </tr>\n",
       "    <tr>\n",
       "      <th>17031410100</th>\n",
       "      <td>18.303889</td>\n",
       "      <td>2.011111</td>\n",
       "      <td>8.398333</td>\n",
       "      <td>7.894444</td>\n",
       "    </tr>\n",
       "    <tr>\n",
       "      <th>17031410200</th>\n",
       "      <td>25.826667</td>\n",
       "      <td>1.647222</td>\n",
       "      <td>12.301667</td>\n",
       "      <td>11.877778</td>\n",
       "    </tr>\n",
       "    <tr>\n",
       "      <th>17031410500</th>\n",
       "      <td>21.282778</td>\n",
       "      <td>3.519444</td>\n",
       "      <td>9.713333</td>\n",
       "      <td>8.050000</td>\n",
       "    </tr>\n",
       "  </tbody>\n",
       "</table>\n",
       "</div>"
      ],
      "text/plain": [
       "             all_categories_score  Museum_score  Supermarket_score  \\\n",
       "17031836300             19.318333      2.108333           9.826667   \n",
       "17031836200             22.553333      4.983333           8.342222   \n",
       "17031410100             18.303889      2.011111           8.398333   \n",
       "17031410200             25.826667      1.647222          12.301667   \n",
       "17031410500             21.282778      3.519444           9.713333   \n",
       "\n",
       "             Restaurant_score  \n",
       "17031836300          7.383333  \n",
       "17031836200          9.227778  \n",
       "17031410100          7.894444  \n",
       "17031410200         11.877778  \n",
       "17031410500          8.050000  "
      ]
     },
     "execution_count": 17,
     "metadata": {},
     "output_type": "execute_result"
    }
   ],
   "source": [
    "access.model_results.head()"
   ]
  },
  {
   "cell_type": "code",
   "execution_count": 18,
   "metadata": {},
   "outputs": [],
   "source": [
    "access.model_results.to_csv('./data/output_data/models/simple_demo_accessMod.csv')"
   ]
  },
  {
   "cell_type": "markdown",
   "metadata": {},
   "source": [
    "### Access Time: Time to closest destination"
   ]
  },
  {
   "cell_type": "markdown",
   "metadata": {},
   "source": [
    "Next, you will calculate the time it takes to reach the closest destination for each point of origin.  \n",
    "As before, you define the Access Time model using the sources and destinations csv.  \n",
    "AccessTime does not require population or target variables."
   ]
  },
  {
   "cell_type": "code",
   "execution_count": null,
   "metadata": {},
   "outputs": [],
   "source": [
    "accessT = AccessTime(network_type='walk',\n",
    "                     transit_matrix_filename='./data/output_data/matrices/simple_demo_matrix.csv',\n",
    "                     sources_filename='./data/input_data/sources/hyde_park_tracts.csv',\n",
    "                     destinations_filename='./data/input_data/destinations/hyde_park_dests.csv',\n",
    "                     source_column_names={'idx' : 'geoid10', 'population': 'skip', 'lat': 'lat', 'lon': 'lon'},\n",
    "                     dest_column_names={'idx': 'name', 'capacity': 'skip', 'category': 'category', 'lat': 'lat', 'lon': 'lon'}\n",
    "                    )"
   ]
  },
  {
   "cell_type": "code",
   "execution_count": null,
   "metadata": {},
   "outputs": [],
   "source": [
    "accessT.calculate()"
   ]
  },
  {
   "cell_type": "code",
   "execution_count": null,
   "metadata": {},
   "outputs": [],
   "source": [
    "accessT.model_results.head()"
   ]
  },
  {
   "cell_type": "code",
   "execution_count": 21,
   "metadata": {},
   "outputs": [],
   "source": [
    "accessT.model_results.to_csv('data/output_data/models/simple_demo_accessT.csv')"
   ]
  },
  {
   "cell_type": "markdown",
   "metadata": {},
   "source": [
    "### Access Count: Number of Destinations within a Catchment Area"
   ]
  },
  {
   "cell_type": "markdown",
   "metadata": {},
   "source": [
    "Access Count measures the number of destinations within a given travel time.  \n",
    "In this case, the catchment area is 1,800 seconds (30 minutes) of walking from a point of origin.  \n",
    "It does not require population or target variables."
   ]
  },
  {
   "cell_type": "code",
   "execution_count": null,
   "metadata": {},
   "outputs": [],
   "source": [
    "accessC = AccessCount(network_type='walk',\n",
    "                     transit_matrix_filename='./data/output_data/matrices/simple_demo_matrix.csv',\n",
    "                     sources_filename='./data/input_data/sources/hyde_park_tracts.csv',\n",
    "                     destinations_filename='./data/input_data/destinations/hyde_park_dests.csv',\n",
    "                     source_column_names={'idx' : 'geoid10', 'population': 'skip', 'lat': 'lat', 'lon': 'lon'},\n",
    "                     dest_column_names={'idx': 'name', 'capacity': 'skip', 'category': 'category', 'lat': 'lat', 'lon': 'lon'}\n",
    "                     )"
   ]
  },
  {
   "cell_type": "code",
   "execution_count": null,
   "metadata": {},
   "outputs": [],
   "source": [
    "accessC.calculate(upper_threshold=1800)"
   ]
  },
  {
   "cell_type": "code",
   "execution_count": 34,
   "metadata": {},
   "outputs": [
    {
     "data": {
      "text/html": [
       "<div>\n",
       "<style scoped>\n",
       "    .dataframe tbody tr th:only-of-type {\n",
       "        vertical-align: middle;\n",
       "    }\n",
       "\n",
       "    .dataframe tbody tr th {\n",
       "        vertical-align: top;\n",
       "    }\n",
       "\n",
       "    .dataframe thead th {\n",
       "        text-align: right;\n",
       "    }\n",
       "</style>\n",
       "<table border=\"1\" class=\"dataframe\">\n",
       "  <thead>\n",
       "    <tr style=\"text-align: right;\">\n",
       "      <th></th>\n",
       "      <th>count_in_range_Museum</th>\n",
       "      <th>count_in_range_Supermarket</th>\n",
       "      <th>count_in_range_Restaurant</th>\n",
       "      <th>count_in_range_all_categories</th>\n",
       "    </tr>\n",
       "  </thead>\n",
       "  <tbody>\n",
       "    <tr>\n",
       "      <th>17031836300</th>\n",
       "      <td>1</td>\n",
       "      <td>3</td>\n",
       "      <td>2</td>\n",
       "      <td>6</td>\n",
       "    </tr>\n",
       "    <tr>\n",
       "      <th>17031836200</th>\n",
       "      <td>2</td>\n",
       "      <td>3</td>\n",
       "      <td>2</td>\n",
       "      <td>7</td>\n",
       "    </tr>\n",
       "    <tr>\n",
       "      <th>17031410100</th>\n",
       "      <td>1</td>\n",
       "      <td>2</td>\n",
       "      <td>2</td>\n",
       "      <td>5</td>\n",
       "    </tr>\n",
       "    <tr>\n",
       "      <th>17031410200</th>\n",
       "      <td>2</td>\n",
       "      <td>2</td>\n",
       "      <td>2</td>\n",
       "      <td>6</td>\n",
       "    </tr>\n",
       "    <tr>\n",
       "      <th>17031410500</th>\n",
       "      <td>2</td>\n",
       "      <td>3</td>\n",
       "      <td>2</td>\n",
       "      <td>7</td>\n",
       "    </tr>\n",
       "  </tbody>\n",
       "</table>\n",
       "</div>"
      ],
      "text/plain": [
       "             count_in_range_Museum  count_in_range_Supermarket  \\\n",
       "17031836300                      1                           3   \n",
       "17031836200                      2                           3   \n",
       "17031410100                      1                           2   \n",
       "17031410200                      2                           2   \n",
       "17031410500                      2                           3   \n",
       "\n",
       "             count_in_range_Restaurant  count_in_range_all_categories  \n",
       "17031836300                          2                              6  \n",
       "17031836200                          2                              7  \n",
       "17031410100                          2                              5  \n",
       "17031410200                          2                              6  \n",
       "17031410500                          2                              7  "
      ]
     },
     "execution_count": 34,
     "metadata": {},
     "output_type": "execute_result"
    }
   ],
   "source": [
    "accessC.model_results.head()"
   ]
  },
  {
   "cell_type": "code",
   "execution_count": 25,
   "metadata": {},
   "outputs": [],
   "source": [
    "accessC.model_results.to_csv('data/output_data/models/simple_demo_accessC.csv')"
   ]
  },
  {
   "cell_type": "markdown",
   "metadata": {},
   "source": [
    "### Access Sum: The sum of an attribute of a destination within a given travel time"
   ]
  },
  {
   "cell_type": "markdown",
   "metadata": {},
   "source": [
    "Access Sum sums an attribute of a destination within a catchment area, e.g. the size of supermarkets within 30 minutes walking time from a point of origin.  It requires a target variable."
   ]
  },
  {
   "cell_type": "code",
   "execution_count": null,
   "metadata": {},
   "outputs": [],
   "source": [
    "accessS = AccessSum(network_type='walk',\n",
    "                     transit_matrix_filename='data/output_data/matrices/simple_demo_matrix.csv',\n",
    "                     sources_filename='data/input_data/sources/hyde_park_tracts.csv',\n",
    "                     destinations_filename='data/input_data/destinations/hyde_park_dests.csv',\n",
    "                     source_column_names={'idx' : 'geoid10', 'population': 'skip', 'lat': 'lat', 'lon': 'lon'},\n",
    "                     dest_column_names={'idx': 'name', 'capacity': 'target', 'category': 'category', 'lat': 'lat', 'lon': 'lon'}\n",
    "                   )"
   ]
  },
  {
   "cell_type": "code",
   "execution_count": null,
   "metadata": {},
   "outputs": [],
   "source": [
    "accessS.calculate(upper_threshold=1800)"
   ]
  },
  {
   "cell_type": "code",
   "execution_count": 42,
   "metadata": {},
   "outputs": [
    {
     "data": {
      "text/html": [
       "<div>\n",
       "<style scoped>\n",
       "    .dataframe tbody tr th:only-of-type {\n",
       "        vertical-align: middle;\n",
       "    }\n",
       "\n",
       "    .dataframe tbody tr th {\n",
       "        vertical-align: top;\n",
       "    }\n",
       "\n",
       "    .dataframe thead th {\n",
       "        text-align: right;\n",
       "    }\n",
       "</style>\n",
       "<table border=\"1\" class=\"dataframe\">\n",
       "  <thead>\n",
       "    <tr style=\"text-align: right;\">\n",
       "      <th></th>\n",
       "      <th>sum_in_range_Museum</th>\n",
       "      <th>sum_in_range_Supermarket</th>\n",
       "      <th>sum_in_range_Restaurant</th>\n",
       "      <th>sum_in_range_all_categories</th>\n",
       "    </tr>\n",
       "  </thead>\n",
       "  <tbody>\n",
       "    <tr>\n",
       "      <th>17031836300</th>\n",
       "      <td>100</td>\n",
       "      <td>155</td>\n",
       "      <td>80</td>\n",
       "      <td>335</td>\n",
       "    </tr>\n",
       "    <tr>\n",
       "      <th>17031836200</th>\n",
       "      <td>500</td>\n",
       "      <td>155</td>\n",
       "      <td>80</td>\n",
       "      <td>735</td>\n",
       "    </tr>\n",
       "    <tr>\n",
       "      <th>17031410100</th>\n",
       "      <td>400</td>\n",
       "      <td>85</td>\n",
       "      <td>80</td>\n",
       "      <td>565</td>\n",
       "    </tr>\n",
       "    <tr>\n",
       "      <th>17031410200</th>\n",
       "      <td>500</td>\n",
       "      <td>85</td>\n",
       "      <td>80</td>\n",
       "      <td>665</td>\n",
       "    </tr>\n",
       "    <tr>\n",
       "      <th>17031410500</th>\n",
       "      <td>500</td>\n",
       "      <td>155</td>\n",
       "      <td>80</td>\n",
       "      <td>735</td>\n",
       "    </tr>\n",
       "  </tbody>\n",
       "</table>\n",
       "</div>"
      ],
      "text/plain": [
       "             sum_in_range_Museum  sum_in_range_Supermarket  \\\n",
       "17031836300                  100                       155   \n",
       "17031836200                  500                       155   \n",
       "17031410100                  400                        85   \n",
       "17031410200                  500                        85   \n",
       "17031410500                  500                       155   \n",
       "\n",
       "             sum_in_range_Restaurant  sum_in_range_all_categories  \n",
       "17031836300                       80                          335  \n",
       "17031836200                       80                          735  \n",
       "17031410100                       80                          565  \n",
       "17031410200                       80                          665  \n",
       "17031410500                       80                          735  "
      ]
     },
     "execution_count": 42,
     "metadata": {},
     "output_type": "execute_result"
    }
   ],
   "source": [
    "accessS.model_results.head()"
   ]
  },
  {
   "cell_type": "code",
   "execution_count": 40,
   "metadata": {},
   "outputs": [],
   "source": [
    "accessS.model_results.to_csv('./data/output_data/simple_demo_accessS.csv')"
   ]
  },
  {
   "cell_type": "markdown",
   "metadata": {},
   "source": [
    "### Destination Sum: Sum of a provider charactistic by area"
   ]
  },
  {
   "cell_type": "markdown",
   "metadata": {},
   "source": [
    "**Destination Sum** sums an attribute of a destination within a geographic boundary. It also generates this result per capita within these boundaries.  \n",
    "This so-called container approach differs from Access Sum in that it sums point attributes within areas without relying on travel times. It requires population and target variables."
   ]
  },
  {
   "cell_type": "code",
   "execution_count": null,
   "metadata": {},
   "outputs": [],
   "source": [
    "d_sum = DestSum(network_type='walk',\n",
    "                sources_filename='d./ata/input_data/sources/hyde_park_tracts.csv',\n",
    "                destinations_filename='./data/input_data/destinations/hyde_park_dests.csv',\n",
    "                source_column_names={'idx' : 'geoid10', 'population': 'skip', 'lat': 'lat', 'lon': 'lon'},\n",
    "                dest_column_names={'idx': 'name', 'capacity': 'target', 'category': 'category', 'lat': 'lat', 'lon': 'lon'}\n",
    "               )"
   ]
  },
  {
   "cell_type": "code",
   "execution_count": 95,
   "metadata": {},
   "outputs": [
    {
     "data": {
      "text/html": [
       "<div>\n",
       "<style scoped>\n",
       "    .dataframe tbody tr th:only-of-type {\n",
       "        vertical-align: middle;\n",
       "    }\n",
       "\n",
       "    .dataframe tbody tr th {\n",
       "        vertical-align: top;\n",
       "    }\n",
       "\n",
       "    .dataframe thead th {\n",
       "        text-align: right;\n",
       "    }\n",
       "</style>\n",
       "<table border=\"1\" class=\"dataframe\">\n",
       "  <thead>\n",
       "    <tr style=\"text-align: right;\">\n",
       "      <th></th>\n",
       "      <th>Museum</th>\n",
       "      <th>Supermarket</th>\n",
       "      <th>Restaurant</th>\n",
       "      <th>all_categories</th>\n",
       "      <th>Museum_per_capita</th>\n",
       "      <th>Supermarket_per_capita</th>\n",
       "      <th>Restaurant_per_capita</th>\n",
       "      <th>all_categories_per_capita</th>\n",
       "    </tr>\n",
       "    <tr>\n",
       "      <th>spatial_index</th>\n",
       "      <th></th>\n",
       "      <th></th>\n",
       "      <th></th>\n",
       "      <th></th>\n",
       "      <th></th>\n",
       "      <th></th>\n",
       "      <th></th>\n",
       "      <th></th>\n",
       "    </tr>\n",
       "  </thead>\n",
       "  <tbody>\n",
       "    <tr>\n",
       "      <th>HYDE PARK</th>\n",
       "      <td>400.0</td>\n",
       "      <td>85.0</td>\n",
       "      <td>80.0</td>\n",
       "      <td>565.0</td>\n",
       "      <td>44.444444</td>\n",
       "      <td>9.444444</td>\n",
       "      <td>8.888889</td>\n",
       "      <td>62.777778</td>\n",
       "    </tr>\n",
       "    <tr>\n",
       "      <th>WASHINGTON PARK</th>\n",
       "      <td>100.0</td>\n",
       "      <td>0.0</td>\n",
       "      <td>0.0</td>\n",
       "      <td>100.0</td>\n",
       "      <td>NaN</td>\n",
       "      <td>NaN</td>\n",
       "      <td>NaN</td>\n",
       "      <td>NaN</td>\n",
       "    </tr>\n",
       "    <tr>\n",
       "      <th>WOODLAWN</th>\n",
       "      <td>0.0</td>\n",
       "      <td>70.0</td>\n",
       "      <td>0.0</td>\n",
       "      <td>70.0</td>\n",
       "      <td>NaN</td>\n",
       "      <td>NaN</td>\n",
       "      <td>NaN</td>\n",
       "      <td>NaN</td>\n",
       "    </tr>\n",
       "  </tbody>\n",
       "</table>\n",
       "</div>"
      ],
      "text/plain": [
       "                 Museum  Supermarket  Restaurant  all_categories  \\\n",
       "spatial_index                                                      \n",
       "HYDE PARK         400.0         85.0        80.0           565.0   \n",
       "WASHINGTON PARK   100.0          0.0         0.0           100.0   \n",
       "WOODLAWN            0.0         70.0         0.0            70.0   \n",
       "\n",
       "                 Museum_per_capita  Supermarket_per_capita  \\\n",
       "spatial_index                                                \n",
       "HYDE PARK                44.444444                9.444444   \n",
       "WASHINGTON PARK                NaN                     NaN   \n",
       "WOODLAWN                       NaN                     NaN   \n",
       "\n",
       "                 Restaurant_per_capita  all_categories_per_capita  \n",
       "spatial_index                                                      \n",
       "HYDE PARK                     8.888889                  62.777778  \n",
       "WASHINGTON PARK                    NaN                        NaN  \n",
       "WOODLAWN                           NaN                        NaN  "
      ]
     },
     "execution_count": 95,
     "metadata": {},
     "output_type": "execute_result"
    }
   ],
   "source": [
    "d_sum.calculate()"
   ]
  },
  {
   "cell_type": "code",
   "execution_count": 45,
   "metadata": {},
   "outputs": [
    {
     "data": {
      "text/html": [
       "<div>\n",
       "<style scoped>\n",
       "    .dataframe tbody tr th:only-of-type {\n",
       "        vertical-align: middle;\n",
       "    }\n",
       "\n",
       "    .dataframe tbody tr th {\n",
       "        vertical-align: top;\n",
       "    }\n",
       "\n",
       "    .dataframe thead th {\n",
       "        text-align: right;\n",
       "    }\n",
       "</style>\n",
       "<table border=\"1\" class=\"dataframe\">\n",
       "  <thead>\n",
       "    <tr style=\"text-align: right;\">\n",
       "      <th></th>\n",
       "      <th>Museum</th>\n",
       "      <th>Supermarket</th>\n",
       "      <th>Restaurant</th>\n",
       "      <th>all_categories</th>\n",
       "      <th>Museum_per_capita</th>\n",
       "      <th>Supermarket_per_capita</th>\n",
       "      <th>Restaurant_per_capita</th>\n",
       "      <th>all_categories_per_capita</th>\n",
       "    </tr>\n",
       "    <tr>\n",
       "      <th>spatial_index</th>\n",
       "      <th></th>\n",
       "      <th></th>\n",
       "      <th></th>\n",
       "      <th></th>\n",
       "      <th></th>\n",
       "      <th></th>\n",
       "      <th></th>\n",
       "      <th></th>\n",
       "    </tr>\n",
       "  </thead>\n",
       "  <tbody>\n",
       "    <tr>\n",
       "      <th>HYDE PARK</th>\n",
       "      <td>400.0</td>\n",
       "      <td>85.0</td>\n",
       "      <td>80.0</td>\n",
       "      <td>565.0</td>\n",
       "      <td>0.017291</td>\n",
       "      <td>0.003674</td>\n",
       "      <td>0.003458</td>\n",
       "      <td>0.024423</td>\n",
       "    </tr>\n",
       "    <tr>\n",
       "      <th>WASHINGTON PARK</th>\n",
       "      <td>100.0</td>\n",
       "      <td>0.0</td>\n",
       "      <td>0.0</td>\n",
       "      <td>100.0</td>\n",
       "      <td>NaN</td>\n",
       "      <td>NaN</td>\n",
       "      <td>NaN</td>\n",
       "      <td>NaN</td>\n",
       "    </tr>\n",
       "    <tr>\n",
       "      <th>WOODLAWN</th>\n",
       "      <td>0.0</td>\n",
       "      <td>70.0</td>\n",
       "      <td>0.0</td>\n",
       "      <td>70.0</td>\n",
       "      <td>NaN</td>\n",
       "      <td>NaN</td>\n",
       "      <td>NaN</td>\n",
       "      <td>NaN</td>\n",
       "    </tr>\n",
       "  </tbody>\n",
       "</table>\n",
       "</div>"
      ],
      "text/plain": [
       "                 Museum  Supermarket  Restaurant  all_categories  \\\n",
       "spatial_index                                                      \n",
       "HYDE PARK         400.0         85.0        80.0           565.0   \n",
       "WASHINGTON PARK   100.0          0.0         0.0           100.0   \n",
       "WOODLAWN            0.0         70.0         0.0            70.0   \n",
       "\n",
       "                 Museum_per_capita  Supermarket_per_capita  \\\n",
       "spatial_index                                                \n",
       "HYDE PARK                 0.017291                0.003674   \n",
       "WASHINGTON PARK                NaN                     NaN   \n",
       "WOODLAWN                       NaN                     NaN   \n",
       "\n",
       "                 Restaurant_per_capita  all_categories_per_capita  \n",
       "spatial_index                                                      \n",
       "HYDE PARK                     0.003458                   0.024423  \n",
       "WASHINGTON PARK                    NaN                        NaN  \n",
       "WOODLAWN                           NaN                        NaN  "
      ]
     },
     "execution_count": 45,
     "metadata": {},
     "output_type": "execute_result"
    }
   ],
   "source": [
    "d_sum.aggregated_results.head()"
   ]
  },
  {
   "cell_type": "code",
   "execution_count": 37,
   "metadata": {},
   "outputs": [],
   "source": [
    "d_sum.aggregated_results.to_csv('./data/output_data/simple_demo_destsum.csv')"
   ]
  },
  {
   "cell_type": "markdown",
   "metadata": {},
   "source": [
    "## Coverage Metrics (Attributes of Destinations)"
   ]
  },
  {
   "cell_type": "markdown",
   "metadata": {},
   "source": [
    "The metrics above were attributes of the origin points, i.e. they considered spatial access from the perspective of someone accessing amenities. In contrast, the following metrics are attributes of the destination, i.e. they consider spatial access from the perspective of the service provider. In addition to a capacity field, these metrics also require a population variable."
   ]
  },
  {
   "cell_type": "markdown",
   "metadata": {},
   "source": [
    "### Coverage"
   ]
  },
  {
   "cell_type": "markdown",
   "metadata": {},
   "source": [
    "Coverage adds two variables to the destination file: The number of people within the catchment area of a provider and a provider attribute divided by this nearby population count. E.g. you can use this to calculate the funding amount a service provider receives per people within the catchment area of the provider (such as 30 minutes walking time to the provider)."
   ]
  },
  {
   "cell_type": "code",
   "execution_count": null,
   "metadata": {},
   "outputs": [],
   "source": [
    "cov = Coverage(network_type='walk',\n",
    "               transit_matrix_filename='./data/output_data/matrices/simple_demo_matrix.csv',\n",
    "               sources_filename='./data/input_data/sources/hyde_park_tracts.csv',\n",
    "               destinations_filename='./data/input_data/destinations/hyde_park_dests.csv',\n",
    "               source_column_names={'idx' : 'geoid10', 'population': 'Pop2014', 'lat': 'lat', 'lon': 'lon'},\n",
    "               dest_column_names={'idx': 'name', 'capacity': 'target', 'category': 'category', 'lat': 'lat', 'lon': 'lon'}\n",
    "              )"
   ]
  },
  {
   "cell_type": "code",
   "execution_count": 47,
   "metadata": {},
   "outputs": [
    {
     "data": {
      "text/html": [
       "<div>\n",
       "<style scoped>\n",
       "    .dataframe tbody tr th:only-of-type {\n",
       "        vertical-align: middle;\n",
       "    }\n",
       "\n",
       "    .dataframe tbody tr th {\n",
       "        vertical-align: top;\n",
       "    }\n",
       "\n",
       "    .dataframe thead th {\n",
       "        text-align: right;\n",
       "    }\n",
       "</style>\n",
       "<table border=\"1\" class=\"dataframe\">\n",
       "  <thead>\n",
       "    <tr style=\"text-align: right;\">\n",
       "      <th></th>\n",
       "      <th>service_pop</th>\n",
       "      <th>percap_spending</th>\n",
       "      <th>category</th>\n",
       "    </tr>\n",
       "  </thead>\n",
       "  <tbody>\n",
       "    <tr>\n",
       "      <th>Museum of Science and Industry</th>\n",
       "      <td>24861</td>\n",
       "      <td>0.016089</td>\n",
       "      <td>Museum</td>\n",
       "    </tr>\n",
       "    <tr>\n",
       "      <th>DuSable Museum</th>\n",
       "      <td>23134</td>\n",
       "      <td>0.004323</td>\n",
       "      <td>Museum</td>\n",
       "    </tr>\n",
       "    <tr>\n",
       "      <th>Whole Foods</th>\n",
       "      <td>31326</td>\n",
       "      <td>0.001596</td>\n",
       "      <td>Supermarket</td>\n",
       "    </tr>\n",
       "    <tr>\n",
       "      <th>Hyde Park Produce</th>\n",
       "      <td>31326</td>\n",
       "      <td>0.001117</td>\n",
       "      <td>Supermarket</td>\n",
       "    </tr>\n",
       "    <tr>\n",
       "      <th>Jewel Osco</th>\n",
       "      <td>16726</td>\n",
       "      <td>0.004185</td>\n",
       "      <td>Supermarket</td>\n",
       "    </tr>\n",
       "    <tr>\n",
       "      <th>Medici</th>\n",
       "      <td>31326</td>\n",
       "      <td>0.001596</td>\n",
       "      <td>Restaurant</td>\n",
       "    </tr>\n",
       "    <tr>\n",
       "      <th>Valois</th>\n",
       "      <td>31326</td>\n",
       "      <td>0.000958</td>\n",
       "      <td>Restaurant</td>\n",
       "    </tr>\n",
       "  </tbody>\n",
       "</table>\n",
       "</div>"
      ],
      "text/plain": [
       "                                service_pop  percap_spending     category\n",
       "Museum of Science and Industry        24861         0.016089       Museum\n",
       "DuSable Museum                        23134         0.004323       Museum\n",
       "Whole Foods                           31326         0.001596  Supermarket\n",
       "Hyde Park Produce                     31326         0.001117  Supermarket\n",
       "Jewel Osco                            16726         0.004185  Supermarket\n",
       "Medici                                31326         0.001596   Restaurant\n",
       "Valois                                31326         0.000958   Restaurant"
      ]
     },
     "execution_count": 47,
     "metadata": {},
     "output_type": "execute_result"
    }
   ],
   "source": [
    "#Note that the capacity field is not real but only for demo purposes\n",
    "cov.calculate(upper_threshold=1800)"
   ]
  },
  {
   "cell_type": "code",
   "execution_count": 16,
   "metadata": {},
   "outputs": [],
   "source": [
    "cov.model_results.to_csv('./data/output_data/models/simple_demo_cov.csv')"
   ]
  },
  {
   "cell_type": "markdown",
   "metadata": {},
   "source": [
    "### Two-Stage Floating Catchment Area (TSFCA)"
   ]
  },
  {
   "cell_type": "markdown",
   "metadata": {},
   "source": [
    "TSFCA Models are a type of gravity model popularized by Luo and Wang in 2003 to estimate spatial access gaps to primary care. They are calculated in two stages (using the primary care example): In a first stage, the ratio of doctors to the nearby population is calculated for every provider. In the 2nd stage, these ratios are summed for every point of origin (such as a tract centroid) within a travel threshold. In other words, the ratio of doctors to people is first calculated for the catchment areas of doctors (1st stage) and then summed for the catchment areas around a home or work location (2nd stage). The field names below are for a case that calculates per capita spending."
   ]
  },
  {
   "cell_type": "code",
   "execution_count": null,
   "metadata": {},
   "outputs": [],
   "source": [
    "tsfca = TSFCA(network_type='walk',\n",
    "              transit_matrix_filename='./data/output_data/matrices/simple_demo_matrix.csv',\n",
    "              sources_filename='./data/input_data/sources/hyde_park_tracts.csv',\n",
    "              destinations_filename='./data/input_data/destinations/hyde_park_dests.csv',\n",
    "              source_column_names={'idx' : 'geoid10', 'population': 'Pop2014', 'lat': 'lat', 'lon': 'lon'},\n",
    "              dest_column_names={'idx': 'name', 'capacity': 'target', 'category': 'category', 'lat': 'lat', 'lon': 'lon'}\n",
    "             )"
   ]
  },
  {
   "cell_type": "code",
   "execution_count": 49,
   "metadata": {},
   "outputs": [
    {
     "data": {
      "text/html": [
       "<div>\n",
       "<style scoped>\n",
       "    .dataframe tbody tr th:only-of-type {\n",
       "        vertical-align: middle;\n",
       "    }\n",
       "\n",
       "    .dataframe tbody tr th {\n",
       "        vertical-align: top;\n",
       "    }\n",
       "\n",
       "    .dataframe thead th {\n",
       "        text-align: right;\n",
       "    }\n",
       "</style>\n",
       "<table border=\"1\" class=\"dataframe\">\n",
       "  <thead>\n",
       "    <tr style=\"text-align: right;\">\n",
       "      <th></th>\n",
       "      <th>percap_spend_Museum</th>\n",
       "      <th>percap_spend_Supermarket</th>\n",
       "      <th>percap_spend_Restaurant</th>\n",
       "      <th>percap_spend_all_categories</th>\n",
       "    </tr>\n",
       "  </thead>\n",
       "  <tbody>\n",
       "    <tr>\n",
       "      <th>17031836300</th>\n",
       "      <td>0.004323</td>\n",
       "      <td>0.006899</td>\n",
       "      <td>0.002554</td>\n",
       "      <td>0.013775</td>\n",
       "    </tr>\n",
       "    <tr>\n",
       "      <th>17031836200</th>\n",
       "      <td>0.020412</td>\n",
       "      <td>0.006899</td>\n",
       "      <td>0.002554</td>\n",
       "      <td>0.029864</td>\n",
       "    </tr>\n",
       "    <tr>\n",
       "      <th>17031410100</th>\n",
       "      <td>0.016089</td>\n",
       "      <td>0.002713</td>\n",
       "      <td>0.002554</td>\n",
       "      <td>0.021357</td>\n",
       "    </tr>\n",
       "    <tr>\n",
       "      <th>17031410200</th>\n",
       "      <td>0.020412</td>\n",
       "      <td>0.002713</td>\n",
       "      <td>0.002554</td>\n",
       "      <td>0.025679</td>\n",
       "    </tr>\n",
       "    <tr>\n",
       "      <th>17031410500</th>\n",
       "      <td>0.020412</td>\n",
       "      <td>0.006899</td>\n",
       "      <td>0.002554</td>\n",
       "      <td>0.029864</td>\n",
       "    </tr>\n",
       "    <tr>\n",
       "      <th>17031410600</th>\n",
       "      <td>0.020412</td>\n",
       "      <td>0.006899</td>\n",
       "      <td>0.002554</td>\n",
       "      <td>0.029864</td>\n",
       "    </tr>\n",
       "    <tr>\n",
       "      <th>17031411100</th>\n",
       "      <td>0.020412</td>\n",
       "      <td>0.006899</td>\n",
       "      <td>0.002554</td>\n",
       "      <td>0.029864</td>\n",
       "    </tr>\n",
       "    <tr>\n",
       "      <th>17031410700</th>\n",
       "      <td>0.020412</td>\n",
       "      <td>0.002713</td>\n",
       "      <td>0.002554</td>\n",
       "      <td>0.025679</td>\n",
       "    </tr>\n",
       "    <tr>\n",
       "      <th>17031410800</th>\n",
       "      <td>0.020412</td>\n",
       "      <td>0.002713</td>\n",
       "      <td>0.002554</td>\n",
       "      <td>0.025679</td>\n",
       "    </tr>\n",
       "    <tr>\n",
       "      <th>17031410900</th>\n",
       "      <td>0.016089</td>\n",
       "      <td>0.002713</td>\n",
       "      <td>0.002554</td>\n",
       "      <td>0.021357</td>\n",
       "    </tr>\n",
       "    <tr>\n",
       "      <th>17031411000</th>\n",
       "      <td>0.016089</td>\n",
       "      <td>0.002713</td>\n",
       "      <td>0.002554</td>\n",
       "      <td>0.021357</td>\n",
       "    </tr>\n",
       "    <tr>\n",
       "      <th>17031411200</th>\n",
       "      <td>0.020412</td>\n",
       "      <td>0.006899</td>\n",
       "      <td>0.002554</td>\n",
       "      <td>0.029864</td>\n",
       "    </tr>\n",
       "  </tbody>\n",
       "</table>\n",
       "</div>"
      ],
      "text/plain": [
       "             percap_spend_Museum  percap_spend_Supermarket  \\\n",
       "17031836300             0.004323                  0.006899   \n",
       "17031836200             0.020412                  0.006899   \n",
       "17031410100             0.016089                  0.002713   \n",
       "17031410200             0.020412                  0.002713   \n",
       "17031410500             0.020412                  0.006899   \n",
       "17031410600             0.020412                  0.006899   \n",
       "17031411100             0.020412                  0.006899   \n",
       "17031410700             0.020412                  0.002713   \n",
       "17031410800             0.020412                  0.002713   \n",
       "17031410900             0.016089                  0.002713   \n",
       "17031411000             0.016089                  0.002713   \n",
       "17031411200             0.020412                  0.006899   \n",
       "\n",
       "             percap_spend_Restaurant  percap_spend_all_categories  \n",
       "17031836300                 0.002554                     0.013775  \n",
       "17031836200                 0.002554                     0.029864  \n",
       "17031410100                 0.002554                     0.021357  \n",
       "17031410200                 0.002554                     0.025679  \n",
       "17031410500                 0.002554                     0.029864  \n",
       "17031410600                 0.002554                     0.029864  \n",
       "17031411100                 0.002554                     0.029864  \n",
       "17031410700                 0.002554                     0.025679  \n",
       "17031410800                 0.002554                     0.025679  \n",
       "17031410900                 0.002554                     0.021357  \n",
       "17031411000                 0.002554                     0.021357  \n",
       "17031411200                 0.002554                     0.029864  "
      ]
     },
     "execution_count": 49,
     "metadata": {},
     "output_type": "execute_result"
    }
   ],
   "source": [
    "#Note that the capacity field is not real but only for demo purposes\n",
    "tsfca.calculate(upper_threshold=1800)"
   ]
  },
  {
   "cell_type": "code",
   "execution_count": 11,
   "metadata": {},
   "outputs": [],
   "source": [
    "tsfca.model_results.to_csv('./data/output_data/models/simple_demo_tsfca.csv')"
   ]
  }
 ],
 "metadata": {
  "kernelspec": {
   "display_name": "Python 3",
   "language": "python",
   "name": "python3"
  },
  "language_info": {
   "codemirror_mode": {
    "name": "ipython",
    "version": 3
   },
   "file_extension": ".py",
   "mimetype": "text/x-python",
   "name": "python",
   "nbconvert_exporter": "python",
   "pygments_lexer": "ipython3",
   "version": "3.7.4"
  }
 },
 "nbformat": 4,
 "nbformat_minor": 2
}
