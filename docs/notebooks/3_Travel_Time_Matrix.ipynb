{
 "cells": [
  {
   "cell_type": "markdown",
   "metadata": {},
   "source": [
    "# Travel Time Matrix DEMO"
   ]
  },
  {
   "cell_type": "markdown",
   "metadata": {},
   "source": [
    "Authors: [Irene Farah](https://www.linkedin.com/in/imfarah/),  [Julia Koschinsky](https://www.linkedin.com/in/julia-koschinsky-657599b1/), [Logan Noel](https://www.linkedin.com/in/lmnoel/).   \n",
    "Contact: [Julia Koschinsky](mailto:jkoschinsky@uchicago.edu)  \n",
    "\n",
    "Research assistance of [Shiv Agrawal](http://simonlab.uchicago.edu/people/ShivAgrawal.html), [Caitlyn Tien](https://www.linkedin.com/in/caitlyn-tien-0b784b161/) and [Richard Lu](https://www.linkedin.com/in/richard-lu-576874155/) is gratefully acknowledged.\n",
    "\n",
    "Center for Spatial Data Science  \n",
    "University of Chicago  \n",
    "\n",
    "July 30, 2019"
   ]
  },
  {
   "cell_type": "markdown",
   "metadata": {},
   "source": [
    "**_Input Requirements_**  \n",
    "\n",
    "In order to construct a travel time matrix, the csv table should contain **ID, latitude, longitude** for the origins and destinations. Note that destinations need to be constrained to the spatial extent of the origins."
   ]
  },
  {
   "cell_type": "code",
   "execution_count": 1,
   "metadata": {},
   "outputs": [],
   "source": [
    "from spatial_access.p2p import *"
   ]
  },
  {
   "cell_type": "code",
   "execution_count": null,
   "metadata": {},
   "outputs": [],
   "source": [
    "cd ../.."
   ]
  },
  {
   "cell_type": "code",
   "execution_count": 4,
   "metadata": {},
   "outputs": [],
   "source": [
    "%matplotlib inline"
   ]
  },
  {
   "cell_type": "markdown",
   "metadata": {},
   "source": [
    "**View structure of data example: Health Facilities in Chicago.**  \n",
    "Health Facilities Data: http://makosak.github.io/chihealthaccess/index.html"
   ]
  },
  {
   "cell_type": "markdown",
   "metadata": {},
   "source": [
    "5 sources (tract centroids):"
   ]
  },
  {
   "cell_type": "code",
   "execution_count": 5,
   "metadata": {},
   "outputs": [
    {
     "data": {
      "text/html": [
       "<div>\n",
       "<style scoped>\n",
       "    .dataframe tbody tr th:only-of-type {\n",
       "        vertical-align: middle;\n",
       "    }\n",
       "\n",
       "    .dataframe tbody tr th {\n",
       "        vertical-align: top;\n",
       "    }\n",
       "\n",
       "    .dataframe thead th {\n",
       "        text-align: right;\n",
       "    }\n",
       "</style>\n",
       "<table border=\"1\" class=\"dataframe\">\n",
       "  <thead>\n",
       "    <tr style=\"text-align: right;\">\n",
       "      <th></th>\n",
       "      <th>geoid10</th>\n",
       "      <th>lon</th>\n",
       "      <th>lat</th>\n",
       "      <th>Pop2014</th>\n",
       "      <th>Pov14</th>\n",
       "      <th>community</th>\n",
       "    </tr>\n",
       "  </thead>\n",
       "  <tbody>\n",
       "    <tr>\n",
       "      <th>0</th>\n",
       "      <td>17031842400</td>\n",
       "      <td>-87.630040</td>\n",
       "      <td>41.742475</td>\n",
       "      <td>5157</td>\n",
       "      <td>769</td>\n",
       "      <td>44</td>\n",
       "    </tr>\n",
       "    <tr>\n",
       "      <th>1</th>\n",
       "      <td>17031840300</td>\n",
       "      <td>-87.681882</td>\n",
       "      <td>41.832094</td>\n",
       "      <td>5881</td>\n",
       "      <td>1021</td>\n",
       "      <td>59</td>\n",
       "    </tr>\n",
       "    <tr>\n",
       "      <th>2</th>\n",
       "      <td>17031841100</td>\n",
       "      <td>-87.635098</td>\n",
       "      <td>41.851006</td>\n",
       "      <td>3363</td>\n",
       "      <td>2742</td>\n",
       "      <td>34</td>\n",
       "    </tr>\n",
       "    <tr>\n",
       "      <th>3</th>\n",
       "      <td>17031841200</td>\n",
       "      <td>-87.683342</td>\n",
       "      <td>41.855562</td>\n",
       "      <td>3710</td>\n",
       "      <td>1819</td>\n",
       "      <td>31</td>\n",
       "    </tr>\n",
       "    <tr>\n",
       "      <th>4</th>\n",
       "      <td>17031838200</td>\n",
       "      <td>-87.675079</td>\n",
       "      <td>41.870416</td>\n",
       "      <td>3296</td>\n",
       "      <td>361</td>\n",
       "      <td>28</td>\n",
       "    </tr>\n",
       "  </tbody>\n",
       "</table>\n",
       "</div>"
      ],
      "text/plain": [
       "       geoid10        lon        lat  Pop2014  Pov14  community\n",
       "0  17031842400 -87.630040  41.742475     5157    769         44\n",
       "1  17031840300 -87.681882  41.832094     5881   1021         59\n",
       "2  17031841100 -87.635098  41.851006     3363   2742         34\n",
       "3  17031841200 -87.683342  41.855562     3710   1819         31\n",
       "4  17031838200 -87.675079  41.870416     3296    361         28"
      ]
     },
     "execution_count": 5,
     "metadata": {},
     "output_type": "execute_result"
    }
   ],
   "source": [
    "df_sources = pd.read_csv('./data/input_data/sources/tracts2010.csv')\n",
    "df_sources.head()"
   ]
  },
  {
   "cell_type": "markdown",
   "metadata": {},
   "source": [
    "5 destinations (health facilities):"
   ]
  },
  {
   "cell_type": "code",
   "execution_count": 6,
   "metadata": {},
   "outputs": [
    {
     "data": {
      "text/html": [
       "<div>\n",
       "<style scoped>\n",
       "    .dataframe tbody tr th:only-of-type {\n",
       "        vertical-align: middle;\n",
       "    }\n",
       "\n",
       "    .dataframe tbody tr th {\n",
       "        vertical-align: top;\n",
       "    }\n",
       "\n",
       "    .dataframe thead th {\n",
       "        text-align: right;\n",
       "    }\n",
       "</style>\n",
       "<table border=\"1\" class=\"dataframe\">\n",
       "  <thead>\n",
       "    <tr style=\"text-align: right;\">\n",
       "      <th></th>\n",
       "      <th>ID</th>\n",
       "      <th>Facility</th>\n",
       "      <th>lat</th>\n",
       "      <th>lon</th>\n",
       "      <th>Type</th>\n",
       "      <th>target</th>\n",
       "      <th>category</th>\n",
       "      <th>community</th>\n",
       "    </tr>\n",
       "  </thead>\n",
       "  <tbody>\n",
       "    <tr>\n",
       "      <th>0</th>\n",
       "      <td>1</td>\n",
       "      <td>American Indian Health Service of Chicago, Inc.</td>\n",
       "      <td>41.956676</td>\n",
       "      <td>-87.651879</td>\n",
       "      <td>5</td>\n",
       "      <td>127000</td>\n",
       "      <td>Other Health Providers</td>\n",
       "      <td>3</td>\n",
       "    </tr>\n",
       "    <tr>\n",
       "      <th>1</th>\n",
       "      <td>2</td>\n",
       "      <td>Hamdard Center for Health and Human Services</td>\n",
       "      <td>41.997852</td>\n",
       "      <td>-87.669535</td>\n",
       "      <td>5</td>\n",
       "      <td>190000</td>\n",
       "      <td>Other Health Providers</td>\n",
       "      <td>77</td>\n",
       "    </tr>\n",
       "    <tr>\n",
       "      <th>2</th>\n",
       "      <td>3</td>\n",
       "      <td>Infant Welfare Society of Chicago</td>\n",
       "      <td>41.924904</td>\n",
       "      <td>-87.717270</td>\n",
       "      <td>5</td>\n",
       "      <td>137000</td>\n",
       "      <td>Other Health Providers</td>\n",
       "      <td>22</td>\n",
       "    </tr>\n",
       "    <tr>\n",
       "      <th>3</th>\n",
       "      <td>4</td>\n",
       "      <td>Mercy Family - Henry Booth House Family Health...</td>\n",
       "      <td>41.841694</td>\n",
       "      <td>-87.624790</td>\n",
       "      <td>5</td>\n",
       "      <td>159000</td>\n",
       "      <td>Other Health Providers</td>\n",
       "      <td>35</td>\n",
       "    </tr>\n",
       "    <tr>\n",
       "      <th>4</th>\n",
       "      <td>6</td>\n",
       "      <td>Cook County - Dr. Jorge Prieto Health Center</td>\n",
       "      <td>41.847143</td>\n",
       "      <td>-87.724975</td>\n",
       "      <td>5</td>\n",
       "      <td>166000</td>\n",
       "      <td>Other Health Providers</td>\n",
       "      <td>30</td>\n",
       "    </tr>\n",
       "  </tbody>\n",
       "</table>\n",
       "</div>"
      ],
      "text/plain": [
       "   ID                                           Facility        lat  \\\n",
       "0   1    American Indian Health Service of Chicago, Inc.  41.956676   \n",
       "1   2       Hamdard Center for Health and Human Services  41.997852   \n",
       "2   3                  Infant Welfare Society of Chicago  41.924904   \n",
       "3   4  Mercy Family - Henry Booth House Family Health...  41.841694   \n",
       "4   6       Cook County - Dr. Jorge Prieto Health Center  41.847143   \n",
       "\n",
       "         lon  Type  target                category  community  \n",
       "0 -87.651879     5  127000  Other Health Providers          3  \n",
       "1 -87.669535     5  190000  Other Health Providers         77  \n",
       "2 -87.717270     5  137000  Other Health Providers         22  \n",
       "3 -87.624790     5  159000  Other Health Providers         35  \n",
       "4 -87.724975     5  166000  Other Health Providers         30  "
      ]
     },
     "execution_count": 6,
     "metadata": {},
     "output_type": "execute_result"
    }
   ],
   "source": [
    "df_dests = pd.read_csv('./data/input_data/destinations/health_chicago.csv')\n",
    "df_dests.head()"
   ]
  },
  {
   "cell_type": "markdown",
   "metadata": {},
   "source": [
    "### Travel Time Matrices  \n",
    "\n",
    "**Specifications for the asymmetric and symmetric distance matrices:**  \n",
    "\n",
    "- **network_type**: can be walk, drive, bike, or otp (otp allows you to read in an external file from OpenTripPlanner)\n",
    "- **primary_input**: sources file\n",
    "- **secondary_input**: destinations file (omit to calculate an NxN matrix on the primary_input)\n",
    "- **read_from_file**: tmx or csv filename (read in external matrix files)\n",
    "- **primary_hints**: dictionary that contains column names (lat/lon/ID)\n",
    "- **secondary_hints**: dictionary that contains column names (lat/lon/ID)\n",
    "- **debug**: if set to `True` enables to see more detailed logging output\n",
    "- **configs**: defaults to None, else pass in an instance of **Configs.py** to override default values.  \n",
    "    The following arguments in **configs** can be changed:  \n",
    "    - walk_speed: numeric (km/hr). Default is set to 5 km/hr.\n",
    "    - bike_speed: numeric (km/hr). Default is set to 15.5 km/hr.\n",
    "    - default_drive_speed: numeric (km/hr). Default is set to 40 km/hr.\n",
    "    - walk_node_penalty:  numeric (seconds). Default is set to 0.\n",
    "    - bike_node_penalty:  numeric (seconds). Default is set to 0.\n",
    "    - drive_node_penalty:  numeric (seconds). Default is set to 4.\n",
    "    - speed_limit_dict: dictionary {edge type (string) : speed in km/hr}\n",
    "    - use_meters: if `True` output will be in meters. If `False`, output will be in seconds.\n",
    "    - disable_area_threshold: enables computation for areas exceeding the bounding box area constraint (set to 5,000 squared km in NetworkInterface.py).\n",
    "    - require_extended_range: If true, use unsigned integers instead of unsigned shorts for value type to increase max range.\n",
    "    - epsilon: factor by which to increase the requested bounding box. Increasing epsilon may result in increased accuracy for points at the edge of the bounding box, but will increase computation times. Default is set to 0.05."
   ]
  },
  {
   "cell_type": "markdown",
   "metadata": {},
   "source": [
    "## Asymmetric Travel Time Matrix \n",
    "---\n",
    "You can create an asymmetric matrix from source to destination points (takes ~ 20 min for this example). This is useful when you only need to generate results once (as opposed to repeatedly for the same origins but different destinations)."
   ]
  },
  {
   "cell_type": "markdown",
   "metadata": {},
   "source": [
    "**Please map your latitude and longitude before reading them in to make sure they are correct. E.g. if incorrect lat-long values are far outside of your actual spatial extent, the results will take an excessively long time to compute or stall.**"
   ]
  },
  {
   "cell_type": "markdown",
   "metadata": {},
   "source": [
    "**WALKING**"
   ]
  },
  {
   "cell_type": "code",
   "execution_count": 19,
   "metadata": {
    "code_folding": [],
    "collapsed": true
   },
   "outputs": [
    {
     "name": "stderr",
     "output_type": "stream",
     "text": [
      "INFO:spatial_access.p2p:Approx area of bounding box: 2,445.05 sq. km\n",
      "INFO:spatial_access.p2p:All operations completed in 14.79 seconds\n"
     ]
    }
   ],
   "source": [
    "# Calculate asymmetric distance matrix for walking (takes ~6 minutes to run) \n",
    "w_asym_mat = TransitMatrix('walk', \n",
    "                           primary_input='./data/input_data/sources/tracts2010.csv',\n",
    "                           secondary_input='./data/input_data/destinations/health_chicago.csv',\n",
    "                           primary_hints={'idx' : 'geoid10', 'population': 'skip', 'lat': 'lat', 'lon': 'lon'},\n",
    "                           secondary_hints={'idx': 'ID', 'capacity': 'skip', 'category': 'category', 'lat': 'lat', 'lon': 'lon'})\n",
    "                       \n",
    "w_asym_mat.process()"
   ]
  },
  {
   "cell_type": "code",
   "execution_count": null,
   "metadata": {},
   "outputs": [],
   "source": [
    "#Saved as walk_asym_health_tracts.csv\n",
    "w_asym_mat.write_csv(outfile = \"./data/output_data/matrices/walk_asym_health_tracts.csv\")"
   ]
  },
  {
   "cell_type": "code",
   "execution_count": null,
   "metadata": {},
   "outputs": [],
   "source": [
    "# Saved as walk_asym_health_tracts.tmx\n",
    "w_asym_mat.write_tmx(outfile = \"./data/output_data/matrices/walk_asym_health_tracts.tmx\")"
   ]
  },
  {
   "cell_type": "markdown",
   "metadata": {},
   "source": [
    "**Example of overriding default Configs \n",
    "\n",
    "Here we are disabling the large bounding box constraint and lowering the drive speed. We are keeping the default output of the matrix set to travel times as opposed to distances (by setting meters to false). If you want to work with distances instead of travel times, set this parameter to True."
   ]
  },
  {
   "cell_type": "code",
   "execution_count": null,
   "metadata": {},
   "outputs": [],
   "source": [
    "from spatial_access.Configs import Configs  \n",
    "custom_config = Configs()\n",
    "custom_config.disable_area_threshold=True  \n",
    "custom_config.default_drive_speed=35\n",
    "custom_config.use_meters=False\n",
    "\n",
    "# then run:\n",
    "w_asym_mat = TransitMatrix('walk',primary_input='./data/input_data/sources/tracts2010.csv',\n",
    "                           secondary_input='./data/input_data/destinations/health_chicago.csv',\n",
    "                           primary_hints={'idx' : 'geoid10', 'population': 'skip', 'lat': 'lat', 'lon': 'lon'},\n",
    "                           secondary_hints={'idx': 'ID', 'capacity': 'skip', 'category': 'category', 'lat': 'lat', 'lon': 'lon'},\n",
    "                           configs=custom_config)\n",
    "w_asym_mat.process()\n",
    "\n",
    "#make sure you add configs=custom_config in the last line or this won't run"
   ]
  },
  {
   "cell_type": "markdown",
   "metadata": {},
   "source": [
    "**DRIVING**"
   ]
  },
  {
   "cell_type": "code",
   "execution_count": null,
   "metadata": {
    "code_folding": []
   },
   "outputs": [],
   "source": [
    "# Calculate asymmetric distance matrix for driving (takes ~1.5 minutes to run) \n",
    "d_asym_mat = TransitMatrix('drive', \n",
    "                           primary_input='./data/input_data/sources/tracts2010.csv', \n",
    "                           secondary_input='./data/input_data/destinations/health_chicago.csv',\n",
    "                           primary_hints={'idx' : 'geoid10', 'population': 'skip', 'lat': 'lat', 'lon': 'lon'},\n",
    "                           secondary_hints={'idx': 'ID', 'capacity': 'skip', 'category': 'category', 'lat': 'lat', 'lon': 'lon'})\n",
    "\n",
    "d_asym_mat.process()"
   ]
  },
  {
   "cell_type": "code",
   "execution_count": null,
   "metadata": {},
   "outputs": [],
   "source": [
    "#Saved as drive_asym_health_tracts.csv\n",
    "d_asym_mat.write_csv(outfile = \"./data/output_data/matrices/drive_asym_health_tracts.csv\")"
   ]
  },
  {
   "cell_type": "code",
   "execution_count": null,
   "metadata": {},
   "outputs": [],
   "source": [
    "# Saved as drive_asym_health_tracts.tmx\n",
    "d_asym_mat.write_tmx(outfile = \"./data/output_data/matrices/drive_asym_health_tracts.tmx\")"
   ]
  },
  {
   "cell_type": "markdown",
   "metadata": {},
   "source": [
    "----\n",
    "\n",
    "## Symmetric Matrix\n",
    "\n",
    "You can also create a symmetric travel time matrix, e.g. from each tract to all the other tracts (in this case, a 801 x 801 matrix). Then, you can merge destinations to this matrix using shared IDs or spatial joins in a GIS, GeoDa or R to create an asymmetric matrix as above. If you have several different destinations for the same spatial extent (or want to run simulations), the advantage of merging them with a symmetric matrix is that you only have to compute the travel times once.\n"
   ]
  },
  {
   "cell_type": "markdown",
   "metadata": {},
   "source": [
    "**WALKING**"
   ]
  },
  {
   "cell_type": "code",
   "execution_count": null,
   "metadata": {},
   "outputs": [],
   "source": [
    "# Specify walking distance matrix (takes ~3 min to run) \n",
    "w_sym_mat = TransitMatrix('walk', \n",
    "                           primary_input='./data/output_data/matrices/walk_asym_health_tracts.csv',\n",
    "                           primary_hints={'idx' : 'geoid10', 'population': 'skip', 'lat': 'lat', 'lon': 'lon'})\n",
    "# Run process\n",
    "w_sym_mat.process()"
   ]
  },
  {
   "cell_type": "code",
   "execution_count": null,
   "metadata": {},
   "outputs": [],
   "source": [
    "# Saved as walk_sym_health_tracts.csv\n",
    "w_sym_mat.write_csv(outfile = \"./data/output_data/matrices/walk_sym_health_tracts.csv\")"
   ]
  },
  {
   "cell_type": "code",
   "execution_count": null,
   "metadata": {},
   "outputs": [],
   "source": [
    "# Saved as walk_sym_health_tracts.tmx\n",
    "w_sym_mat.write_tmx(outfile = \"./data/output_data/matrices/walk_sym_health_tracts.tmx\")"
   ]
  },
  {
   "cell_type": "markdown",
   "metadata": {},
   "source": [
    "**DRIVING**"
   ]
  },
  {
   "cell_type": "code",
   "execution_count": null,
   "metadata": {},
   "outputs": [],
   "source": [
    "# Specify driving distance matrix (takes ~1.5 minute to run) \n",
    "d_sym_mat = TransitMatrix('drive', \n",
    "                           primary_input='/Users/whlu/spatial_access/data/input_data/tracts2010.csv',\n",
    "                           primary_hints={'idx' : 'geoid10', 'population': 'skip', 'lat': 'lat', 'lon': 'lon'})\n",
    "\n",
    "# Run process. For driving, p2p queries OSM to fetch the street network and then output the shortest path transit matrix\n",
    "d_sym_mat.process()\n"
   ]
  },
  {
   "cell_type": "code",
   "execution_count": null,
   "metadata": {},
   "outputs": [],
   "source": [
    "# Saved as drive_sym_health_tracts.csv\n",
    "d_sym_mat.write_csv(outfile = \"./data/output_data/matrices/drive_sym_health_tracts.csv\")"
   ]
  },
  {
   "cell_type": "code",
   "execution_count": null,
   "metadata": {},
   "outputs": [],
   "source": [
    "# Saved as drive_sym_health_tracts.tmx\n",
    "d_sym_mat.write_tmx(outfile = \"./data/output_data/matrices/drive_sym_health_tracts.tmx\")"
   ]
  },
  {
   "cell_type": "markdown",
   "metadata": {},
   "source": [
    "#### Spatial Join (snap destinations to origins)"
   ]
  },
  {
   "cell_type": "markdown",
   "metadata": {},
   "source": [
    "Now you can snap the destination points to the areas of origin. Before you do this, map origins and destinations to understand how the two layers are related: e.g., when points fall on the boundary of an area, which area they are assigned to can be arbitrary. If destinations fall within areas, you can use a within function that joins the destinations to area it falls into. If origins and destinations share a geoID, you can also merge the data that way.\n",
    "The following image shows that, in this case, we can safely run a function that assigns each destination point to the area that surrounds it. "
   ]
  },
  {
   "cell_type": "markdown",
   "metadata": {},
   "source": [
    "<img src=\"figures/snap.png\" width=\"500\" title=\"Optional title\">"
   ]
  },
  {
   "cell_type": "markdown",
   "metadata": {},
   "source": [
    "**Spatial join of health facilities and travel time matrix**\n",
    "\n",
    "We need to join the health facilities with the travel time matrix generated before. This will generate an asymmetric matrix with the travel times from all tracts in Chicago to the health facility destinations."
   ]
  },
  {
   "cell_type": "code",
   "execution_count": 47,
   "metadata": {
    "code_folding": [],
    "collapsed": true
   },
   "outputs": [],
   "source": [
    "# Read destination files to join with boundaries \n",
    "health_gdf = gpd.read_file('./data/input_data/destinations/health_chicago.shp')\n",
    "health_gdf.head()\n",
    "#Use symmetric matrix calculated above or read your previously saved results:\n",
    "sym_walk=pd.read_csv('./data/matrices/walk_sym_health_tracts.csv')\n",
    "\n",
    "# Read boundaries files \n",
    "boundaries_gdf = gpd.read_file('./data/input_data/sources/tracts2010.shp')\n",
    "\n",
    "# Rename the ID name in order to match both data frames. \n",
    "sym_walk= sym_walk.rename(index=str, columns={\"Unnamed: 0\": \"geoid10\"})\n",
    "\n",
    "\n",
    "# Spatial join of amenities within each area of analysis \n",
    "#It drops values outside of the tracts shapefile. From 199 to 182 datapoints.\n",
    "s_join = gpd.sjoin(health_gdf, boundaries_gdf, how='inner', op='within')\n",
    "\n",
    "# Convert geopanda dataframe to non-spatial dataframe to join \n",
    "jb_df = pd.DataFrame(s_join)\n",
    "\n",
    "\n",
    "# Make sure the id is of the same data type in both data frames.\n",
    "# sym_walk.dtypes\n",
    "# jb_df.dtypes\n",
    "jb_df.geoid10=jb_df.geoid10.astype(int)\n",
    "jb_df=pd.DataFrame(jb_df['geoid10'])\n",
    "\n",
    "# Join the symmetric matrix with the spatially joined data (with geoid10 id)\n",
    "j_asym=pd.merge(sym_walk, jb_df, left_on='geoid10', right_on='geoid10', how='left')\n",
    "\n",
    "j_asym.to_csv('./data/output_data/matrices/walk_asym_health_tracts_join.csv')"
   ]
  },
  {
   "cell_type": "code",
   "execution_count": 48,
   "metadata": {},
   "outputs": [
    {
     "data": {
      "text/html": [
       "<div>\n",
       "<style scoped>\n",
       "    .dataframe tbody tr th:only-of-type {\n",
       "        vertical-align: middle;\n",
       "    }\n",
       "\n",
       "    .dataframe tbody tr th {\n",
       "        vertical-align: top;\n",
       "    }\n",
       "\n",
       "    .dataframe thead th {\n",
       "        text-align: right;\n",
       "    }\n",
       "</style>\n",
       "<table border=\"1\" class=\"dataframe\">\n",
       "  <thead>\n",
       "    <tr style=\"text-align: right;\">\n",
       "      <th></th>\n",
       "      <th>geoid10</th>\n",
       "      <th>1</th>\n",
       "      <th>2</th>\n",
       "      <th>3</th>\n",
       "      <th>4</th>\n",
       "      <th>5</th>\n",
       "      <th>6</th>\n",
       "      <th>7</th>\n",
       "      <th>8</th>\n",
       "      <th>9</th>\n",
       "      <th>...</th>\n",
       "      <th>793</th>\n",
       "      <th>794</th>\n",
       "      <th>795</th>\n",
       "      <th>796</th>\n",
       "      <th>797</th>\n",
       "      <th>798</th>\n",
       "      <th>799</th>\n",
       "      <th>800</th>\n",
       "      <th>801</th>\n",
       "      <th>Unnamed: 802</th>\n",
       "    </tr>\n",
       "  </thead>\n",
       "  <tbody>\n",
       "    <tr>\n",
       "      <th>0</th>\n",
       "      <td>1</td>\n",
       "      <td>0</td>\n",
       "      <td>9881</td>\n",
       "      <td>9106</td>\n",
       "      <td>11593</td>\n",
       "      <td>12167</td>\n",
       "      <td>8364</td>\n",
       "      <td>7089</td>\n",
       "      <td>27241</td>\n",
       "      <td>7104</td>\n",
       "      <td>...</td>\n",
       "      <td>9824</td>\n",
       "      <td>15701</td>\n",
       "      <td>16077</td>\n",
       "      <td>16334</td>\n",
       "      <td>15570</td>\n",
       "      <td>15201</td>\n",
       "      <td>22104</td>\n",
       "      <td>13666</td>\n",
       "      <td>8169</td>\n",
       "      <td>NaN</td>\n",
       "    </tr>\n",
       "    <tr>\n",
       "      <th>1</th>\n",
       "      <td>2</td>\n",
       "      <td>9881</td>\n",
       "      <td>0</td>\n",
       "      <td>3326</td>\n",
       "      <td>2115</td>\n",
       "      <td>3592</td>\n",
       "      <td>6092</td>\n",
       "      <td>14890</td>\n",
       "      <td>18531</td>\n",
       "      <td>16327</td>\n",
       "      <td>...</td>\n",
       "      <td>4472</td>\n",
       "      <td>9291</td>\n",
       "      <td>8947</td>\n",
       "      <td>8756</td>\n",
       "      <td>8394</td>\n",
       "      <td>8751</td>\n",
       "      <td>13449</td>\n",
       "      <td>3924</td>\n",
       "      <td>4295</td>\n",
       "      <td>NaN</td>\n",
       "    </tr>\n",
       "    <tr>\n",
       "      <th>2</th>\n",
       "      <td>3</td>\n",
       "      <td>9106</td>\n",
       "      <td>3326</td>\n",
       "      <td>0</td>\n",
       "      <td>3297</td>\n",
       "      <td>3777</td>\n",
       "      <td>9084</td>\n",
       "      <td>15494</td>\n",
       "      <td>18504</td>\n",
       "      <td>15926</td>\n",
       "      <td>...</td>\n",
       "      <td>7464</td>\n",
       "      <td>6881</td>\n",
       "      <td>7245</td>\n",
       "      <td>7437</td>\n",
       "      <td>6673</td>\n",
       "      <td>6381</td>\n",
       "      <td>13367</td>\n",
       "      <td>5388</td>\n",
       "      <td>7287</td>\n",
       "      <td>NaN</td>\n",
       "    </tr>\n",
       "    <tr>\n",
       "      <th>3</th>\n",
       "      <td>4</td>\n",
       "      <td>11593</td>\n",
       "      <td>2115</td>\n",
       "      <td>3297</td>\n",
       "      <td>0</td>\n",
       "      <td>1670</td>\n",
       "      <td>7905</td>\n",
       "      <td>16709</td>\n",
       "      <td>16992</td>\n",
       "      <td>18146</td>\n",
       "      <td>...</td>\n",
       "      <td>6285</td>\n",
       "      <td>7568</td>\n",
       "      <td>7205</td>\n",
       "      <td>7014</td>\n",
       "      <td>6652</td>\n",
       "      <td>7028</td>\n",
       "      <td>11910</td>\n",
       "      <td>2482</td>\n",
       "      <td>6108</td>\n",
       "      <td>NaN</td>\n",
       "    </tr>\n",
       "    <tr>\n",
       "      <th>4</th>\n",
       "      <td>5</td>\n",
       "      <td>12167</td>\n",
       "      <td>3592</td>\n",
       "      <td>3777</td>\n",
       "      <td>1670</td>\n",
       "      <td>0</td>\n",
       "      <td>9382</td>\n",
       "      <td>17433</td>\n",
       "      <td>15746</td>\n",
       "      <td>18870</td>\n",
       "      <td>...</td>\n",
       "      <td>7762</td>\n",
       "      <td>6141</td>\n",
       "      <td>5778</td>\n",
       "      <td>5587</td>\n",
       "      <td>5225</td>\n",
       "      <td>5601</td>\n",
       "      <td>10609</td>\n",
       "      <td>2939</td>\n",
       "      <td>7585</td>\n",
       "      <td>NaN</td>\n",
       "    </tr>\n",
       "  </tbody>\n",
       "</table>\n",
       "<p>5 rows × 803 columns</p>\n",
       "</div>"
      ],
      "text/plain": [
       "   geoid10      1     2     3      4      5     6      7      8      9  ...  \\\n",
       "0        1      0  9881  9106  11593  12167  8364   7089  27241   7104  ...   \n",
       "1        2   9881     0  3326   2115   3592  6092  14890  18531  16327  ...   \n",
       "2        3   9106  3326     0   3297   3777  9084  15494  18504  15926  ...   \n",
       "3        4  11593  2115  3297      0   1670  7905  16709  16992  18146  ...   \n",
       "4        5  12167  3592  3777   1670      0  9382  17433  15746  18870  ...   \n",
       "\n",
       "    793    794    795    796    797    798    799    800   801  Unnamed: 802  \n",
       "0  9824  15701  16077  16334  15570  15201  22104  13666  8169           NaN  \n",
       "1  4472   9291   8947   8756   8394   8751  13449   3924  4295           NaN  \n",
       "2  7464   6881   7245   7437   6673   6381  13367   5388  7287           NaN  \n",
       "3  6285   7568   7205   7014   6652   7028  11910   2482  6108           NaN  \n",
       "4  7762   6141   5778   5587   5225   5601  10609   2939  7585           NaN  \n",
       "\n",
       "[5 rows x 803 columns]"
      ]
     },
     "execution_count": 48,
     "metadata": {},
     "output_type": "execute_result"
    }
   ],
   "source": [
    "#Check the output is correct\n",
    "j_asym.head()"
   ]
  },
  {
   "cell_type": "code",
   "execution_count": 49,
   "metadata": {},
   "outputs": [
    {
     "data": {
      "text/plain": [
       "(801, 803)"
      ]
     },
     "execution_count": 49,
     "metadata": {},
     "output_type": "execute_result"
    }
   ],
   "source": [
    "j_asym.shape"
   ]
  },
  {
   "cell_type": "markdown",
   "metadata": {},
   "source": [
    "Now that you have a origin destination matrix, we can proceed to estimate spatial access metrics based on these matrices. For this demo's purpose, we will use drive_asym_health_tracts.csv and walk_asym_health_tracts.csv to run the metrics."
   ]
  },
  {
   "cell_type": "code",
   "execution_count": null,
   "metadata": {},
   "outputs": [],
   "source": []
  }
 ],
 "metadata": {
  "kernelspec": {
   "display_name": "Python 3",
   "language": "python",
   "name": "python3"
  },
  "language_info": {
   "codemirror_mode": {
    "name": "ipython",
    "version": 3
   },
   "file_extension": ".py",
   "mimetype": "text/x-python",
   "name": "python",
   "nbconvert_exporter": "python",
   "pygments_lexer": "ipython3",
   "version": "3.7.4"
  }
 },
 "nbformat": 4,
 "nbformat_minor": 2
}
